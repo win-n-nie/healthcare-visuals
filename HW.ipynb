{
 "cells": [
  {
   "cell_type": "code",
   "execution_count": 22,
   "metadata": {},
   "outputs": [],
   "source": [
    "import matplotlib.pyplot as plt"
   ]
  },
  {
   "cell_type": "code",
   "execution_count": 10,
   "metadata": {},
   "outputs": [
    {
     "name": "stdout",
     "output_type": "stream",
     "text": [
      "cell successfully ran\n",
      "0    2021/04/13 03:59:59+00\n",
      "1    2021/02/04 05:00:00+00\n",
      "2    2021/04/14 03:59:59+00\n",
      "3    2021/02/05 05:00:00+00\n",
      "4    2021/04/15 03:59:59+00\n",
      "5    2021/02/06 05:00:00+00\n",
      "6    2021/02/07 05:00:00+00\n",
      "7    2021/04/16 03:59:59+00\n",
      "8    2021/04/17 03:59:59+00\n",
      "9    2021/02/08 05:00:00+00\n",
      "Name: DATESTAMP_MOD, dtype: object\n",
      "object\n"
     ]
    },
    {
     "name": "stderr",
     "output_type": "stream",
     "text": [
      "/Users/wendyarias/opt/anaconda3/lib/python3.9/site-packages/pandas/core/arrays/datetimes.py:1162: UserWarning: Converting to PeriodArray/Index representation will drop timezone information.\n",
      "  warnings.warn(\n",
      "/var/folders/ks/mfgmysmj4ls9xl90wxss5s7r0000gn/T/ipykernel_5341/2558440762.py:48: FutureWarning: Series.dt.weekofyear and Series.dt.week have been deprecated. Please use Series.dt.isocalendar().week instead.\n",
      "  df['DATESTAMP_MOD_WEEK'] = df['DATESTAMP_MOD'].dt.week\n",
      "/Users/wendyarias/opt/anaconda3/lib/python3.9/site-packages/pandas/core/arrays/datetimes.py:1162: UserWarning: Converting to PeriodArray/Index representation will drop timezone information.\n",
      "  warnings.warn(\n"
     ]
    }
   ],
   "source": [
    "import pandas as pd\n",
    "import numpy as np\n",
    "import seaborn as sns\n",
    "import matplotlib.pyplot as plt\n",
    "import plotly.express as px\n",
    "from soupsieve import select\n",
    "\n",
    "sns.set_theme(style='whitegrid')\n",
    "print('cell successfully ran')\n",
    "\n",
    "df = pd.read_csv('https://raw.githubusercontent.com/hantswilliams/AHI_Microcourse_Visualization/main/Data/Georgia_COVID/Georgia_COVID-19_Case_Data.csv')\n",
    "df\n",
    "\n",
    "len(df)\n",
    "df.shape\n",
    "df.info\n",
    "list(df)\n",
    "\n",
    "df['COUNTY']\n",
    "df['COUNTY'].value_counts()\n",
    "df_counties = df['COUNTY'].value_counts()\n",
    "###preview that we want to look at top of frame, specific amoun\n",
    "df_counties.head(10)\n",
    "\n",
    "df['DATESTAMP']\n",
    "\n",
    "## creating a copy of existing column to keep a copy of original version\n",
    "df['DATESTAMP_MOD'] = df['DATESTAMP']\n",
    "print(df['DATESTAMP_MOD'].head(10))\n",
    "print(df['DATESTAMP_MOD'].dtypes)\n",
    "\n",
    "df['DATESTAMP_MOD'] = pd.to_datetime(df['DATESTAMP_MOD'])\n",
    "df['DATESTAMP_MOD'].dtypes\n",
    "\n",
    "df[['DATESTAMP', 'DATESTAMP_MOD']]\n",
    "\n",
    "df['DATESTAMP_MOD_DAY'] = df['DATESTAMP_MOD'].dt.date \n",
    "df['DATESTAMP_MOD_DAY']\n",
    "\n",
    "df['DATESTAMP_MOD_YEAR'] = df['DATESTAMP_MOD'].dt.year\n",
    "df['DATESTAMP_MOD_YEAR']\n",
    "df['DATESTAMP_MOD_MONTH'] = df['DATESTAMP_MOD'].dt.month\n",
    "df['DATESTAMP_MOD_MONTH']\n",
    "\n",
    "df\n",
    "df['DATESTAMP_MOD_MONTH_YEAR'] = df['DATESTAMP_MOD'].dt.to_period('M')\n",
    "df['DATESTAMP_MOD_MONTH_YEAR'].sort_values()\n",
    "df['DATESTAMP_MOD_WEEK'] = df['DATESTAMP_MOD'].dt.week\n",
    "df['DATESTAMP_MOD_WEEK']\n",
    "\n",
    "df['DATESTAMP_MOD_QUARTER'] = df['DATESTAMP_MOD'].dt.to_period('Q')\n",
    "df['DATESTAMP_MOD_QUARTER'].sort_values()\n",
    "\n",
    "df['DATESTAMP_MOD_DAY_STRING'] = df['DATESTAMP_MOD'].astype(str)\n",
    "df['DATESTAMP_MOD_DAY_STRING']\n",
    "df['DATESTAMP_MOD_WEEK_STRING'] = df['DATESTAMP_MOD'].astype(str)\n",
    "df['DATESTAMP_MOD_WEEK_STRING']\n",
    "df['DATETIME_STRING'] =df['DATESTAMP_MOD_MONTH_YEAR'].astype(str)\n"
   ]
  },
  {
   "cell_type": "code",
   "execution_count": 11,
   "metadata": {},
   "outputs": [
    {
     "data": {
      "text/plain": [
       "2830"
      ]
     },
     "execution_count": 11,
     "metadata": {},
     "output_type": "execute_result"
    }
   ],
   "source": [
    "## getting the counties required for our analysis\n",
    "## we know the counties we want to analyze are COBB, dekalb, fulton, gwinnett, hall\n",
    "\n",
    "df['COUNTY']\n",
    "countList = ['COBB', 'DEKALB', 'FULTON', 'GWINNETT', 'HALL']\n",
    "countList\n",
    "\n",
    "selectCounties = df[df['COUNTY'].isin(countList)]\n",
    "len(selectCounties)\n"
   ]
  },
  {
   "cell_type": "code",
   "execution_count": 12,
   "metadata": {},
   "outputs": [
    {
     "data": {
      "text/html": [
       "<div>\n",
       "<style scoped>\n",
       "    .dataframe tbody tr th:only-of-type {\n",
       "        vertical-align: middle;\n",
       "    }\n",
       "\n",
       "    .dataframe tbody tr th {\n",
       "        vertical-align: top;\n",
       "    }\n",
       "\n",
       "    .dataframe thead th {\n",
       "        text-align: right;\n",
       "    }\n",
       "</style>\n",
       "<table border=\"1\" class=\"dataframe\">\n",
       "  <thead>\n",
       "    <tr style=\"text-align: right;\">\n",
       "      <th></th>\n",
       "      <th>OBJECTID</th>\n",
       "      <th>COUNTY</th>\n",
       "      <th>CNTY_FIPS</th>\n",
       "      <th>DATESTAMP</th>\n",
       "      <th>C_New</th>\n",
       "      <th>C_Cum</th>\n",
       "      <th>D_New</th>\n",
       "      <th>D_Cum</th>\n",
       "      <th>H_New</th>\n",
       "      <th>H_Cum</th>\n",
       "      <th>...</th>\n",
       "      <th>DATESTAMP_MOD</th>\n",
       "      <th>DATESTAMP_MOD_DAY</th>\n",
       "      <th>DATESTAMP_MOD_YEAR</th>\n",
       "      <th>DATESTAMP_MOD_MONTH</th>\n",
       "      <th>DATESTAMP_MOD_MONTH_YEAR</th>\n",
       "      <th>DATESTAMP_MOD_WEEK</th>\n",
       "      <th>DATESTAMP_MOD_QUARTER</th>\n",
       "      <th>DATESTAMP_MOD_DAY_STRING</th>\n",
       "      <th>DATESTAMP_MOD_WEEK_STRING</th>\n",
       "      <th>DATETIME_STRING</th>\n",
       "    </tr>\n",
       "  </thead>\n",
       "  <tbody>\n",
       "    <tr>\n",
       "      <th>7464</th>\n",
       "      <td>7465</td>\n",
       "      <td>FULTON</td>\n",
       "      <td>5049</td>\n",
       "      <td>2020/04/01 03:59:59+00</td>\n",
       "      <td>97</td>\n",
       "      <td>1499</td>\n",
       "      <td>10</td>\n",
       "      <td>109</td>\n",
       "      <td>22</td>\n",
       "      <td>460</td>\n",
       "      <td>...</td>\n",
       "      <td>2020-04-01 03:59:59+00:00</td>\n",
       "      <td>2020-04-01</td>\n",
       "      <td>2020</td>\n",
       "      <td>4</td>\n",
       "      <td>2020-04</td>\n",
       "      <td>14</td>\n",
       "      <td>2020Q2</td>\n",
       "      <td>2020-04-01 03:59:59+00:00</td>\n",
       "      <td>2020-04-01 03:59:59+00:00</td>\n",
       "      <td>2020-04</td>\n",
       "    </tr>\n",
       "    <tr>\n",
       "      <th>7465</th>\n",
       "      <td>7466</td>\n",
       "      <td>FULTON</td>\n",
       "      <td>5049</td>\n",
       "      <td>2020/04/02 03:59:59+00</td>\n",
       "      <td>50</td>\n",
       "      <td>1549</td>\n",
       "      <td>3</td>\n",
       "      <td>112</td>\n",
       "      <td>9</td>\n",
       "      <td>469</td>\n",
       "      <td>...</td>\n",
       "      <td>2020-04-02 03:59:59+00:00</td>\n",
       "      <td>2020-04-02</td>\n",
       "      <td>2020</td>\n",
       "      <td>4</td>\n",
       "      <td>2020-04</td>\n",
       "      <td>14</td>\n",
       "      <td>2020Q2</td>\n",
       "      <td>2020-04-02 03:59:59+00:00</td>\n",
       "      <td>2020-04-02 03:59:59+00:00</td>\n",
       "      <td>2020-04</td>\n",
       "    </tr>\n",
       "    <tr>\n",
       "      <th>7466</th>\n",
       "      <td>7467</td>\n",
       "      <td>FULTON</td>\n",
       "      <td>5049</td>\n",
       "      <td>2020/04/03 03:59:59+00</td>\n",
       "      <td>68</td>\n",
       "      <td>1617</td>\n",
       "      <td>10</td>\n",
       "      <td>122</td>\n",
       "      <td>17</td>\n",
       "      <td>486</td>\n",
       "      <td>...</td>\n",
       "      <td>2020-04-03 03:59:59+00:00</td>\n",
       "      <td>2020-04-03</td>\n",
       "      <td>2020</td>\n",
       "      <td>4</td>\n",
       "      <td>2020-04</td>\n",
       "      <td>14</td>\n",
       "      <td>2020Q2</td>\n",
       "      <td>2020-04-03 03:59:59+00:00</td>\n",
       "      <td>2020-04-03 03:59:59+00:00</td>\n",
       "      <td>2020-04</td>\n",
       "    </tr>\n",
       "    <tr>\n",
       "      <th>7467</th>\n",
       "      <td>7468</td>\n",
       "      <td>FULTON</td>\n",
       "      <td>5049</td>\n",
       "      <td>2020/04/04 03:59:59+00</td>\n",
       "      <td>38</td>\n",
       "      <td>1655</td>\n",
       "      <td>5</td>\n",
       "      <td>127</td>\n",
       "      <td>10</td>\n",
       "      <td>496</td>\n",
       "      <td>...</td>\n",
       "      <td>2020-04-04 03:59:59+00:00</td>\n",
       "      <td>2020-04-04</td>\n",
       "      <td>2020</td>\n",
       "      <td>4</td>\n",
       "      <td>2020-04</td>\n",
       "      <td>14</td>\n",
       "      <td>2020Q2</td>\n",
       "      <td>2020-04-04 03:59:59+00:00</td>\n",
       "      <td>2020-04-04 03:59:59+00:00</td>\n",
       "      <td>2020-04</td>\n",
       "    </tr>\n",
       "    <tr>\n",
       "      <th>7468</th>\n",
       "      <td>7469</td>\n",
       "      <td>FULTON</td>\n",
       "      <td>5049</td>\n",
       "      <td>2020/04/05 03:59:59+00</td>\n",
       "      <td>30</td>\n",
       "      <td>1685</td>\n",
       "      <td>1</td>\n",
       "      <td>128</td>\n",
       "      <td>12</td>\n",
       "      <td>508</td>\n",
       "      <td>...</td>\n",
       "      <td>2020-04-05 03:59:59+00:00</td>\n",
       "      <td>2020-04-05</td>\n",
       "      <td>2020</td>\n",
       "      <td>4</td>\n",
       "      <td>2020-04</td>\n",
       "      <td>14</td>\n",
       "      <td>2020Q2</td>\n",
       "      <td>2020-04-05 03:59:59+00:00</td>\n",
       "      <td>2020-04-05 03:59:59+00:00</td>\n",
       "      <td>2020-04</td>\n",
       "    </tr>\n",
       "    <tr>\n",
       "      <th>7469</th>\n",
       "      <td>7470</td>\n",
       "      <td>FULTON</td>\n",
       "      <td>5049</td>\n",
       "      <td>2020/04/06 03:59:59+00</td>\n",
       "      <td>62</td>\n",
       "      <td>1747</td>\n",
       "      <td>0</td>\n",
       "      <td>128</td>\n",
       "      <td>11</td>\n",
       "      <td>519</td>\n",
       "      <td>...</td>\n",
       "      <td>2020-04-06 03:59:59+00:00</td>\n",
       "      <td>2020-04-06</td>\n",
       "      <td>2020</td>\n",
       "      <td>4</td>\n",
       "      <td>2020-04</td>\n",
       "      <td>15</td>\n",
       "      <td>2020Q2</td>\n",
       "      <td>2020-04-06 03:59:59+00:00</td>\n",
       "      <td>2020-04-06 03:59:59+00:00</td>\n",
       "      <td>2020-04</td>\n",
       "    </tr>\n",
       "    <tr>\n",
       "      <th>7470</th>\n",
       "      <td>7471</td>\n",
       "      <td>FULTON</td>\n",
       "      <td>5049</td>\n",
       "      <td>2020/04/07 03:59:59+00</td>\n",
       "      <td>77</td>\n",
       "      <td>1824</td>\n",
       "      <td>7</td>\n",
       "      <td>135</td>\n",
       "      <td>11</td>\n",
       "      <td>530</td>\n",
       "      <td>...</td>\n",
       "      <td>2020-04-07 03:59:59+00:00</td>\n",
       "      <td>2020-04-07</td>\n",
       "      <td>2020</td>\n",
       "      <td>4</td>\n",
       "      <td>2020-04</td>\n",
       "      <td>15</td>\n",
       "      <td>2020Q2</td>\n",
       "      <td>2020-04-07 03:59:59+00:00</td>\n",
       "      <td>2020-04-07 03:59:59+00:00</td>\n",
       "      <td>2020-04</td>\n",
       "    </tr>\n",
       "    <tr>\n",
       "      <th>7471</th>\n",
       "      <td>7472</td>\n",
       "      <td>FULTON</td>\n",
       "      <td>5049</td>\n",
       "      <td>2020/04/08 03:59:59+00</td>\n",
       "      <td>69</td>\n",
       "      <td>1893</td>\n",
       "      <td>5</td>\n",
       "      <td>140</td>\n",
       "      <td>13</td>\n",
       "      <td>543</td>\n",
       "      <td>...</td>\n",
       "      <td>2020-04-08 03:59:59+00:00</td>\n",
       "      <td>2020-04-08</td>\n",
       "      <td>2020</td>\n",
       "      <td>4</td>\n",
       "      <td>2020-04</td>\n",
       "      <td>15</td>\n",
       "      <td>2020Q2</td>\n",
       "      <td>2020-04-08 03:59:59+00:00</td>\n",
       "      <td>2020-04-08 03:59:59+00:00</td>\n",
       "      <td>2020-04</td>\n",
       "    </tr>\n",
       "    <tr>\n",
       "      <th>7472</th>\n",
       "      <td>7473</td>\n",
       "      <td>FULTON</td>\n",
       "      <td>5049</td>\n",
       "      <td>2020/04/09 03:59:59+00</td>\n",
       "      <td>59</td>\n",
       "      <td>1952</td>\n",
       "      <td>4</td>\n",
       "      <td>144</td>\n",
       "      <td>7</td>\n",
       "      <td>550</td>\n",
       "      <td>...</td>\n",
       "      <td>2020-04-09 03:59:59+00:00</td>\n",
       "      <td>2020-04-09</td>\n",
       "      <td>2020</td>\n",
       "      <td>4</td>\n",
       "      <td>2020-04</td>\n",
       "      <td>15</td>\n",
       "      <td>2020Q2</td>\n",
       "      <td>2020-04-09 03:59:59+00:00</td>\n",
       "      <td>2020-04-09 03:59:59+00:00</td>\n",
       "      <td>2020-04</td>\n",
       "    </tr>\n",
       "    <tr>\n",
       "      <th>7473</th>\n",
       "      <td>7474</td>\n",
       "      <td>FULTON</td>\n",
       "      <td>5049</td>\n",
       "      <td>2020/04/10 03:59:59+00</td>\n",
       "      <td>55</td>\n",
       "      <td>2007</td>\n",
       "      <td>3</td>\n",
       "      <td>147</td>\n",
       "      <td>10</td>\n",
       "      <td>560</td>\n",
       "      <td>...</td>\n",
       "      <td>2020-04-10 03:59:59+00:00</td>\n",
       "      <td>2020-04-10</td>\n",
       "      <td>2020</td>\n",
       "      <td>4</td>\n",
       "      <td>2020-04</td>\n",
       "      <td>15</td>\n",
       "      <td>2020Q2</td>\n",
       "      <td>2020-04-10 03:59:59+00:00</td>\n",
       "      <td>2020-04-10 03:59:59+00:00</td>\n",
       "      <td>2020-04</td>\n",
       "    </tr>\n",
       "    <tr>\n",
       "      <th>7474</th>\n",
       "      <td>7475</td>\n",
       "      <td>FULTON</td>\n",
       "      <td>5049</td>\n",
       "      <td>2020/04/11 03:59:59+00</td>\n",
       "      <td>53</td>\n",
       "      <td>2060</td>\n",
       "      <td>10</td>\n",
       "      <td>157</td>\n",
       "      <td>20</td>\n",
       "      <td>580</td>\n",
       "      <td>...</td>\n",
       "      <td>2020-04-11 03:59:59+00:00</td>\n",
       "      <td>2020-04-11</td>\n",
       "      <td>2020</td>\n",
       "      <td>4</td>\n",
       "      <td>2020-04</td>\n",
       "      <td>15</td>\n",
       "      <td>2020Q2</td>\n",
       "      <td>2020-04-11 03:59:59+00:00</td>\n",
       "      <td>2020-04-11 03:59:59+00:00</td>\n",
       "      <td>2020-04</td>\n",
       "    </tr>\n",
       "    <tr>\n",
       "      <th>7475</th>\n",
       "      <td>7476</td>\n",
       "      <td>FULTON</td>\n",
       "      <td>5049</td>\n",
       "      <td>2020/04/12 03:59:59+00</td>\n",
       "      <td>39</td>\n",
       "      <td>2099</td>\n",
       "      <td>4</td>\n",
       "      <td>161</td>\n",
       "      <td>8</td>\n",
       "      <td>588</td>\n",
       "      <td>...</td>\n",
       "      <td>2020-04-12 03:59:59+00:00</td>\n",
       "      <td>2020-04-12</td>\n",
       "      <td>2020</td>\n",
       "      <td>4</td>\n",
       "      <td>2020-04</td>\n",
       "      <td>15</td>\n",
       "      <td>2020Q2</td>\n",
       "      <td>2020-04-12 03:59:59+00:00</td>\n",
       "      <td>2020-04-12 03:59:59+00:00</td>\n",
       "      <td>2020-04</td>\n",
       "    </tr>\n",
       "    <tr>\n",
       "      <th>7476</th>\n",
       "      <td>7477</td>\n",
       "      <td>FULTON</td>\n",
       "      <td>5049</td>\n",
       "      <td>2020/04/13 03:59:59+00</td>\n",
       "      <td>54</td>\n",
       "      <td>2153</td>\n",
       "      <td>8</td>\n",
       "      <td>169</td>\n",
       "      <td>9</td>\n",
       "      <td>597</td>\n",
       "      <td>...</td>\n",
       "      <td>2020-04-13 03:59:59+00:00</td>\n",
       "      <td>2020-04-13</td>\n",
       "      <td>2020</td>\n",
       "      <td>4</td>\n",
       "      <td>2020-04</td>\n",
       "      <td>16</td>\n",
       "      <td>2020Q2</td>\n",
       "      <td>2020-04-13 03:59:59+00:00</td>\n",
       "      <td>2020-04-13 03:59:59+00:00</td>\n",
       "      <td>2020-04</td>\n",
       "    </tr>\n",
       "    <tr>\n",
       "      <th>7477</th>\n",
       "      <td>7478</td>\n",
       "      <td>FULTON</td>\n",
       "      <td>5049</td>\n",
       "      <td>2020/04/14 03:59:59+00</td>\n",
       "      <td>60</td>\n",
       "      <td>2213</td>\n",
       "      <td>7</td>\n",
       "      <td>176</td>\n",
       "      <td>13</td>\n",
       "      <td>610</td>\n",
       "      <td>...</td>\n",
       "      <td>2020-04-14 03:59:59+00:00</td>\n",
       "      <td>2020-04-14</td>\n",
       "      <td>2020</td>\n",
       "      <td>4</td>\n",
       "      <td>2020-04</td>\n",
       "      <td>16</td>\n",
       "      <td>2020Q2</td>\n",
       "      <td>2020-04-14 03:59:59+00:00</td>\n",
       "      <td>2020-04-14 03:59:59+00:00</td>\n",
       "      <td>2020-04</td>\n",
       "    </tr>\n",
       "    <tr>\n",
       "      <th>7478</th>\n",
       "      <td>7479</td>\n",
       "      <td>FULTON</td>\n",
       "      <td>5049</td>\n",
       "      <td>2020/04/15 03:59:59+00</td>\n",
       "      <td>83</td>\n",
       "      <td>2296</td>\n",
       "      <td>6</td>\n",
       "      <td>182</td>\n",
       "      <td>14</td>\n",
       "      <td>624</td>\n",
       "      <td>...</td>\n",
       "      <td>2020-04-15 03:59:59+00:00</td>\n",
       "      <td>2020-04-15</td>\n",
       "      <td>2020</td>\n",
       "      <td>4</td>\n",
       "      <td>2020-04</td>\n",
       "      <td>16</td>\n",
       "      <td>2020Q2</td>\n",
       "      <td>2020-04-15 03:59:59+00:00</td>\n",
       "      <td>2020-04-15 03:59:59+00:00</td>\n",
       "      <td>2020-04</td>\n",
       "    </tr>\n",
       "    <tr>\n",
       "      <th>7479</th>\n",
       "      <td>7480</td>\n",
       "      <td>FULTON</td>\n",
       "      <td>5049</td>\n",
       "      <td>2020/04/16 03:59:59+00</td>\n",
       "      <td>57</td>\n",
       "      <td>2353</td>\n",
       "      <td>6</td>\n",
       "      <td>188</td>\n",
       "      <td>12</td>\n",
       "      <td>636</td>\n",
       "      <td>...</td>\n",
       "      <td>2020-04-16 03:59:59+00:00</td>\n",
       "      <td>2020-04-16</td>\n",
       "      <td>2020</td>\n",
       "      <td>4</td>\n",
       "      <td>2020-04</td>\n",
       "      <td>16</td>\n",
       "      <td>2020Q2</td>\n",
       "      <td>2020-04-16 03:59:59+00:00</td>\n",
       "      <td>2020-04-16 03:59:59+00:00</td>\n",
       "      <td>2020-04</td>\n",
       "    </tr>\n",
       "    <tr>\n",
       "      <th>7480</th>\n",
       "      <td>7481</td>\n",
       "      <td>FULTON</td>\n",
       "      <td>5049</td>\n",
       "      <td>2020/04/17 03:59:59+00</td>\n",
       "      <td>67</td>\n",
       "      <td>2420</td>\n",
       "      <td>4</td>\n",
       "      <td>192</td>\n",
       "      <td>12</td>\n",
       "      <td>648</td>\n",
       "      <td>...</td>\n",
       "      <td>2020-04-17 03:59:59+00:00</td>\n",
       "      <td>2020-04-17</td>\n",
       "      <td>2020</td>\n",
       "      <td>4</td>\n",
       "      <td>2020-04</td>\n",
       "      <td>16</td>\n",
       "      <td>2020Q2</td>\n",
       "      <td>2020-04-17 03:59:59+00:00</td>\n",
       "      <td>2020-04-17 03:59:59+00:00</td>\n",
       "      <td>2020-04</td>\n",
       "    </tr>\n",
       "    <tr>\n",
       "      <th>7481</th>\n",
       "      <td>7482</td>\n",
       "      <td>FULTON</td>\n",
       "      <td>5049</td>\n",
       "      <td>2020/04/18 03:59:59+00</td>\n",
       "      <td>39</td>\n",
       "      <td>2459</td>\n",
       "      <td>1</td>\n",
       "      <td>193</td>\n",
       "      <td>9</td>\n",
       "      <td>657</td>\n",
       "      <td>...</td>\n",
       "      <td>2020-04-18 03:59:59+00:00</td>\n",
       "      <td>2020-04-18</td>\n",
       "      <td>2020</td>\n",
       "      <td>4</td>\n",
       "      <td>2020-04</td>\n",
       "      <td>16</td>\n",
       "      <td>2020Q2</td>\n",
       "      <td>2020-04-18 03:59:59+00:00</td>\n",
       "      <td>2020-04-18 03:59:59+00:00</td>\n",
       "      <td>2020-04</td>\n",
       "    </tr>\n",
       "    <tr>\n",
       "      <th>7482</th>\n",
       "      <td>7483</td>\n",
       "      <td>FULTON</td>\n",
       "      <td>5049</td>\n",
       "      <td>2020/04/19 03:59:59+00</td>\n",
       "      <td>73</td>\n",
       "      <td>2532</td>\n",
       "      <td>6</td>\n",
       "      <td>199</td>\n",
       "      <td>10</td>\n",
       "      <td>667</td>\n",
       "      <td>...</td>\n",
       "      <td>2020-04-19 03:59:59+00:00</td>\n",
       "      <td>2020-04-19</td>\n",
       "      <td>2020</td>\n",
       "      <td>4</td>\n",
       "      <td>2020-04</td>\n",
       "      <td>16</td>\n",
       "      <td>2020Q2</td>\n",
       "      <td>2020-04-19 03:59:59+00:00</td>\n",
       "      <td>2020-04-19 03:59:59+00:00</td>\n",
       "      <td>2020-04</td>\n",
       "    </tr>\n",
       "    <tr>\n",
       "      <th>7483</th>\n",
       "      <td>7484</td>\n",
       "      <td>FULTON</td>\n",
       "      <td>5049</td>\n",
       "      <td>2020/04/20 03:59:59+00</td>\n",
       "      <td>84</td>\n",
       "      <td>2616</td>\n",
       "      <td>13</td>\n",
       "      <td>212</td>\n",
       "      <td>20</td>\n",
       "      <td>687</td>\n",
       "      <td>...</td>\n",
       "      <td>2020-04-20 03:59:59+00:00</td>\n",
       "      <td>2020-04-20</td>\n",
       "      <td>2020</td>\n",
       "      <td>4</td>\n",
       "      <td>2020-04</td>\n",
       "      <td>17</td>\n",
       "      <td>2020Q2</td>\n",
       "      <td>2020-04-20 03:59:59+00:00</td>\n",
       "      <td>2020-04-20 03:59:59+00:00</td>\n",
       "      <td>2020-04</td>\n",
       "    </tr>\n",
       "    <tr>\n",
       "      <th>7484</th>\n",
       "      <td>7485</td>\n",
       "      <td>FULTON</td>\n",
       "      <td>5049</td>\n",
       "      <td>2020/04/21 03:59:59+00</td>\n",
       "      <td>60</td>\n",
       "      <td>2676</td>\n",
       "      <td>4</td>\n",
       "      <td>216</td>\n",
       "      <td>17</td>\n",
       "      <td>704</td>\n",
       "      <td>...</td>\n",
       "      <td>2020-04-21 03:59:59+00:00</td>\n",
       "      <td>2020-04-21</td>\n",
       "      <td>2020</td>\n",
       "      <td>4</td>\n",
       "      <td>2020-04</td>\n",
       "      <td>17</td>\n",
       "      <td>2020Q2</td>\n",
       "      <td>2020-04-21 03:59:59+00:00</td>\n",
       "      <td>2020-04-21 03:59:59+00:00</td>\n",
       "      <td>2020-04</td>\n",
       "    </tr>\n",
       "    <tr>\n",
       "      <th>7485</th>\n",
       "      <td>7486</td>\n",
       "      <td>FULTON</td>\n",
       "      <td>5049</td>\n",
       "      <td>2020/04/22 03:59:59+00</td>\n",
       "      <td>59</td>\n",
       "      <td>2735</td>\n",
       "      <td>5</td>\n",
       "      <td>221</td>\n",
       "      <td>12</td>\n",
       "      <td>716</td>\n",
       "      <td>...</td>\n",
       "      <td>2020-04-22 03:59:59+00:00</td>\n",
       "      <td>2020-04-22</td>\n",
       "      <td>2020</td>\n",
       "      <td>4</td>\n",
       "      <td>2020-04</td>\n",
       "      <td>17</td>\n",
       "      <td>2020Q2</td>\n",
       "      <td>2020-04-22 03:59:59+00:00</td>\n",
       "      <td>2020-04-22 03:59:59+00:00</td>\n",
       "      <td>2020-04</td>\n",
       "    </tr>\n",
       "    <tr>\n",
       "      <th>7486</th>\n",
       "      <td>7487</td>\n",
       "      <td>FULTON</td>\n",
       "      <td>5049</td>\n",
       "      <td>2020/04/23 03:59:59+00</td>\n",
       "      <td>35</td>\n",
       "      <td>2770</td>\n",
       "      <td>7</td>\n",
       "      <td>228</td>\n",
       "      <td>9</td>\n",
       "      <td>725</td>\n",
       "      <td>...</td>\n",
       "      <td>2020-04-23 03:59:59+00:00</td>\n",
       "      <td>2020-04-23</td>\n",
       "      <td>2020</td>\n",
       "      <td>4</td>\n",
       "      <td>2020-04</td>\n",
       "      <td>17</td>\n",
       "      <td>2020Q2</td>\n",
       "      <td>2020-04-23 03:59:59+00:00</td>\n",
       "      <td>2020-04-23 03:59:59+00:00</td>\n",
       "      <td>2020-04</td>\n",
       "    </tr>\n",
       "    <tr>\n",
       "      <th>7487</th>\n",
       "      <td>7488</td>\n",
       "      <td>FULTON</td>\n",
       "      <td>5049</td>\n",
       "      <td>2020/04/24 03:59:59+00</td>\n",
       "      <td>65</td>\n",
       "      <td>2835</td>\n",
       "      <td>7</td>\n",
       "      <td>235</td>\n",
       "      <td>9</td>\n",
       "      <td>734</td>\n",
       "      <td>...</td>\n",
       "      <td>2020-04-24 03:59:59+00:00</td>\n",
       "      <td>2020-04-24</td>\n",
       "      <td>2020</td>\n",
       "      <td>4</td>\n",
       "      <td>2020-04</td>\n",
       "      <td>17</td>\n",
       "      <td>2020Q2</td>\n",
       "      <td>2020-04-24 03:59:59+00:00</td>\n",
       "      <td>2020-04-24 03:59:59+00:00</td>\n",
       "      <td>2020-04</td>\n",
       "    </tr>\n",
       "    <tr>\n",
       "      <th>7488</th>\n",
       "      <td>7489</td>\n",
       "      <td>FULTON</td>\n",
       "      <td>5049</td>\n",
       "      <td>2020/04/25 03:59:59+00</td>\n",
       "      <td>39</td>\n",
       "      <td>2874</td>\n",
       "      <td>3</td>\n",
       "      <td>238</td>\n",
       "      <td>8</td>\n",
       "      <td>742</td>\n",
       "      <td>...</td>\n",
       "      <td>2020-04-25 03:59:59+00:00</td>\n",
       "      <td>2020-04-25</td>\n",
       "      <td>2020</td>\n",
       "      <td>4</td>\n",
       "      <td>2020-04</td>\n",
       "      <td>17</td>\n",
       "      <td>2020Q2</td>\n",
       "      <td>2020-04-25 03:59:59+00:00</td>\n",
       "      <td>2020-04-25 03:59:59+00:00</td>\n",
       "      <td>2020-04</td>\n",
       "    </tr>\n",
       "    <tr>\n",
       "      <th>7489</th>\n",
       "      <td>7490</td>\n",
       "      <td>FULTON</td>\n",
       "      <td>5049</td>\n",
       "      <td>2020/04/26 03:59:59+00</td>\n",
       "      <td>36</td>\n",
       "      <td>2910</td>\n",
       "      <td>6</td>\n",
       "      <td>244</td>\n",
       "      <td>10</td>\n",
       "      <td>752</td>\n",
       "      <td>...</td>\n",
       "      <td>2020-04-26 03:59:59+00:00</td>\n",
       "      <td>2020-04-26</td>\n",
       "      <td>2020</td>\n",
       "      <td>4</td>\n",
       "      <td>2020-04</td>\n",
       "      <td>17</td>\n",
       "      <td>2020Q2</td>\n",
       "      <td>2020-04-26 03:59:59+00:00</td>\n",
       "      <td>2020-04-26 03:59:59+00:00</td>\n",
       "      <td>2020-04</td>\n",
       "    </tr>\n",
       "    <tr>\n",
       "      <th>7490</th>\n",
       "      <td>7491</td>\n",
       "      <td>FULTON</td>\n",
       "      <td>5049</td>\n",
       "      <td>2020/04/27 03:59:59+00</td>\n",
       "      <td>51</td>\n",
       "      <td>2961</td>\n",
       "      <td>4</td>\n",
       "      <td>248</td>\n",
       "      <td>8</td>\n",
       "      <td>760</td>\n",
       "      <td>...</td>\n",
       "      <td>2020-04-27 03:59:59+00:00</td>\n",
       "      <td>2020-04-27</td>\n",
       "      <td>2020</td>\n",
       "      <td>4</td>\n",
       "      <td>2020-04</td>\n",
       "      <td>18</td>\n",
       "      <td>2020Q2</td>\n",
       "      <td>2020-04-27 03:59:59+00:00</td>\n",
       "      <td>2020-04-27 03:59:59+00:00</td>\n",
       "      <td>2020-04</td>\n",
       "    </tr>\n",
       "    <tr>\n",
       "      <th>7491</th>\n",
       "      <td>7492</td>\n",
       "      <td>FULTON</td>\n",
       "      <td>5049</td>\n",
       "      <td>2020/04/28 03:59:59+00</td>\n",
       "      <td>77</td>\n",
       "      <td>3038</td>\n",
       "      <td>3</td>\n",
       "      <td>251</td>\n",
       "      <td>10</td>\n",
       "      <td>770</td>\n",
       "      <td>...</td>\n",
       "      <td>2020-04-28 03:59:59+00:00</td>\n",
       "      <td>2020-04-28</td>\n",
       "      <td>2020</td>\n",
       "      <td>4</td>\n",
       "      <td>2020-04</td>\n",
       "      <td>18</td>\n",
       "      <td>2020Q2</td>\n",
       "      <td>2020-04-28 03:59:59+00:00</td>\n",
       "      <td>2020-04-28 03:59:59+00:00</td>\n",
       "      <td>2020-04</td>\n",
       "    </tr>\n",
       "    <tr>\n",
       "      <th>7492</th>\n",
       "      <td>7493</td>\n",
       "      <td>FULTON</td>\n",
       "      <td>5049</td>\n",
       "      <td>2020/04/29 03:59:59+00</td>\n",
       "      <td>78</td>\n",
       "      <td>3116</td>\n",
       "      <td>8</td>\n",
       "      <td>259</td>\n",
       "      <td>17</td>\n",
       "      <td>787</td>\n",
       "      <td>...</td>\n",
       "      <td>2020-04-29 03:59:59+00:00</td>\n",
       "      <td>2020-04-29</td>\n",
       "      <td>2020</td>\n",
       "      <td>4</td>\n",
       "      <td>2020-04</td>\n",
       "      <td>18</td>\n",
       "      <td>2020Q2</td>\n",
       "      <td>2020-04-29 03:59:59+00:00</td>\n",
       "      <td>2020-04-29 03:59:59+00:00</td>\n",
       "      <td>2020-04</td>\n",
       "    </tr>\n",
       "    <tr>\n",
       "      <th>7493</th>\n",
       "      <td>7494</td>\n",
       "      <td>FULTON</td>\n",
       "      <td>5049</td>\n",
       "      <td>2020/04/30 03:59:59+00</td>\n",
       "      <td>73</td>\n",
       "      <td>3189</td>\n",
       "      <td>5</td>\n",
       "      <td>264</td>\n",
       "      <td>5</td>\n",
       "      <td>792</td>\n",
       "      <td>...</td>\n",
       "      <td>2020-04-30 03:59:59+00:00</td>\n",
       "      <td>2020-04-30</td>\n",
       "      <td>2020</td>\n",
       "      <td>4</td>\n",
       "      <td>2020-04</td>\n",
       "      <td>18</td>\n",
       "      <td>2020Q2</td>\n",
       "      <td>2020-04-30 03:59:59+00:00</td>\n",
       "      <td>2020-04-30 03:59:59+00:00</td>\n",
       "      <td>2020-04</td>\n",
       "    </tr>\n",
       "    <tr>\n",
       "      <th>7494</th>\n",
       "      <td>7495</td>\n",
       "      <td>FULTON</td>\n",
       "      <td>5049</td>\n",
       "      <td>2020/05/01 03:59:59+00</td>\n",
       "      <td>54</td>\n",
       "      <td>3243</td>\n",
       "      <td>4</td>\n",
       "      <td>268</td>\n",
       "      <td>15</td>\n",
       "      <td>807</td>\n",
       "      <td>...</td>\n",
       "      <td>2020-05-01 03:59:59+00:00</td>\n",
       "      <td>2020-05-01</td>\n",
       "      <td>2020</td>\n",
       "      <td>5</td>\n",
       "      <td>2020-05</td>\n",
       "      <td>18</td>\n",
       "      <td>2020Q2</td>\n",
       "      <td>2020-05-01 03:59:59+00:00</td>\n",
       "      <td>2020-05-01 03:59:59+00:00</td>\n",
       "      <td>2020-05</td>\n",
       "    </tr>\n",
       "    <tr>\n",
       "      <th>7495</th>\n",
       "      <td>7496</td>\n",
       "      <td>FULTON</td>\n",
       "      <td>5049</td>\n",
       "      <td>2020/05/02 03:59:59+00</td>\n",
       "      <td>29</td>\n",
       "      <td>3272</td>\n",
       "      <td>3</td>\n",
       "      <td>271</td>\n",
       "      <td>4</td>\n",
       "      <td>811</td>\n",
       "      <td>...</td>\n",
       "      <td>2020-05-02 03:59:59+00:00</td>\n",
       "      <td>2020-05-02</td>\n",
       "      <td>2020</td>\n",
       "      <td>5</td>\n",
       "      <td>2020-05</td>\n",
       "      <td>18</td>\n",
       "      <td>2020Q2</td>\n",
       "      <td>2020-05-02 03:59:59+00:00</td>\n",
       "      <td>2020-05-02 03:59:59+00:00</td>\n",
       "      <td>2020-05</td>\n",
       "    </tr>\n",
       "    <tr>\n",
       "      <th>7496</th>\n",
       "      <td>7497</td>\n",
       "      <td>FULTON</td>\n",
       "      <td>5049</td>\n",
       "      <td>2020/05/03 03:59:59+00</td>\n",
       "      <td>33</td>\n",
       "      <td>3305</td>\n",
       "      <td>6</td>\n",
       "      <td>277</td>\n",
       "      <td>8</td>\n",
       "      <td>819</td>\n",
       "      <td>...</td>\n",
       "      <td>2020-05-03 03:59:59+00:00</td>\n",
       "      <td>2020-05-03</td>\n",
       "      <td>2020</td>\n",
       "      <td>5</td>\n",
       "      <td>2020-05</td>\n",
       "      <td>18</td>\n",
       "      <td>2020Q2</td>\n",
       "      <td>2020-05-03 03:59:59+00:00</td>\n",
       "      <td>2020-05-03 03:59:59+00:00</td>\n",
       "      <td>2020-05</td>\n",
       "    </tr>\n",
       "    <tr>\n",
       "      <th>7497</th>\n",
       "      <td>7498</td>\n",
       "      <td>FULTON</td>\n",
       "      <td>5049</td>\n",
       "      <td>2020/05/04 03:59:59+00</td>\n",
       "      <td>47</td>\n",
       "      <td>3352</td>\n",
       "      <td>3</td>\n",
       "      <td>280</td>\n",
       "      <td>7</td>\n",
       "      <td>826</td>\n",
       "      <td>...</td>\n",
       "      <td>2020-05-04 03:59:59+00:00</td>\n",
       "      <td>2020-05-04</td>\n",
       "      <td>2020</td>\n",
       "      <td>5</td>\n",
       "      <td>2020-05</td>\n",
       "      <td>19</td>\n",
       "      <td>2020Q2</td>\n",
       "      <td>2020-05-04 03:59:59+00:00</td>\n",
       "      <td>2020-05-04 03:59:59+00:00</td>\n",
       "      <td>2020-05</td>\n",
       "    </tr>\n",
       "    <tr>\n",
       "      <th>7498</th>\n",
       "      <td>7499</td>\n",
       "      <td>FULTON</td>\n",
       "      <td>5049</td>\n",
       "      <td>2020/05/05 03:59:59+00</td>\n",
       "      <td>60</td>\n",
       "      <td>3412</td>\n",
       "      <td>1</td>\n",
       "      <td>281</td>\n",
       "      <td>5</td>\n",
       "      <td>831</td>\n",
       "      <td>...</td>\n",
       "      <td>2020-05-05 03:59:59+00:00</td>\n",
       "      <td>2020-05-05</td>\n",
       "      <td>2020</td>\n",
       "      <td>5</td>\n",
       "      <td>2020-05</td>\n",
       "      <td>19</td>\n",
       "      <td>2020Q2</td>\n",
       "      <td>2020-05-05 03:59:59+00:00</td>\n",
       "      <td>2020-05-05 03:59:59+00:00</td>\n",
       "      <td>2020-05</td>\n",
       "    </tr>\n",
       "    <tr>\n",
       "      <th>7499</th>\n",
       "      <td>7500</td>\n",
       "      <td>FULTON</td>\n",
       "      <td>5049</td>\n",
       "      <td>2020/05/06 03:59:59+00</td>\n",
       "      <td>58</td>\n",
       "      <td>3470</td>\n",
       "      <td>4</td>\n",
       "      <td>285</td>\n",
       "      <td>8</td>\n",
       "      <td>839</td>\n",
       "      <td>...</td>\n",
       "      <td>2020-05-06 03:59:59+00:00</td>\n",
       "      <td>2020-05-06</td>\n",
       "      <td>2020</td>\n",
       "      <td>5</td>\n",
       "      <td>2020-05</td>\n",
       "      <td>19</td>\n",
       "      <td>2020Q2</td>\n",
       "      <td>2020-05-06 03:59:59+00:00</td>\n",
       "      <td>2020-05-06 03:59:59+00:00</td>\n",
       "      <td>2020-05</td>\n",
       "    </tr>\n",
       "    <tr>\n",
       "      <th>7500</th>\n",
       "      <td>7501</td>\n",
       "      <td>FULTON</td>\n",
       "      <td>5049</td>\n",
       "      <td>2020/05/07 03:59:59+00</td>\n",
       "      <td>75</td>\n",
       "      <td>3545</td>\n",
       "      <td>1</td>\n",
       "      <td>286</td>\n",
       "      <td>1</td>\n",
       "      <td>840</td>\n",
       "      <td>...</td>\n",
       "      <td>2020-05-07 03:59:59+00:00</td>\n",
       "      <td>2020-05-07</td>\n",
       "      <td>2020</td>\n",
       "      <td>5</td>\n",
       "      <td>2020-05</td>\n",
       "      <td>19</td>\n",
       "      <td>2020Q2</td>\n",
       "      <td>2020-05-07 03:59:59+00:00</td>\n",
       "      <td>2020-05-07 03:59:59+00:00</td>\n",
       "      <td>2020-05</td>\n",
       "    </tr>\n",
       "    <tr>\n",
       "      <th>7501</th>\n",
       "      <td>7502</td>\n",
       "      <td>FULTON</td>\n",
       "      <td>5049</td>\n",
       "      <td>2020/05/08 03:59:59+00</td>\n",
       "      <td>47</td>\n",
       "      <td>3592</td>\n",
       "      <td>5</td>\n",
       "      <td>291</td>\n",
       "      <td>13</td>\n",
       "      <td>853</td>\n",
       "      <td>...</td>\n",
       "      <td>2020-05-08 03:59:59+00:00</td>\n",
       "      <td>2020-05-08</td>\n",
       "      <td>2020</td>\n",
       "      <td>5</td>\n",
       "      <td>2020-05</td>\n",
       "      <td>19</td>\n",
       "      <td>2020Q2</td>\n",
       "      <td>2020-05-08 03:59:59+00:00</td>\n",
       "      <td>2020-05-08 03:59:59+00:00</td>\n",
       "      <td>2020-05</td>\n",
       "    </tr>\n",
       "    <tr>\n",
       "      <th>7502</th>\n",
       "      <td>7503</td>\n",
       "      <td>FULTON</td>\n",
       "      <td>5049</td>\n",
       "      <td>2020/05/09 03:59:59+00</td>\n",
       "      <td>20</td>\n",
       "      <td>3612</td>\n",
       "      <td>2</td>\n",
       "      <td>293</td>\n",
       "      <td>3</td>\n",
       "      <td>856</td>\n",
       "      <td>...</td>\n",
       "      <td>2020-05-09 03:59:59+00:00</td>\n",
       "      <td>2020-05-09</td>\n",
       "      <td>2020</td>\n",
       "      <td>5</td>\n",
       "      <td>2020-05</td>\n",
       "      <td>19</td>\n",
       "      <td>2020Q2</td>\n",
       "      <td>2020-05-09 03:59:59+00:00</td>\n",
       "      <td>2020-05-09 03:59:59+00:00</td>\n",
       "      <td>2020-05</td>\n",
       "    </tr>\n",
       "    <tr>\n",
       "      <th>7503</th>\n",
       "      <td>7504</td>\n",
       "      <td>FULTON</td>\n",
       "      <td>5049</td>\n",
       "      <td>2020/05/10 03:59:59+00</td>\n",
       "      <td>31</td>\n",
       "      <td>3643</td>\n",
       "      <td>1</td>\n",
       "      <td>294</td>\n",
       "      <td>4</td>\n",
       "      <td>860</td>\n",
       "      <td>...</td>\n",
       "      <td>2020-05-10 03:59:59+00:00</td>\n",
       "      <td>2020-05-10</td>\n",
       "      <td>2020</td>\n",
       "      <td>5</td>\n",
       "      <td>2020-05</td>\n",
       "      <td>19</td>\n",
       "      <td>2020Q2</td>\n",
       "      <td>2020-05-10 03:59:59+00:00</td>\n",
       "      <td>2020-05-10 03:59:59+00:00</td>\n",
       "      <td>2020-05</td>\n",
       "    </tr>\n",
       "    <tr>\n",
       "      <th>7504</th>\n",
       "      <td>7505</td>\n",
       "      <td>FULTON</td>\n",
       "      <td>5049</td>\n",
       "      <td>2020/05/11 03:59:59+00</td>\n",
       "      <td>75</td>\n",
       "      <td>3718</td>\n",
       "      <td>8</td>\n",
       "      <td>302</td>\n",
       "      <td>9</td>\n",
       "      <td>869</td>\n",
       "      <td>...</td>\n",
       "      <td>2020-05-11 03:59:59+00:00</td>\n",
       "      <td>2020-05-11</td>\n",
       "      <td>2020</td>\n",
       "      <td>5</td>\n",
       "      <td>2020-05</td>\n",
       "      <td>20</td>\n",
       "      <td>2020Q2</td>\n",
       "      <td>2020-05-11 03:59:59+00:00</td>\n",
       "      <td>2020-05-11 03:59:59+00:00</td>\n",
       "      <td>2020-05</td>\n",
       "    </tr>\n",
       "    <tr>\n",
       "      <th>7505</th>\n",
       "      <td>7506</td>\n",
       "      <td>FULTON</td>\n",
       "      <td>5049</td>\n",
       "      <td>2020/05/12 03:59:59+00</td>\n",
       "      <td>50</td>\n",
       "      <td>3768</td>\n",
       "      <td>2</td>\n",
       "      <td>304</td>\n",
       "      <td>5</td>\n",
       "      <td>874</td>\n",
       "      <td>...</td>\n",
       "      <td>2020-05-12 03:59:59+00:00</td>\n",
       "      <td>2020-05-12</td>\n",
       "      <td>2020</td>\n",
       "      <td>5</td>\n",
       "      <td>2020-05</td>\n",
       "      <td>20</td>\n",
       "      <td>2020Q2</td>\n",
       "      <td>2020-05-12 03:59:59+00:00</td>\n",
       "      <td>2020-05-12 03:59:59+00:00</td>\n",
       "      <td>2020-05</td>\n",
       "    </tr>\n",
       "    <tr>\n",
       "      <th>7506</th>\n",
       "      <td>7507</td>\n",
       "      <td>FULTON</td>\n",
       "      <td>5049</td>\n",
       "      <td>2020/05/13 03:59:59+00</td>\n",
       "      <td>55</td>\n",
       "      <td>3823</td>\n",
       "      <td>5</td>\n",
       "      <td>309</td>\n",
       "      <td>10</td>\n",
       "      <td>884</td>\n",
       "      <td>...</td>\n",
       "      <td>2020-05-13 03:59:59+00:00</td>\n",
       "      <td>2020-05-13</td>\n",
       "      <td>2020</td>\n",
       "      <td>5</td>\n",
       "      <td>2020-05</td>\n",
       "      <td>20</td>\n",
       "      <td>2020Q2</td>\n",
       "      <td>2020-05-13 03:59:59+00:00</td>\n",
       "      <td>2020-05-13 03:59:59+00:00</td>\n",
       "      <td>2020-05</td>\n",
       "    </tr>\n",
       "    <tr>\n",
       "      <th>7507</th>\n",
       "      <td>7508</td>\n",
       "      <td>FULTON</td>\n",
       "      <td>5049</td>\n",
       "      <td>2020/05/14 03:59:59+00</td>\n",
       "      <td>76</td>\n",
       "      <td>3899</td>\n",
       "      <td>10</td>\n",
       "      <td>319</td>\n",
       "      <td>16</td>\n",
       "      <td>900</td>\n",
       "      <td>...</td>\n",
       "      <td>2020-05-14 03:59:59+00:00</td>\n",
       "      <td>2020-05-14</td>\n",
       "      <td>2020</td>\n",
       "      <td>5</td>\n",
       "      <td>2020-05</td>\n",
       "      <td>20</td>\n",
       "      <td>2020Q2</td>\n",
       "      <td>2020-05-14 03:59:59+00:00</td>\n",
       "      <td>2020-05-14 03:59:59+00:00</td>\n",
       "      <td>2020-05</td>\n",
       "    </tr>\n",
       "    <tr>\n",
       "      <th>7508</th>\n",
       "      <td>7509</td>\n",
       "      <td>FULTON</td>\n",
       "      <td>5049</td>\n",
       "      <td>2020/05/15 03:59:59+00</td>\n",
       "      <td>63</td>\n",
       "      <td>3962</td>\n",
       "      <td>1</td>\n",
       "      <td>320</td>\n",
       "      <td>7</td>\n",
       "      <td>907</td>\n",
       "      <td>...</td>\n",
       "      <td>2020-05-15 03:59:59+00:00</td>\n",
       "      <td>2020-05-15</td>\n",
       "      <td>2020</td>\n",
       "      <td>5</td>\n",
       "      <td>2020-05</td>\n",
       "      <td>20</td>\n",
       "      <td>2020Q2</td>\n",
       "      <td>2020-05-15 03:59:59+00:00</td>\n",
       "      <td>2020-05-15 03:59:59+00:00</td>\n",
       "      <td>2020-05</td>\n",
       "    </tr>\n",
       "    <tr>\n",
       "      <th>7509</th>\n",
       "      <td>7510</td>\n",
       "      <td>FULTON</td>\n",
       "      <td>5049</td>\n",
       "      <td>2020/05/16 03:59:59+00</td>\n",
       "      <td>30</td>\n",
       "      <td>3992</td>\n",
       "      <td>1</td>\n",
       "      <td>321</td>\n",
       "      <td>8</td>\n",
       "      <td>915</td>\n",
       "      <td>...</td>\n",
       "      <td>2020-05-16 03:59:59+00:00</td>\n",
       "      <td>2020-05-16</td>\n",
       "      <td>2020</td>\n",
       "      <td>5</td>\n",
       "      <td>2020-05</td>\n",
       "      <td>20</td>\n",
       "      <td>2020Q2</td>\n",
       "      <td>2020-05-16 03:59:59+00:00</td>\n",
       "      <td>2020-05-16 03:59:59+00:00</td>\n",
       "      <td>2020-05</td>\n",
       "    </tr>\n",
       "    <tr>\n",
       "      <th>7510</th>\n",
       "      <td>7511</td>\n",
       "      <td>FULTON</td>\n",
       "      <td>5049</td>\n",
       "      <td>2020/05/17 03:59:59+00</td>\n",
       "      <td>24</td>\n",
       "      <td>4016</td>\n",
       "      <td>0</td>\n",
       "      <td>321</td>\n",
       "      <td>1</td>\n",
       "      <td>916</td>\n",
       "      <td>...</td>\n",
       "      <td>2020-05-17 03:59:59+00:00</td>\n",
       "      <td>2020-05-17</td>\n",
       "      <td>2020</td>\n",
       "      <td>5</td>\n",
       "      <td>2020-05</td>\n",
       "      <td>20</td>\n",
       "      <td>2020Q2</td>\n",
       "      <td>2020-05-17 03:59:59+00:00</td>\n",
       "      <td>2020-05-17 03:59:59+00:00</td>\n",
       "      <td>2020-05</td>\n",
       "    </tr>\n",
       "    <tr>\n",
       "      <th>7511</th>\n",
       "      <td>7512</td>\n",
       "      <td>FULTON</td>\n",
       "      <td>5049</td>\n",
       "      <td>2020/05/18 03:59:59+00</td>\n",
       "      <td>73</td>\n",
       "      <td>4089</td>\n",
       "      <td>3</td>\n",
       "      <td>324</td>\n",
       "      <td>15</td>\n",
       "      <td>931</td>\n",
       "      <td>...</td>\n",
       "      <td>2020-05-18 03:59:59+00:00</td>\n",
       "      <td>2020-05-18</td>\n",
       "      <td>2020</td>\n",
       "      <td>5</td>\n",
       "      <td>2020-05</td>\n",
       "      <td>21</td>\n",
       "      <td>2020Q2</td>\n",
       "      <td>2020-05-18 03:59:59+00:00</td>\n",
       "      <td>2020-05-18 03:59:59+00:00</td>\n",
       "      <td>2020-05</td>\n",
       "    </tr>\n",
       "    <tr>\n",
       "      <th>7512</th>\n",
       "      <td>7513</td>\n",
       "      <td>FULTON</td>\n",
       "      <td>5049</td>\n",
       "      <td>2020/05/19 03:59:59+00</td>\n",
       "      <td>51</td>\n",
       "      <td>4140</td>\n",
       "      <td>3</td>\n",
       "      <td>327</td>\n",
       "      <td>6</td>\n",
       "      <td>937</td>\n",
       "      <td>...</td>\n",
       "      <td>2020-05-19 03:59:59+00:00</td>\n",
       "      <td>2020-05-19</td>\n",
       "      <td>2020</td>\n",
       "      <td>5</td>\n",
       "      <td>2020-05</td>\n",
       "      <td>21</td>\n",
       "      <td>2020Q2</td>\n",
       "      <td>2020-05-19 03:59:59+00:00</td>\n",
       "      <td>2020-05-19 03:59:59+00:00</td>\n",
       "      <td>2020-05</td>\n",
       "    </tr>\n",
       "    <tr>\n",
       "      <th>7513</th>\n",
       "      <td>7514</td>\n",
       "      <td>FULTON</td>\n",
       "      <td>5049</td>\n",
       "      <td>2020/05/20 03:59:59+00</td>\n",
       "      <td>36</td>\n",
       "      <td>4176</td>\n",
       "      <td>0</td>\n",
       "      <td>327</td>\n",
       "      <td>5</td>\n",
       "      <td>942</td>\n",
       "      <td>...</td>\n",
       "      <td>2020-05-20 03:59:59+00:00</td>\n",
       "      <td>2020-05-20</td>\n",
       "      <td>2020</td>\n",
       "      <td>5</td>\n",
       "      <td>2020-05</td>\n",
       "      <td>21</td>\n",
       "      <td>2020Q2</td>\n",
       "      <td>2020-05-20 03:59:59+00:00</td>\n",
       "      <td>2020-05-20 03:59:59+00:00</td>\n",
       "      <td>2020-05</td>\n",
       "    </tr>\n",
       "  </tbody>\n",
       "</table>\n",
       "<p>50 rows × 55 columns</p>\n",
       "</div>"
      ],
      "text/plain": [
       "      OBJECTID  COUNTY  CNTY_FIPS               DATESTAMP  C_New  C_Cum  \\\n",
       "7464      7465  FULTON       5049  2020/04/01 03:59:59+00     97   1499   \n",
       "7465      7466  FULTON       5049  2020/04/02 03:59:59+00     50   1549   \n",
       "7466      7467  FULTON       5049  2020/04/03 03:59:59+00     68   1617   \n",
       "7467      7468  FULTON       5049  2020/04/04 03:59:59+00     38   1655   \n",
       "7468      7469  FULTON       5049  2020/04/05 03:59:59+00     30   1685   \n",
       "7469      7470  FULTON       5049  2020/04/06 03:59:59+00     62   1747   \n",
       "7470      7471  FULTON       5049  2020/04/07 03:59:59+00     77   1824   \n",
       "7471      7472  FULTON       5049  2020/04/08 03:59:59+00     69   1893   \n",
       "7472      7473  FULTON       5049  2020/04/09 03:59:59+00     59   1952   \n",
       "7473      7474  FULTON       5049  2020/04/10 03:59:59+00     55   2007   \n",
       "7474      7475  FULTON       5049  2020/04/11 03:59:59+00     53   2060   \n",
       "7475      7476  FULTON       5049  2020/04/12 03:59:59+00     39   2099   \n",
       "7476      7477  FULTON       5049  2020/04/13 03:59:59+00     54   2153   \n",
       "7477      7478  FULTON       5049  2020/04/14 03:59:59+00     60   2213   \n",
       "7478      7479  FULTON       5049  2020/04/15 03:59:59+00     83   2296   \n",
       "7479      7480  FULTON       5049  2020/04/16 03:59:59+00     57   2353   \n",
       "7480      7481  FULTON       5049  2020/04/17 03:59:59+00     67   2420   \n",
       "7481      7482  FULTON       5049  2020/04/18 03:59:59+00     39   2459   \n",
       "7482      7483  FULTON       5049  2020/04/19 03:59:59+00     73   2532   \n",
       "7483      7484  FULTON       5049  2020/04/20 03:59:59+00     84   2616   \n",
       "7484      7485  FULTON       5049  2020/04/21 03:59:59+00     60   2676   \n",
       "7485      7486  FULTON       5049  2020/04/22 03:59:59+00     59   2735   \n",
       "7486      7487  FULTON       5049  2020/04/23 03:59:59+00     35   2770   \n",
       "7487      7488  FULTON       5049  2020/04/24 03:59:59+00     65   2835   \n",
       "7488      7489  FULTON       5049  2020/04/25 03:59:59+00     39   2874   \n",
       "7489      7490  FULTON       5049  2020/04/26 03:59:59+00     36   2910   \n",
       "7490      7491  FULTON       5049  2020/04/27 03:59:59+00     51   2961   \n",
       "7491      7492  FULTON       5049  2020/04/28 03:59:59+00     77   3038   \n",
       "7492      7493  FULTON       5049  2020/04/29 03:59:59+00     78   3116   \n",
       "7493      7494  FULTON       5049  2020/04/30 03:59:59+00     73   3189   \n",
       "7494      7495  FULTON       5049  2020/05/01 03:59:59+00     54   3243   \n",
       "7495      7496  FULTON       5049  2020/05/02 03:59:59+00     29   3272   \n",
       "7496      7497  FULTON       5049  2020/05/03 03:59:59+00     33   3305   \n",
       "7497      7498  FULTON       5049  2020/05/04 03:59:59+00     47   3352   \n",
       "7498      7499  FULTON       5049  2020/05/05 03:59:59+00     60   3412   \n",
       "7499      7500  FULTON       5049  2020/05/06 03:59:59+00     58   3470   \n",
       "7500      7501  FULTON       5049  2020/05/07 03:59:59+00     75   3545   \n",
       "7501      7502  FULTON       5049  2020/05/08 03:59:59+00     47   3592   \n",
       "7502      7503  FULTON       5049  2020/05/09 03:59:59+00     20   3612   \n",
       "7503      7504  FULTON       5049  2020/05/10 03:59:59+00     31   3643   \n",
       "7504      7505  FULTON       5049  2020/05/11 03:59:59+00     75   3718   \n",
       "7505      7506  FULTON       5049  2020/05/12 03:59:59+00     50   3768   \n",
       "7506      7507  FULTON       5049  2020/05/13 03:59:59+00     55   3823   \n",
       "7507      7508  FULTON       5049  2020/05/14 03:59:59+00     76   3899   \n",
       "7508      7509  FULTON       5049  2020/05/15 03:59:59+00     63   3962   \n",
       "7509      7510  FULTON       5049  2020/05/16 03:59:59+00     30   3992   \n",
       "7510      7511  FULTON       5049  2020/05/17 03:59:59+00     24   4016   \n",
       "7511      7512  FULTON       5049  2020/05/18 03:59:59+00     73   4089   \n",
       "7512      7513  FULTON       5049  2020/05/19 03:59:59+00     51   4140   \n",
       "7513      7514  FULTON       5049  2020/05/20 03:59:59+00     36   4176   \n",
       "\n",
       "      D_New  D_Cum  H_New  H_Cum  ...             DATESTAMP_MOD  \\\n",
       "7464     10    109     22    460  ... 2020-04-01 03:59:59+00:00   \n",
       "7465      3    112      9    469  ... 2020-04-02 03:59:59+00:00   \n",
       "7466     10    122     17    486  ... 2020-04-03 03:59:59+00:00   \n",
       "7467      5    127     10    496  ... 2020-04-04 03:59:59+00:00   \n",
       "7468      1    128     12    508  ... 2020-04-05 03:59:59+00:00   \n",
       "7469      0    128     11    519  ... 2020-04-06 03:59:59+00:00   \n",
       "7470      7    135     11    530  ... 2020-04-07 03:59:59+00:00   \n",
       "7471      5    140     13    543  ... 2020-04-08 03:59:59+00:00   \n",
       "7472      4    144      7    550  ... 2020-04-09 03:59:59+00:00   \n",
       "7473      3    147     10    560  ... 2020-04-10 03:59:59+00:00   \n",
       "7474     10    157     20    580  ... 2020-04-11 03:59:59+00:00   \n",
       "7475      4    161      8    588  ... 2020-04-12 03:59:59+00:00   \n",
       "7476      8    169      9    597  ... 2020-04-13 03:59:59+00:00   \n",
       "7477      7    176     13    610  ... 2020-04-14 03:59:59+00:00   \n",
       "7478      6    182     14    624  ... 2020-04-15 03:59:59+00:00   \n",
       "7479      6    188     12    636  ... 2020-04-16 03:59:59+00:00   \n",
       "7480      4    192     12    648  ... 2020-04-17 03:59:59+00:00   \n",
       "7481      1    193      9    657  ... 2020-04-18 03:59:59+00:00   \n",
       "7482      6    199     10    667  ... 2020-04-19 03:59:59+00:00   \n",
       "7483     13    212     20    687  ... 2020-04-20 03:59:59+00:00   \n",
       "7484      4    216     17    704  ... 2020-04-21 03:59:59+00:00   \n",
       "7485      5    221     12    716  ... 2020-04-22 03:59:59+00:00   \n",
       "7486      7    228      9    725  ... 2020-04-23 03:59:59+00:00   \n",
       "7487      7    235      9    734  ... 2020-04-24 03:59:59+00:00   \n",
       "7488      3    238      8    742  ... 2020-04-25 03:59:59+00:00   \n",
       "7489      6    244     10    752  ... 2020-04-26 03:59:59+00:00   \n",
       "7490      4    248      8    760  ... 2020-04-27 03:59:59+00:00   \n",
       "7491      3    251     10    770  ... 2020-04-28 03:59:59+00:00   \n",
       "7492      8    259     17    787  ... 2020-04-29 03:59:59+00:00   \n",
       "7493      5    264      5    792  ... 2020-04-30 03:59:59+00:00   \n",
       "7494      4    268     15    807  ... 2020-05-01 03:59:59+00:00   \n",
       "7495      3    271      4    811  ... 2020-05-02 03:59:59+00:00   \n",
       "7496      6    277      8    819  ... 2020-05-03 03:59:59+00:00   \n",
       "7497      3    280      7    826  ... 2020-05-04 03:59:59+00:00   \n",
       "7498      1    281      5    831  ... 2020-05-05 03:59:59+00:00   \n",
       "7499      4    285      8    839  ... 2020-05-06 03:59:59+00:00   \n",
       "7500      1    286      1    840  ... 2020-05-07 03:59:59+00:00   \n",
       "7501      5    291     13    853  ... 2020-05-08 03:59:59+00:00   \n",
       "7502      2    293      3    856  ... 2020-05-09 03:59:59+00:00   \n",
       "7503      1    294      4    860  ... 2020-05-10 03:59:59+00:00   \n",
       "7504      8    302      9    869  ... 2020-05-11 03:59:59+00:00   \n",
       "7505      2    304      5    874  ... 2020-05-12 03:59:59+00:00   \n",
       "7506      5    309     10    884  ... 2020-05-13 03:59:59+00:00   \n",
       "7507     10    319     16    900  ... 2020-05-14 03:59:59+00:00   \n",
       "7508      1    320      7    907  ... 2020-05-15 03:59:59+00:00   \n",
       "7509      1    321      8    915  ... 2020-05-16 03:59:59+00:00   \n",
       "7510      0    321      1    916  ... 2020-05-17 03:59:59+00:00   \n",
       "7511      3    324     15    931  ... 2020-05-18 03:59:59+00:00   \n",
       "7512      3    327      6    937  ... 2020-05-19 03:59:59+00:00   \n",
       "7513      0    327      5    942  ... 2020-05-20 03:59:59+00:00   \n",
       "\n",
       "      DATESTAMP_MOD_DAY  DATESTAMP_MOD_YEAR  DATESTAMP_MOD_MONTH  \\\n",
       "7464         2020-04-01                2020                    4   \n",
       "7465         2020-04-02                2020                    4   \n",
       "7466         2020-04-03                2020                    4   \n",
       "7467         2020-04-04                2020                    4   \n",
       "7468         2020-04-05                2020                    4   \n",
       "7469         2020-04-06                2020                    4   \n",
       "7470         2020-04-07                2020                    4   \n",
       "7471         2020-04-08                2020                    4   \n",
       "7472         2020-04-09                2020                    4   \n",
       "7473         2020-04-10                2020                    4   \n",
       "7474         2020-04-11                2020                    4   \n",
       "7475         2020-04-12                2020                    4   \n",
       "7476         2020-04-13                2020                    4   \n",
       "7477         2020-04-14                2020                    4   \n",
       "7478         2020-04-15                2020                    4   \n",
       "7479         2020-04-16                2020                    4   \n",
       "7480         2020-04-17                2020                    4   \n",
       "7481         2020-04-18                2020                    4   \n",
       "7482         2020-04-19                2020                    4   \n",
       "7483         2020-04-20                2020                    4   \n",
       "7484         2020-04-21                2020                    4   \n",
       "7485         2020-04-22                2020                    4   \n",
       "7486         2020-04-23                2020                    4   \n",
       "7487         2020-04-24                2020                    4   \n",
       "7488         2020-04-25                2020                    4   \n",
       "7489         2020-04-26                2020                    4   \n",
       "7490         2020-04-27                2020                    4   \n",
       "7491         2020-04-28                2020                    4   \n",
       "7492         2020-04-29                2020                    4   \n",
       "7493         2020-04-30                2020                    4   \n",
       "7494         2020-05-01                2020                    5   \n",
       "7495         2020-05-02                2020                    5   \n",
       "7496         2020-05-03                2020                    5   \n",
       "7497         2020-05-04                2020                    5   \n",
       "7498         2020-05-05                2020                    5   \n",
       "7499         2020-05-06                2020                    5   \n",
       "7500         2020-05-07                2020                    5   \n",
       "7501         2020-05-08                2020                    5   \n",
       "7502         2020-05-09                2020                    5   \n",
       "7503         2020-05-10                2020                    5   \n",
       "7504         2020-05-11                2020                    5   \n",
       "7505         2020-05-12                2020                    5   \n",
       "7506         2020-05-13                2020                    5   \n",
       "7507         2020-05-14                2020                    5   \n",
       "7508         2020-05-15                2020                    5   \n",
       "7509         2020-05-16                2020                    5   \n",
       "7510         2020-05-17                2020                    5   \n",
       "7511         2020-05-18                2020                    5   \n",
       "7512         2020-05-19                2020                    5   \n",
       "7513         2020-05-20                2020                    5   \n",
       "\n",
       "      DATESTAMP_MOD_MONTH_YEAR  DATESTAMP_MOD_WEEK  DATESTAMP_MOD_QUARTER  \\\n",
       "7464                   2020-04                  14                 2020Q2   \n",
       "7465                   2020-04                  14                 2020Q2   \n",
       "7466                   2020-04                  14                 2020Q2   \n",
       "7467                   2020-04                  14                 2020Q2   \n",
       "7468                   2020-04                  14                 2020Q2   \n",
       "7469                   2020-04                  15                 2020Q2   \n",
       "7470                   2020-04                  15                 2020Q2   \n",
       "7471                   2020-04                  15                 2020Q2   \n",
       "7472                   2020-04                  15                 2020Q2   \n",
       "7473                   2020-04                  15                 2020Q2   \n",
       "7474                   2020-04                  15                 2020Q2   \n",
       "7475                   2020-04                  15                 2020Q2   \n",
       "7476                   2020-04                  16                 2020Q2   \n",
       "7477                   2020-04                  16                 2020Q2   \n",
       "7478                   2020-04                  16                 2020Q2   \n",
       "7479                   2020-04                  16                 2020Q2   \n",
       "7480                   2020-04                  16                 2020Q2   \n",
       "7481                   2020-04                  16                 2020Q2   \n",
       "7482                   2020-04                  16                 2020Q2   \n",
       "7483                   2020-04                  17                 2020Q2   \n",
       "7484                   2020-04                  17                 2020Q2   \n",
       "7485                   2020-04                  17                 2020Q2   \n",
       "7486                   2020-04                  17                 2020Q2   \n",
       "7487                   2020-04                  17                 2020Q2   \n",
       "7488                   2020-04                  17                 2020Q2   \n",
       "7489                   2020-04                  17                 2020Q2   \n",
       "7490                   2020-04                  18                 2020Q2   \n",
       "7491                   2020-04                  18                 2020Q2   \n",
       "7492                   2020-04                  18                 2020Q2   \n",
       "7493                   2020-04                  18                 2020Q2   \n",
       "7494                   2020-05                  18                 2020Q2   \n",
       "7495                   2020-05                  18                 2020Q2   \n",
       "7496                   2020-05                  18                 2020Q2   \n",
       "7497                   2020-05                  19                 2020Q2   \n",
       "7498                   2020-05                  19                 2020Q2   \n",
       "7499                   2020-05                  19                 2020Q2   \n",
       "7500                   2020-05                  19                 2020Q2   \n",
       "7501                   2020-05                  19                 2020Q2   \n",
       "7502                   2020-05                  19                 2020Q2   \n",
       "7503                   2020-05                  19                 2020Q2   \n",
       "7504                   2020-05                  20                 2020Q2   \n",
       "7505                   2020-05                  20                 2020Q2   \n",
       "7506                   2020-05                  20                 2020Q2   \n",
       "7507                   2020-05                  20                 2020Q2   \n",
       "7508                   2020-05                  20                 2020Q2   \n",
       "7509                   2020-05                  20                 2020Q2   \n",
       "7510                   2020-05                  20                 2020Q2   \n",
       "7511                   2020-05                  21                 2020Q2   \n",
       "7512                   2020-05                  21                 2020Q2   \n",
       "7513                   2020-05                  21                 2020Q2   \n",
       "\n",
       "       DATESTAMP_MOD_DAY_STRING  DATESTAMP_MOD_WEEK_STRING  DATETIME_STRING  \n",
       "7464  2020-04-01 03:59:59+00:00  2020-04-01 03:59:59+00:00          2020-04  \n",
       "7465  2020-04-02 03:59:59+00:00  2020-04-02 03:59:59+00:00          2020-04  \n",
       "7466  2020-04-03 03:59:59+00:00  2020-04-03 03:59:59+00:00          2020-04  \n",
       "7467  2020-04-04 03:59:59+00:00  2020-04-04 03:59:59+00:00          2020-04  \n",
       "7468  2020-04-05 03:59:59+00:00  2020-04-05 03:59:59+00:00          2020-04  \n",
       "7469  2020-04-06 03:59:59+00:00  2020-04-06 03:59:59+00:00          2020-04  \n",
       "7470  2020-04-07 03:59:59+00:00  2020-04-07 03:59:59+00:00          2020-04  \n",
       "7471  2020-04-08 03:59:59+00:00  2020-04-08 03:59:59+00:00          2020-04  \n",
       "7472  2020-04-09 03:59:59+00:00  2020-04-09 03:59:59+00:00          2020-04  \n",
       "7473  2020-04-10 03:59:59+00:00  2020-04-10 03:59:59+00:00          2020-04  \n",
       "7474  2020-04-11 03:59:59+00:00  2020-04-11 03:59:59+00:00          2020-04  \n",
       "7475  2020-04-12 03:59:59+00:00  2020-04-12 03:59:59+00:00          2020-04  \n",
       "7476  2020-04-13 03:59:59+00:00  2020-04-13 03:59:59+00:00          2020-04  \n",
       "7477  2020-04-14 03:59:59+00:00  2020-04-14 03:59:59+00:00          2020-04  \n",
       "7478  2020-04-15 03:59:59+00:00  2020-04-15 03:59:59+00:00          2020-04  \n",
       "7479  2020-04-16 03:59:59+00:00  2020-04-16 03:59:59+00:00          2020-04  \n",
       "7480  2020-04-17 03:59:59+00:00  2020-04-17 03:59:59+00:00          2020-04  \n",
       "7481  2020-04-18 03:59:59+00:00  2020-04-18 03:59:59+00:00          2020-04  \n",
       "7482  2020-04-19 03:59:59+00:00  2020-04-19 03:59:59+00:00          2020-04  \n",
       "7483  2020-04-20 03:59:59+00:00  2020-04-20 03:59:59+00:00          2020-04  \n",
       "7484  2020-04-21 03:59:59+00:00  2020-04-21 03:59:59+00:00          2020-04  \n",
       "7485  2020-04-22 03:59:59+00:00  2020-04-22 03:59:59+00:00          2020-04  \n",
       "7486  2020-04-23 03:59:59+00:00  2020-04-23 03:59:59+00:00          2020-04  \n",
       "7487  2020-04-24 03:59:59+00:00  2020-04-24 03:59:59+00:00          2020-04  \n",
       "7488  2020-04-25 03:59:59+00:00  2020-04-25 03:59:59+00:00          2020-04  \n",
       "7489  2020-04-26 03:59:59+00:00  2020-04-26 03:59:59+00:00          2020-04  \n",
       "7490  2020-04-27 03:59:59+00:00  2020-04-27 03:59:59+00:00          2020-04  \n",
       "7491  2020-04-28 03:59:59+00:00  2020-04-28 03:59:59+00:00          2020-04  \n",
       "7492  2020-04-29 03:59:59+00:00  2020-04-29 03:59:59+00:00          2020-04  \n",
       "7493  2020-04-30 03:59:59+00:00  2020-04-30 03:59:59+00:00          2020-04  \n",
       "7494  2020-05-01 03:59:59+00:00  2020-05-01 03:59:59+00:00          2020-05  \n",
       "7495  2020-05-02 03:59:59+00:00  2020-05-02 03:59:59+00:00          2020-05  \n",
       "7496  2020-05-03 03:59:59+00:00  2020-05-03 03:59:59+00:00          2020-05  \n",
       "7497  2020-05-04 03:59:59+00:00  2020-05-04 03:59:59+00:00          2020-05  \n",
       "7498  2020-05-05 03:59:59+00:00  2020-05-05 03:59:59+00:00          2020-05  \n",
       "7499  2020-05-06 03:59:59+00:00  2020-05-06 03:59:59+00:00          2020-05  \n",
       "7500  2020-05-07 03:59:59+00:00  2020-05-07 03:59:59+00:00          2020-05  \n",
       "7501  2020-05-08 03:59:59+00:00  2020-05-08 03:59:59+00:00          2020-05  \n",
       "7502  2020-05-09 03:59:59+00:00  2020-05-09 03:59:59+00:00          2020-05  \n",
       "7503  2020-05-10 03:59:59+00:00  2020-05-10 03:59:59+00:00          2020-05  \n",
       "7504  2020-05-11 03:59:59+00:00  2020-05-11 03:59:59+00:00          2020-05  \n",
       "7505  2020-05-12 03:59:59+00:00  2020-05-12 03:59:59+00:00          2020-05  \n",
       "7506  2020-05-13 03:59:59+00:00  2020-05-13 03:59:59+00:00          2020-05  \n",
       "7507  2020-05-14 03:59:59+00:00  2020-05-14 03:59:59+00:00          2020-05  \n",
       "7508  2020-05-15 03:59:59+00:00  2020-05-15 03:59:59+00:00          2020-05  \n",
       "7509  2020-05-16 03:59:59+00:00  2020-05-16 03:59:59+00:00          2020-05  \n",
       "7510  2020-05-17 03:59:59+00:00  2020-05-17 03:59:59+00:00          2020-05  \n",
       "7511  2020-05-18 03:59:59+00:00  2020-05-18 03:59:59+00:00          2020-05  \n",
       "7512  2020-05-19 03:59:59+00:00  2020-05-19 03:59:59+00:00          2020-05  \n",
       "7513  2020-05-20 03:59:59+00:00  2020-05-20 03:59:59+00:00          2020-05  \n",
       "\n",
       "[50 rows x 55 columns]"
      ]
     },
     "execution_count": 12,
     "metadata": {},
     "output_type": "execute_result"
    }
   ],
   "source": [
    "## getting just the specific date/time frame we want\n",
    "selectCountyTime = selectCounties\n",
    "selectCountyTime['DATESTAMP_MOD_MONTH_YEAR']\n",
    "\n",
    "selectCountTime_april2020 = selectCountyTime[selectCountyTime['DATESTAMP_MOD_MONTH_YEAR'] == '2020-04']\n",
    "len(selectCountTime_april2020)\n",
    "\n",
    "selectCountTime_aprilmay2020 = selectCountyTime[(selectCountyTime['DATESTAMP_MOD_MONTH_YEAR'] == '2020-05') | (selectCountyTime['DATESTAMP_MOD_MONTH_YEAR'] == '2020-04')]\n",
    "len(selectCountTime_aprilmay2020)\n",
    "\n",
    "selectCountTime_aprilmay2020.head(50)"
   ]
  },
  {
   "cell_type": "code",
   "execution_count": 46,
   "metadata": {},
   "outputs": [
    {
     "data": {
      "text/html": [
       "<div>\n",
       "<style scoped>\n",
       "    .dataframe tbody tr th:only-of-type {\n",
       "        vertical-align: middle;\n",
       "    }\n",
       "\n",
       "    .dataframe tbody tr th {\n",
       "        vertical-align: top;\n",
       "    }\n",
       "\n",
       "    .dataframe thead th {\n",
       "        text-align: right;\n",
       "    }\n",
       "</style>\n",
       "<table border=\"1\" class=\"dataframe\">\n",
       "  <thead>\n",
       "    <tr style=\"text-align: right;\">\n",
       "      <th></th>\n",
       "      <th>COUNTY</th>\n",
       "      <th>DATESTAMP_MOD</th>\n",
       "      <th>DATESTAMP_MOD_DAY</th>\n",
       "      <th>DATESTAMP_MOD_DAY_STRING</th>\n",
       "      <th>DATETIME_STRING</th>\n",
       "      <th>DATESTAMP_MOD_MONTH_YEAR</th>\n",
       "      <th>C_New</th>\n",
       "      <th>H_Cum</th>\n",
       "      <th>C_Cum</th>\n",
       "      <th>D_New</th>\n",
       "      <th>H_New</th>\n",
       "    </tr>\n",
       "  </thead>\n",
       "  <tbody>\n",
       "    <tr>\n",
       "      <th>7464</th>\n",
       "      <td>FULTON</td>\n",
       "      <td>2020-04-01 03:59:59+00:00</td>\n",
       "      <td>2020-04-01</td>\n",
       "      <td>2020-04-01 03:59:59+00:00</td>\n",
       "      <td>2020-04</td>\n",
       "      <td>2020-04</td>\n",
       "      <td>97</td>\n",
       "      <td>460</td>\n",
       "      <td>1499</td>\n",
       "      <td>10</td>\n",
       "      <td>22</td>\n",
       "    </tr>\n",
       "    <tr>\n",
       "      <th>7465</th>\n",
       "      <td>FULTON</td>\n",
       "      <td>2020-04-02 03:59:59+00:00</td>\n",
       "      <td>2020-04-02</td>\n",
       "      <td>2020-04-02 03:59:59+00:00</td>\n",
       "      <td>2020-04</td>\n",
       "      <td>2020-04</td>\n",
       "      <td>50</td>\n",
       "      <td>469</td>\n",
       "      <td>1549</td>\n",
       "      <td>3</td>\n",
       "      <td>9</td>\n",
       "    </tr>\n",
       "    <tr>\n",
       "      <th>7466</th>\n",
       "      <td>FULTON</td>\n",
       "      <td>2020-04-03 03:59:59+00:00</td>\n",
       "      <td>2020-04-03</td>\n",
       "      <td>2020-04-03 03:59:59+00:00</td>\n",
       "      <td>2020-04</td>\n",
       "      <td>2020-04</td>\n",
       "      <td>68</td>\n",
       "      <td>486</td>\n",
       "      <td>1617</td>\n",
       "      <td>10</td>\n",
       "      <td>17</td>\n",
       "    </tr>\n",
       "    <tr>\n",
       "      <th>7467</th>\n",
       "      <td>FULTON</td>\n",
       "      <td>2020-04-04 03:59:59+00:00</td>\n",
       "      <td>2020-04-04</td>\n",
       "      <td>2020-04-04 03:59:59+00:00</td>\n",
       "      <td>2020-04</td>\n",
       "      <td>2020-04</td>\n",
       "      <td>38</td>\n",
       "      <td>496</td>\n",
       "      <td>1655</td>\n",
       "      <td>5</td>\n",
       "      <td>10</td>\n",
       "    </tr>\n",
       "    <tr>\n",
       "      <th>7468</th>\n",
       "      <td>FULTON</td>\n",
       "      <td>2020-04-05 03:59:59+00:00</td>\n",
       "      <td>2020-04-05</td>\n",
       "      <td>2020-04-05 03:59:59+00:00</td>\n",
       "      <td>2020-04</td>\n",
       "      <td>2020-04</td>\n",
       "      <td>30</td>\n",
       "      <td>508</td>\n",
       "      <td>1685</td>\n",
       "      <td>1</td>\n",
       "      <td>12</td>\n",
       "    </tr>\n",
       "    <tr>\n",
       "      <th>...</th>\n",
       "      <td>...</td>\n",
       "      <td>...</td>\n",
       "      <td>...</td>\n",
       "      <td>...</td>\n",
       "      <td>...</td>\n",
       "      <td>...</td>\n",
       "      <td>...</td>\n",
       "      <td>...</td>\n",
       "      <td>...</td>\n",
       "      <td>...</td>\n",
       "      <td>...</td>\n",
       "    </tr>\n",
       "    <tr>\n",
       "      <th>79995</th>\n",
       "      <td>HALL</td>\n",
       "      <td>2020-05-01 03:59:59+00:00</td>\n",
       "      <td>2020-05-01</td>\n",
       "      <td>2020-05-01 03:59:59+00:00</td>\n",
       "      <td>2020-05</td>\n",
       "      <td>2020-05</td>\n",
       "      <td>47</td>\n",
       "      <td>305</td>\n",
       "      <td>2069</td>\n",
       "      <td>1</td>\n",
       "      <td>8</td>\n",
       "    </tr>\n",
       "    <tr>\n",
       "      <th>79996</th>\n",
       "      <td>HALL</td>\n",
       "      <td>2020-05-02 03:59:59+00:00</td>\n",
       "      <td>2020-05-02</td>\n",
       "      <td>2020-05-02 03:59:59+00:00</td>\n",
       "      <td>2020-05</td>\n",
       "      <td>2020-05</td>\n",
       "      <td>26</td>\n",
       "      <td>312</td>\n",
       "      <td>2095</td>\n",
       "      <td>3</td>\n",
       "      <td>7</td>\n",
       "    </tr>\n",
       "    <tr>\n",
       "      <th>79997</th>\n",
       "      <td>HALL</td>\n",
       "      <td>2020-05-03 03:59:59+00:00</td>\n",
       "      <td>2020-05-03</td>\n",
       "      <td>2020-05-03 03:59:59+00:00</td>\n",
       "      <td>2020-05</td>\n",
       "      <td>2020-05</td>\n",
       "      <td>12</td>\n",
       "      <td>316</td>\n",
       "      <td>2107</td>\n",
       "      <td>0</td>\n",
       "      <td>4</td>\n",
       "    </tr>\n",
       "    <tr>\n",
       "      <th>79998</th>\n",
       "      <td>HALL</td>\n",
       "      <td>2020-05-04 03:59:59+00:00</td>\n",
       "      <td>2020-05-04</td>\n",
       "      <td>2020-05-04 03:59:59+00:00</td>\n",
       "      <td>2020-05</td>\n",
       "      <td>2020-05</td>\n",
       "      <td>35</td>\n",
       "      <td>320</td>\n",
       "      <td>2142</td>\n",
       "      <td>1</td>\n",
       "      <td>4</td>\n",
       "    </tr>\n",
       "    <tr>\n",
       "      <th>79999</th>\n",
       "      <td>HALL</td>\n",
       "      <td>2020-05-05 03:59:59+00:00</td>\n",
       "      <td>2020-05-05</td>\n",
       "      <td>2020-05-05 03:59:59+00:00</td>\n",
       "      <td>2020-05</td>\n",
       "      <td>2020-05</td>\n",
       "      <td>21</td>\n",
       "      <td>322</td>\n",
       "      <td>2163</td>\n",
       "      <td>1</td>\n",
       "      <td>2</td>\n",
       "    </tr>\n",
       "  </tbody>\n",
       "</table>\n",
       "<p>305 rows × 11 columns</p>\n",
       "</div>"
      ],
      "text/plain": [
       "       COUNTY             DATESTAMP_MOD DATESTAMP_MOD_DAY  \\\n",
       "7464   FULTON 2020-04-01 03:59:59+00:00        2020-04-01   \n",
       "7465   FULTON 2020-04-02 03:59:59+00:00        2020-04-02   \n",
       "7466   FULTON 2020-04-03 03:59:59+00:00        2020-04-03   \n",
       "7467   FULTON 2020-04-04 03:59:59+00:00        2020-04-04   \n",
       "7468   FULTON 2020-04-05 03:59:59+00:00        2020-04-05   \n",
       "...       ...                       ...               ...   \n",
       "79995    HALL 2020-05-01 03:59:59+00:00        2020-05-01   \n",
       "79996    HALL 2020-05-02 03:59:59+00:00        2020-05-02   \n",
       "79997    HALL 2020-05-03 03:59:59+00:00        2020-05-03   \n",
       "79998    HALL 2020-05-04 03:59:59+00:00        2020-05-04   \n",
       "79999    HALL 2020-05-05 03:59:59+00:00        2020-05-05   \n",
       "\n",
       "        DATESTAMP_MOD_DAY_STRING DATETIME_STRING DATESTAMP_MOD_MONTH_YEAR  \\\n",
       "7464   2020-04-01 03:59:59+00:00         2020-04                  2020-04   \n",
       "7465   2020-04-02 03:59:59+00:00         2020-04                  2020-04   \n",
       "7466   2020-04-03 03:59:59+00:00         2020-04                  2020-04   \n",
       "7467   2020-04-04 03:59:59+00:00         2020-04                  2020-04   \n",
       "7468   2020-04-05 03:59:59+00:00         2020-04                  2020-04   \n",
       "...                          ...             ...                      ...   \n",
       "79995  2020-05-01 03:59:59+00:00         2020-05                  2020-05   \n",
       "79996  2020-05-02 03:59:59+00:00         2020-05                  2020-05   \n",
       "79997  2020-05-03 03:59:59+00:00         2020-05                  2020-05   \n",
       "79998  2020-05-04 03:59:59+00:00         2020-05                  2020-05   \n",
       "79999  2020-05-05 03:59:59+00:00         2020-05                  2020-05   \n",
       "\n",
       "       C_New  H_Cum  C_Cum  D_New  H_New  \n",
       "7464      97    460   1499     10     22  \n",
       "7465      50    469   1549      3      9  \n",
       "7466      68    486   1617     10     17  \n",
       "7467      38    496   1655      5     10  \n",
       "7468      30    508   1685      1     12  \n",
       "...      ...    ...    ...    ...    ...  \n",
       "79995     47    305   2069      1      8  \n",
       "79996     26    312   2095      3      7  \n",
       "79997     12    316   2107      0      4  \n",
       "79998     35    320   2142      1      4  \n",
       "79999     21    322   2163      1      2  \n",
       "\n",
       "[305 rows x 11 columns]"
      ]
     },
     "execution_count": 46,
     "metadata": {},
     "output_type": "execute_result"
    }
   ],
   "source": [
    "## creating the final dataframe/specific columns-features-attributes what we care about \n",
    "\n",
    "finalDF= selectCountTime_aprilmay2020[[\n",
    "'COUNTY', \n",
    "'DATESTAMP_MOD', \n",
    "'DATESTAMP_MOD_DAY', \n",
    "'DATESTAMP_MOD_DAY_STRING', \n",
    "'DATETIME_STRING', \n",
    "'DATESTAMP_MOD_MONTH_YEAR', \n",
    "'C_New', \n",
    "'H_Cum', \n",
    "'C_Cum', \n",
    "'D_New',\n",
    "'H_New'\n",
    "]]\n",
    "finalDF\n"
   ]
  },
  {
   "cell_type": "code",
   "execution_count": 47,
   "metadata": {},
   "outputs": [
    {
     "data": {
      "text/html": [
       "<div>\n",
       "<style scoped>\n",
       "    .dataframe tbody tr th:only-of-type {\n",
       "        vertical-align: middle;\n",
       "    }\n",
       "\n",
       "    .dataframe tbody tr th {\n",
       "        vertical-align: top;\n",
       "    }\n",
       "\n",
       "    .dataframe thead th {\n",
       "        text-align: right;\n",
       "    }\n",
       "</style>\n",
       "<table border=\"1\" class=\"dataframe\">\n",
       "  <thead>\n",
       "    <tr style=\"text-align: right;\">\n",
       "      <th>DATESTAMP_MOD_MONTH_YEAR</th>\n",
       "      <th>2020-04</th>\n",
       "      <th>2020-05</th>\n",
       "    </tr>\n",
       "    <tr>\n",
       "      <th>COUNTY</th>\n",
       "      <th></th>\n",
       "      <th></th>\n",
       "    </tr>\n",
       "  </thead>\n",
       "  <tbody>\n",
       "    <tr>\n",
       "      <th>COBB</th>\n",
       "      <td>2167</td>\n",
       "      <td>3386</td>\n",
       "    </tr>\n",
       "    <tr>\n",
       "      <th>DEKALB</th>\n",
       "      <td>2517</td>\n",
       "      <td>4271</td>\n",
       "    </tr>\n",
       "    <tr>\n",
       "      <th>FULTON</th>\n",
       "      <td>3189</td>\n",
       "      <td>4657</td>\n",
       "    </tr>\n",
       "    <tr>\n",
       "      <th>GWINNETT</th>\n",
       "      <td>2242</td>\n",
       "      <td>4544</td>\n",
       "    </tr>\n",
       "    <tr>\n",
       "      <th>HALL</th>\n",
       "      <td>2022</td>\n",
       "      <td>2163</td>\n",
       "    </tr>\n",
       "  </tbody>\n",
       "</table>\n",
       "</div>"
      ],
      "text/plain": [
       "DATESTAMP_MOD_MONTH_YEAR  2020-04  2020-05\n",
       "COUNTY                                    \n",
       "COBB                         2167     3386\n",
       "DEKALB                       2517     4271\n",
       "FULTON                       3189     4657\n",
       "GWINNETT                     2242     4544\n",
       "HALL                         2022     2163"
      ]
     },
     "execution_count": 47,
     "metadata": {},
     "output_type": "execute_result"
    }
   ],
   "source": [
    "##looking at total covid cases by month\n",
    "finalDF_dropdupes = finalDF.drop_duplicates(subset=['COUNTY', 'DATETIME_STRING'], keep='last')\n",
    "finalDF_dropdupes\n",
    "\n",
    "pd.pivot_table(finalDF_dropdupes, values= 'C_Cum', index=['COUNTY'], columns=['DATESTAMP_MOD_MONTH_YEAR'], aggfunc=np.sum)"
   ]
  },
  {
   "cell_type": "code",
   "execution_count": 48,
   "metadata": {},
   "outputs": [
    {
     "data": {
      "image/png": "[encoded data removed]",
      "text/plain": [
       "<Figure size 432x288 with 1 Axes>"
      ]
     },
     "metadata": {},
     "output_type": "display_data"
    }
   ],
   "source": [
    "vis1 = sns.barplot(x='DATESTAMP_MOD_MONTH_YEAR' , y= 'C_Cum', data=finalDF_dropdupes)"
   ]
  },
  {
   "cell_type": "code",
   "execution_count": 49,
   "metadata": {},
   "outputs": [
    {
     "data": {
      "image/png": "[encoded data removed]",
      "text/plain": [
       "<Figure size 432x288 with 1 Axes>"
      ]
     },
     "metadata": {},
     "output_type": "display_data"
    }
   ],
   "source": [
    "vis2 = sns.barplot(x='DATESTAMP_MOD_MONTH_YEAR' , y= 'C_Cum', hue=\"COUNTY\", data=finalDF_dropdupes)"
   ]
  },
  {
   "cell_type": "code",
   "execution_count": 50,
   "metadata": {},
   "outputs": [
    {
     "data": {
      "application/vnd.plotly.v1+json": {
       "config": {
        "plotlyServerURL": "https://plot.ly"
       },
       "data": [
        {
         "alignmentgroup": "True",
         "hovertemplate": "COUNTY=FULTON<br>DATETIME_STRING=%{x}<br>C_Cum=%{y}<extra></extra>",
         "legendgroup": "FULTON",
         "marker": {
          "color": "#636efa",
          "pattern": {
           "shape": ""
          }
         },
         "name": "FULTON",
         "offsetgroup": "FULTON",
         "orientation": "v",
         "showlegend": true,
         "textposition": "auto",
         "type": "bar",
         "x": [
          "2020-04",
          "2020-05"
         ],
         "xaxis": "x",
         "y": [
          3189,
          4657
         ],
         "yaxis": "y"
        },
        {
         "alignmentgroup": "True",
         "hovertemplate": "COUNTY=COBB<br>DATETIME_STRING=%{x}<br>C_Cum=%{y}<extra></extra>",
         "legendgroup": "COBB",
         "marker": {
          "color": "#EF553B",
          "pattern": {
           "shape": ""
          }
         },
         "name": "COBB",
         "offsetgroup": "COBB",
         "orientation": "v",
         "showlegend": true,
         "textposition": "auto",
         "type": "bar",
         "x": [
          "2020-04",
          "2020-05"
         ],
         "xaxis": "x",
         "y": [
          2167,
          3386
         ],
         "yaxis": "y"
        },
        {
         "alignmentgroup": "True",
         "hovertemplate": "COUNTY=GWINNETT<br>DATETIME_STRING=%{x}<br>C_Cum=%{y}<extra></extra>",
         "legendgroup": "GWINNETT",
         "marker": {
          "color": "#00cc96",
          "pattern": {
           "shape": ""
          }
         },
         "name": "GWINNETT",
         "offsetgroup": "GWINNETT",
         "orientation": "v",
         "showlegend": true,
         "textposition": "auto",
         "type": "bar",
         "x": [
          "2020-04",
          "2020-05"
         ],
         "xaxis": "x",
         "y": [
          2242,
          4544
         ],
         "yaxis": "y"
        },
        {
         "alignmentgroup": "True",
         "hovertemplate": "COUNTY=DEKALB<br>DATETIME_STRING=%{x}<br>C_Cum=%{y}<extra></extra>",
         "legendgroup": "DEKALB",
         "marker": {
          "color": "#ab63fa",
          "pattern": {
           "shape": ""
          }
         },
         "name": "DEKALB",
         "offsetgroup": "DEKALB",
         "orientation": "v",
         "showlegend": true,
         "textposition": "auto",
         "type": "bar",
         "x": [
          "2020-04",
          "2020-05"
         ],
         "xaxis": "x",
         "y": [
          2517,
          4271
         ],
         "yaxis": "y"
        },
        {
         "alignmentgroup": "True",
         "hovertemplate": "COUNTY=HALL<br>DATETIME_STRING=%{x}<br>C_Cum=%{y}<extra></extra>",
         "legendgroup": "HALL",
         "marker": {
          "color": "#FFA15A",
          "pattern": {
           "shape": ""
          }
         },
         "name": "HALL",
         "offsetgroup": "HALL",
         "orientation": "v",
         "showlegend": true,
         "textposition": "auto",
         "type": "bar",
         "x": [
          "2020-04",
          "2020-05"
         ],
         "xaxis": "x",
         "y": [
          2022,
          2163
         ],
         "yaxis": "y"
        }
       ],
       "layout": {
        "barmode": "group",
        "legend": {
         "title": {
          "text": "COUNTY"
         },
         "tracegroupgap": 0
        },
        "margin": {
         "t": 60
        },
        "template": {
         "data": {
          "bar": [
           {
            "error_x": {
             "color": "#2a3f5f"
            },
            "error_y": {
             "color": "#2a3f5f"
            },
            "marker": {
             "line": {
              "color": "#E5ECF6",
              "width": 0.5
             },
             "pattern": {
              "fillmode": "overlay",
              "size": 10,
              "solidity": 0.2
             }
            },
            "type": "bar"
           }
          ],
          "barpolar": [
           {
            "marker": {
             "line": {
              "color": "#E5ECF6",
              "width": 0.5
             },
             "pattern": {
              "fillmode": "overlay",
              "size": 10,
              "solidity": 0.2
             }
            },
            "type": "barpolar"
           }
          ],
          "carpet": [
           {
            "aaxis": {
             "endlinecolor": "#2a3f5f",
             "gridcolor": "white",
             "linecolor": "white",
             "minorgridcolor": "white",
             "startlinecolor": "#2a3f5f"
            },
            "baxis": {
             "endlinecolor": "#2a3f5f",
             "gridcolor": "white",
             "linecolor": "white",
             "minorgridcolor": "white",
             "startlinecolor": "#2a3f5f"
            },
            "type": "carpet"
           }
          ],
          "choropleth": [
           {
            "colorbar": {
             "outlinewidth": 0,
             "ticks": ""
            },
            "type": "choropleth"
           }
          ],
          "contour": [
           {
            "colorbar": {
             "outlinewidth": 0,
             "ticks": ""
            },
            "colorscale": [
             [
              0,
              "#0d0887"
             ],
             [
              0.1111111111111111,
              "#46039f"
             ],
             [
              0.2222222222222222,
              "#7201a8"
             ],
             [
              0.3333333333333333,
              "#9c179e"
             ],
             [
              0.4444444444444444,
              "#bd3786"
             ],
             [
              0.5555555555555556,
              "#d8576b"
             ],
             [
              0.6666666666666666,
              "#ed7953"
             ],
             [
              0.7777777777777778,
              "#fb9f3a"
             ],
             [
              0.8888888888888888,
              "#fdca26"
             ],
             [
              1,
              "#f0f921"
             ]
            ],
            "type": "contour"
           }
          ],
          "contourcarpet": [
           {
            "colorbar": {
             "outlinewidth": 0,
             "ticks": ""
            },
            "type": "contourcarpet"
           }
          ],
          "heatmap": [
           {
            "colorbar": {
             "outlinewidth": 0,
             "ticks": ""
            },
            "colorscale": [
             [
              0,
              "#0d0887"
             ],
             [
              0.1111111111111111,
              "#46039f"
             ],
             [
              0.2222222222222222,
              "#7201a8"
             ],
             [
              0.3333333333333333,
              "#9c179e"
             ],
             [
              0.4444444444444444,
              "#bd3786"
             ],
             [
              0.5555555555555556,
              "#d8576b"
             ],
             [
              0.6666666666666666,
              "#ed7953"
             ],
             [
              0.7777777777777778,
              "#fb9f3a"
             ],
             [
              0.8888888888888888,
              "#fdca26"
             ],
             [
              1,
              "#f0f921"
             ]
            ],
            "type": "heatmap"
           }
          ],
          "heatmapgl": [
           {
            "colorbar": {
             "outlinewidth": 0,
             "ticks": ""
            },
            "colorscale": [
             [
              0,
              "#0d0887"
             ],
             [
              0.1111111111111111,
              "#46039f"
             ],
             [
              0.2222222222222222,
              "#7201a8"
             ],
             [
              0.3333333333333333,
              "#9c179e"
             ],
             [
              0.4444444444444444,
              "#bd3786"
             ],
             [
              0.5555555555555556,
              "#d8576b"
             ],
             [
              0.6666666666666666,
              "#ed7953"
             ],
             [
              0.7777777777777778,
              "#fb9f3a"
             ],
             [
              0.8888888888888888,
              "#fdca26"
             ],
             [
              1,
              "#f0f921"
             ]
            ],
            "type": "heatmapgl"
           }
          ],
          "histogram": [
           {
            "marker": {
             "pattern": {
              "fillmode": "overlay",
              "size": 10,
              "solidity": 0.2
             }
            },
            "type": "histogram"
           }
          ],
          "histogram2d": [
           {
            "colorbar": {
             "outlinewidth": 0,
             "ticks": ""
            },
            "colorscale": [
             [
              0,
              "#0d0887"
             ],
             [
              0.1111111111111111,
              "#46039f"
             ],
             [
              0.2222222222222222,
              "#7201a8"
             ],
             [
              0.3333333333333333,
              "#9c179e"
             ],
             [
              0.4444444444444444,
              "#bd3786"
             ],
             [
              0.5555555555555556,
              "#d8576b"
             ],
             [
              0.6666666666666666,
              "#ed7953"
             ],
             [
              0.7777777777777778,
              "#fb9f3a"
             ],
             [
              0.8888888888888888,
              "#fdca26"
             ],
             [
              1,
              "#f0f921"
             ]
            ],
            "type": "histogram2d"
           }
          ],
          "histogram2dcontour": [
           {
            "colorbar": {
             "outlinewidth": 0,
             "ticks": ""
            },
            "colorscale": [
             [
              0,
              "#0d0887"
             ],
             [
              0.1111111111111111,
              "#46039f"
             ],
             [
              0.2222222222222222,
              "#7201a8"
             ],
             [
              0.3333333333333333,
              "#9c179e"
             ],
             [
              0.4444444444444444,
              "#bd3786"
             ],
             [
              0.5555555555555556,
              "#d8576b"
             ],
             [
              0.6666666666666666,
              "#ed7953"
             ],
             [
              0.7777777777777778,
              "#fb9f3a"
             ],
             [
              0.8888888888888888,
              "#fdca26"
             ],
             [
              1,
              "#f0f921"
             ]
            ],
            "type": "histogram2dcontour"
           }
          ],
          "mesh3d": [
           {
            "colorbar": {
             "outlinewidth": 0,
             "ticks": ""
            },
            "type": "mesh3d"
           }
          ],
          "parcoords": [
           {
            "line": {
             "colorbar": {
              "outlinewidth": 0,
              "ticks": ""
             }
            },
            "type": "parcoords"
           }
          ],
          "pie": [
           {
            "automargin": true,
            "type": "pie"
           }
          ],
          "scatter": [
           {
            "marker": {
             "colorbar": {
              "outlinewidth": 0,
              "ticks": ""
             }
            },
            "type": "scatter"
           }
          ],
          "scatter3d": [
           {
            "line": {
             "colorbar": {
              "outlinewidth": 0,
              "ticks": ""
             }
            },
            "marker": {
             "colorbar": {
              "outlinewidth": 0,
              "ticks": ""
             }
            },
            "type": "scatter3d"
           }
          ],
          "scattercarpet": [
           {
            "marker": {
             "colorbar": {
              "outlinewidth": 0,
              "ticks": ""
             }
            },
            "type": "scattercarpet"
           }
          ],
          "scattergeo": [
           {
            "marker": {
             "colorbar": {
              "outlinewidth": 0,
              "ticks": ""
             }
            },
            "type": "scattergeo"
           }
          ],
          "scattergl": [
           {
            "marker": {
             "colorbar": {
              "outlinewidth": 0,
              "ticks": ""
             }
            },
            "type": "scattergl"
           }
          ],
          "scattermapbox": [
           {
            "marker": {
             "colorbar": {
              "outlinewidth": 0,
              "ticks": ""
             }
            },
            "type": "scattermapbox"
           }
          ],
          "scatterpolar": [
           {
            "marker": {
             "colorbar": {
              "outlinewidth": 0,
              "ticks": ""
             }
            },
            "type": "scatterpolar"
           }
          ],
          "scatterpolargl": [
           {
            "marker": {
             "colorbar": {
              "outlinewidth": 0,
              "ticks": ""
             }
            },
            "type": "scatterpolargl"
           }
          ],
          "scatterternary": [
           {
            "marker": {
             "colorbar": {
              "outlinewidth": 0,
              "ticks": ""
             }
            },
            "type": "scatterternary"
           }
          ],
          "surface": [
           {
            "colorbar": {
             "outlinewidth": 0,
             "ticks": ""
            },
            "colorscale": [
             [
              0,
              "#0d0887"
             ],
             [
              0.1111111111111111,
              "#46039f"
             ],
             [
              0.2222222222222222,
              "#7201a8"
             ],
             [
              0.3333333333333333,
              "#9c179e"
             ],
             [
              0.4444444444444444,
              "#bd3786"
             ],
             [
              0.5555555555555556,
              "#d8576b"
             ],
             [
              0.6666666666666666,
              "#ed7953"
             ],
             [
              0.7777777777777778,
              "#fb9f3a"
             ],
             [
              0.8888888888888888,
              "#fdca26"
             ],
             [
              1,
              "#f0f921"
             ]
            ],
            "type": "surface"
           }
          ],
          "table": [
           {
            "cells": {
             "fill": {
              "color": "#EBF0F8"
             },
             "line": {
              "color": "white"
             }
            },
            "header": {
             "fill": {
              "color": "#C8D4E3"
             },
             "line": {
              "color": "white"
             }
            },
            "type": "table"
           }
          ]
         },
         "layout": {
          "annotationdefaults": {
           "arrowcolor": "#2a3f5f",
           "arrowhead": 0,
           "arrowwidth": 1
          },
          "autotypenumbers": "strict",
          "coloraxis": {
           "colorbar": {
            "outlinewidth": 0,
            "ticks": ""
           }
          },
          "colorscale": {
           "diverging": [
            [
             0,
             "#8e0152"
            ],
            [
             0.1,
             "#c51b7d"
            ],
            [
             0.2,
             "#de77ae"
            ],
            [
             0.3,
             "#f1b6da"
            ],
            [
             0.4,
             "#fde0ef"
            ],
            [
             0.5,
             "#f7f7f7"
            ],
            [
             0.6,
             "#e6f5d0"
            ],
            [
             0.7,
             "#b8e186"
            ],
            [
             0.8,
             "#7fbc41"
            ],
            [
             0.9,
             "#4d9221"
            ],
            [
             1,
             "#276419"
            ]
           ],
           "sequential": [
            [
             0,
             "#0d0887"
            ],
            [
             0.1111111111111111,
             "#46039f"
            ],
            [
             0.2222222222222222,
             "#7201a8"
            ],
            [
             0.3333333333333333,
             "#9c179e"
            ],
            [
             0.4444444444444444,
             "#bd3786"
            ],
            [
             0.5555555555555556,
             "#d8576b"
            ],
            [
             0.6666666666666666,
             "#ed7953"
            ],
            [
             0.7777777777777778,
             "#fb9f3a"
            ],
            [
             0.8888888888888888,
             "#fdca26"
            ],
            [
             1,
             "#f0f921"
            ]
           ],
           "sequentialminus": [
            [
             0,
             "#0d0887"
            ],
            [
             0.1111111111111111,
             "#46039f"
            ],
            [
             0.2222222222222222,
             "#7201a8"
            ],
            [
             0.3333333333333333,
             "#9c179e"
            ],
            [
             0.4444444444444444,
             "#bd3786"
            ],
            [
             0.5555555555555556,
             "#d8576b"
            ],
            [
             0.6666666666666666,
             "#ed7953"
            ],
            [
             0.7777777777777778,
             "#fb9f3a"
            ],
            [
             0.8888888888888888,
             "#fdca26"
            ],
            [
             1,
             "#f0f921"
            ]
           ]
          },
          "colorway": [
           "#636efa",
           "#EF553B",
           "#00cc96",
           "#ab63fa",
           "#FFA15A",
           "#19d3f3",
           "#FF6692",
           "#B6E880",
           "#FF97FF",
           "#FECB52"
          ],
          "font": {
           "color": "#2a3f5f"
          },
          "geo": {
           "bgcolor": "white",
           "lakecolor": "white",
           "landcolor": "#E5ECF6",
           "showlakes": true,
           "showland": true,
           "subunitcolor": "white"
          },
          "hoverlabel": {
           "align": "left"
          },
          "hovermode": "closest",
          "mapbox": {
           "style": "light"
          },
          "paper_bgcolor": "white",
          "plot_bgcolor": "#E5ECF6",
          "polar": {
           "angularaxis": {
            "gridcolor": "white",
            "linecolor": "white",
            "ticks": ""
           },
           "bgcolor": "#E5ECF6",
           "radialaxis": {
            "gridcolor": "white",
            "linecolor": "white",
            "ticks": ""
           }
          },
          "scene": {
           "xaxis": {
            "backgroundcolor": "#E5ECF6",
            "gridcolor": "white",
            "gridwidth": 2,
            "linecolor": "white",
            "showbackground": true,
            "ticks": "",
            "zerolinecolor": "white"
           },
           "yaxis": {
            "backgroundcolor": "#E5ECF6",
            "gridcolor": "white",
            "gridwidth": 2,
            "linecolor": "white",
            "showbackground": true,
            "ticks": "",
            "zerolinecolor": "white"
           },
           "zaxis": {
            "backgroundcolor": "#E5ECF6",
            "gridcolor": "white",
            "gridwidth": 2,
            "linecolor": "white",
            "showbackground": true,
            "ticks": "",
            "zerolinecolor": "white"
           }
          },
          "shapedefaults": {
           "line": {
            "color": "#2a3f5f"
           }
          },
          "ternary": {
           "aaxis": {
            "gridcolor": "white",
            "linecolor": "white",
            "ticks": ""
           },
           "baxis": {
            "gridcolor": "white",
            "linecolor": "white",
            "ticks": ""
           },
           "bgcolor": "#E5ECF6",
           "caxis": {
            "gridcolor": "white",
            "linecolor": "white",
            "ticks": ""
           }
          },
          "title": {
           "x": 0.05
          },
          "xaxis": {
           "automargin": true,
           "gridcolor": "white",
           "linecolor": "white",
           "ticks": "",
           "title": {
            "standoff": 15
           },
           "zerolinecolor": "white",
           "zerolinewidth": 2
          },
          "yaxis": {
           "automargin": true,
           "gridcolor": "white",
           "linecolor": "white",
           "ticks": "",
           "title": {
            "standoff": 15
           },
           "zerolinecolor": "white",
           "zerolinewidth": 2
          }
         }
        },
        "xaxis": {
         "anchor": "y",
         "domain": [
          0,
          1
         ],
         "title": {
          "text": "DATETIME_STRING"
         }
        },
        "yaxis": {
         "anchor": "x",
         "domain": [
          0,
          1
         ],
         "title": {
          "text": "C_Cum"
         }
        }
       }
      }
     },
     "metadata": {},
     "output_type": "display_data"
    }
   ],
   "source": [
    "plotly1 = px.bar(finalDF_dropdupes, x='DATETIME_STRING', y='C_Cum', color='COUNTY', barmode='group')\n",
    "plotly1.show()"
   ]
  },
  {
   "cell_type": "code",
   "execution_count": 51,
   "metadata": {},
   "outputs": [
    {
     "data": {
      "application/vnd.plotly.v1+json": {
       "config": {
        "plotlyServerURL": "https://plot.ly"
       },
       "data": [
        {
         "alignmentgroup": "True",
         "hovertemplate": "COUNTY=FULTON<br>DATETIME_STRING=%{x}<br>C_Cum=%{y}<extra></extra>",
         "legendgroup": "FULTON",
         "marker": {
          "color": "#636efa",
          "pattern": {
           "shape": ""
          }
         },
         "name": "FULTON",
         "offsetgroup": "FULTON",
         "orientation": "v",
         "showlegend": true,
         "textposition": "auto",
         "type": "bar",
         "x": [
          "2020-04",
          "2020-05"
         ],
         "xaxis": "x",
         "y": [
          3189,
          4657
         ],
         "yaxis": "y"
        },
        {
         "alignmentgroup": "True",
         "hovertemplate": "COUNTY=COBB<br>DATETIME_STRING=%{x}<br>C_Cum=%{y}<extra></extra>",
         "legendgroup": "COBB",
         "marker": {
          "color": "#EF553B",
          "pattern": {
           "shape": ""
          }
         },
         "name": "COBB",
         "offsetgroup": "COBB",
         "orientation": "v",
         "showlegend": true,
         "textposition": "auto",
         "type": "bar",
         "x": [
          "2020-04",
          "2020-05"
         ],
         "xaxis": "x",
         "y": [
          2167,
          3386
         ],
         "yaxis": "y"
        },
        {
         "alignmentgroup": "True",
         "hovertemplate": "COUNTY=GWINNETT<br>DATETIME_STRING=%{x}<br>C_Cum=%{y}<extra></extra>",
         "legendgroup": "GWINNETT",
         "marker": {
          "color": "#00cc96",
          "pattern": {
           "shape": ""
          }
         },
         "name": "GWINNETT",
         "offsetgroup": "GWINNETT",
         "orientation": "v",
         "showlegend": true,
         "textposition": "auto",
         "type": "bar",
         "x": [
          "2020-04",
          "2020-05"
         ],
         "xaxis": "x",
         "y": [
          2242,
          4544
         ],
         "yaxis": "y"
        },
        {
         "alignmentgroup": "True",
         "hovertemplate": "COUNTY=DEKALB<br>DATETIME_STRING=%{x}<br>C_Cum=%{y}<extra></extra>",
         "legendgroup": "DEKALB",
         "marker": {
          "color": "#ab63fa",
          "pattern": {
           "shape": ""
          }
         },
         "name": "DEKALB",
         "offsetgroup": "DEKALB",
         "orientation": "v",
         "showlegend": true,
         "textposition": "auto",
         "type": "bar",
         "x": [
          "2020-04",
          "2020-05"
         ],
         "xaxis": "x",
         "y": [
          2517,
          4271
         ],
         "yaxis": "y"
        },
        {
         "alignmentgroup": "True",
         "hovertemplate": "COUNTY=HALL<br>DATETIME_STRING=%{x}<br>C_Cum=%{y}<extra></extra>",
         "legendgroup": "HALL",
         "marker": {
          "color": "#FFA15A",
          "pattern": {
           "shape": ""
          }
         },
         "name": "HALL",
         "offsetgroup": "HALL",
         "orientation": "v",
         "showlegend": true,
         "textposition": "auto",
         "type": "bar",
         "x": [
          "2020-04",
          "2020-05"
         ],
         "xaxis": "x",
         "y": [
          2022,
          2163
         ],
         "yaxis": "y"
        }
       ],
       "layout": {
        "barmode": "stack",
        "legend": {
         "title": {
          "text": "COUNTY"
         },
         "tracegroupgap": 0
        },
        "margin": {
         "t": 60
        },
        "template": {
         "data": {
          "bar": [
           {
            "error_x": {
             "color": "#2a3f5f"
            },
            "error_y": {
             "color": "#2a3f5f"
            },
            "marker": {
             "line": {
              "color": "#E5ECF6",
              "width": 0.5
             },
             "pattern": {
              "fillmode": "overlay",
              "size": 10,
              "solidity": 0.2
             }
            },
            "type": "bar"
           }
          ],
          "barpolar": [
           {
            "marker": {
             "line": {
              "color": "#E5ECF6",
              "width": 0.5
             },
             "pattern": {
              "fillmode": "overlay",
              "size": 10,
              "solidity": 0.2
             }
            },
            "type": "barpolar"
           }
          ],
          "carpet": [
           {
            "aaxis": {
             "endlinecolor": "#2a3f5f",
             "gridcolor": "white",
             "linecolor": "white",
             "minorgridcolor": "white",
             "startlinecolor": "#2a3f5f"
            },
            "baxis": {
             "endlinecolor": "#2a3f5f",
             "gridcolor": "white",
             "linecolor": "white",
             "minorgridcolor": "white",
             "startlinecolor": "#2a3f5f"
            },
            "type": "carpet"
           }
          ],
          "choropleth": [
           {
            "colorbar": {
             "outlinewidth": 0,
             "ticks": ""
            },
            "type": "choropleth"
           }
          ],
          "contour": [
           {
            "colorbar": {
             "outlinewidth": 0,
             "ticks": ""
            },
            "colorscale": [
             [
              0,
              "#0d0887"
             ],
             [
              0.1111111111111111,
              "#46039f"
             ],
             [
              0.2222222222222222,
              "#7201a8"
             ],
             [
              0.3333333333333333,
              "#9c179e"
             ],
             [
              0.4444444444444444,
              "#bd3786"
             ],
             [
              0.5555555555555556,
              "#d8576b"
             ],
             [
              0.6666666666666666,
              "#ed7953"
             ],
             [
              0.7777777777777778,
              "#fb9f3a"
             ],
             [
              0.8888888888888888,
              "#fdca26"
             ],
             [
              1,
              "#f0f921"
             ]
            ],
            "type": "contour"
           }
          ],
          "contourcarpet": [
           {
            "colorbar": {
             "outlinewidth": 0,
             "ticks": ""
            },
            "type": "contourcarpet"
           }
          ],
          "heatmap": [
           {
            "colorbar": {
             "outlinewidth": 0,
             "ticks": ""
            },
            "colorscale": [
             [
              0,
              "#0d0887"
             ],
             [
              0.1111111111111111,
              "#46039f"
             ],
             [
              0.2222222222222222,
              "#7201a8"
             ],
             [
              0.3333333333333333,
              "#9c179e"
             ],
             [
              0.4444444444444444,
              "#bd3786"
             ],
             [
              0.5555555555555556,
              "#d8576b"
             ],
             [
              0.6666666666666666,
              "#ed7953"
             ],
             [
              0.7777777777777778,
              "#fb9f3a"
             ],
             [
              0.8888888888888888,
              "#fdca26"
             ],
             [
              1,
              "#f0f921"
             ]
            ],
            "type": "heatmap"
           }
          ],
          "heatmapgl": [
           {
            "colorbar": {
             "outlinewidth": 0,
             "ticks": ""
            },
            "colorscale": [
             [
              0,
              "#0d0887"
             ],
             [
              0.1111111111111111,
              "#46039f"
             ],
             [
              0.2222222222222222,
              "#7201a8"
             ],
             [
              0.3333333333333333,
              "#9c179e"
             ],
             [
              0.4444444444444444,
              "#bd3786"
             ],
             [
              0.5555555555555556,
              "#d8576b"
             ],
             [
              0.6666666666666666,
              "#ed7953"
             ],
             [
              0.7777777777777778,
              "#fb9f3a"
             ],
             [
              0.8888888888888888,
              "#fdca26"
             ],
             [
              1,
              "#f0f921"
             ]
            ],
            "type": "heatmapgl"
           }
          ],
          "histogram": [
           {
            "marker": {
             "pattern": {
              "fillmode": "overlay",
              "size": 10,
              "solidity": 0.2
             }
            },
            "type": "histogram"
           }
          ],
          "histogram2d": [
           {
            "colorbar": {
             "outlinewidth": 0,
             "ticks": ""
            },
            "colorscale": [
             [
              0,
              "#0d0887"
             ],
             [
              0.1111111111111111,
              "#46039f"
             ],
             [
              0.2222222222222222,
              "#7201a8"
             ],
             [
              0.3333333333333333,
              "#9c179e"
             ],
             [
              0.4444444444444444,
              "#bd3786"
             ],
             [
              0.5555555555555556,
              "#d8576b"
             ],
             [
              0.6666666666666666,
              "#ed7953"
             ],
             [
              0.7777777777777778,
              "#fb9f3a"
             ],
             [
              0.8888888888888888,
              "#fdca26"
             ],
             [
              1,
              "#f0f921"
             ]
            ],
            "type": "histogram2d"
           }
          ],
          "histogram2dcontour": [
           {
            "colorbar": {
             "outlinewidth": 0,
             "ticks": ""
            },
            "colorscale": [
             [
              0,
              "#0d0887"
             ],
             [
              0.1111111111111111,
              "#46039f"
             ],
             [
              0.2222222222222222,
              "#7201a8"
             ],
             [
              0.3333333333333333,
              "#9c179e"
             ],
             [
              0.4444444444444444,
              "#bd3786"
             ],
             [
              0.5555555555555556,
              "#d8576b"
             ],
             [
              0.6666666666666666,
              "#ed7953"
             ],
             [
              0.7777777777777778,
              "#fb9f3a"
             ],
             [
              0.8888888888888888,
              "#fdca26"
             ],
             [
              1,
              "#f0f921"
             ]
            ],
            "type": "histogram2dcontour"
           }
          ],
          "mesh3d": [
           {
            "colorbar": {
             "outlinewidth": 0,
             "ticks": ""
            },
            "type": "mesh3d"
           }
          ],
          "parcoords": [
           {
            "line": {
             "colorbar": {
              "outlinewidth": 0,
              "ticks": ""
             }
            },
            "type": "parcoords"
           }
          ],
          "pie": [
           {
            "automargin": true,
            "type": "pie"
           }
          ],
          "scatter": [
           {
            "marker": {
             "colorbar": {
              "outlinewidth": 0,
              "ticks": ""
             }
            },
            "type": "scatter"
           }
          ],
          "scatter3d": [
           {
            "line": {
             "colorbar": {
              "outlinewidth": 0,
              "ticks": ""
             }
            },
            "marker": {
             "colorbar": {
              "outlinewidth": 0,
              "ticks": ""
             }
            },
            "type": "scatter3d"
           }
          ],
          "scattercarpet": [
           {
            "marker": {
             "colorbar": {
              "outlinewidth": 0,
              "ticks": ""
             }
            },
            "type": "scattercarpet"
           }
          ],
          "scattergeo": [
           {
            "marker": {
             "colorbar": {
              "outlinewidth": 0,
              "ticks": ""
             }
            },
            "type": "scattergeo"
           }
          ],
          "scattergl": [
           {
            "marker": {
             "colorbar": {
              "outlinewidth": 0,
              "ticks": ""
             }
            },
            "type": "scattergl"
           }
          ],
          "scattermapbox": [
           {
            "marker": {
             "colorbar": {
              "outlinewidth": 0,
              "ticks": ""
             }
            },
            "type": "scattermapbox"
           }
          ],
          "scatterpolar": [
           {
            "marker": {
             "colorbar": {
              "outlinewidth": 0,
              "ticks": ""
             }
            },
            "type": "scatterpolar"
           }
          ],
          "scatterpolargl": [
           {
            "marker": {
             "colorbar": {
              "outlinewidth": 0,
              "ticks": ""
             }
            },
            "type": "scatterpolargl"
           }
          ],
          "scatterternary": [
           {
            "marker": {
             "colorbar": {
              "outlinewidth": 0,
              "ticks": ""
             }
            },
            "type": "scatterternary"
           }
          ],
          "surface": [
           {
            "colorbar": {
             "outlinewidth": 0,
             "ticks": ""
            },
            "colorscale": [
             [
              0,
              "#0d0887"
             ],
             [
              0.1111111111111111,
              "#46039f"
             ],
             [
              0.2222222222222222,
              "#7201a8"
             ],
             [
              0.3333333333333333,
              "#9c179e"
             ],
             [
              0.4444444444444444,
              "#bd3786"
             ],
             [
              0.5555555555555556,
              "#d8576b"
             ],
             [
              0.6666666666666666,
              "#ed7953"
             ],
             [
              0.7777777777777778,
              "#fb9f3a"
             ],
             [
              0.8888888888888888,
              "#fdca26"
             ],
             [
              1,
              "#f0f921"
             ]
            ],
            "type": "surface"
           }
          ],
          "table": [
           {
            "cells": {
             "fill": {
              "color": "#EBF0F8"
             },
             "line": {
              "color": "white"
             }
            },
            "header": {
             "fill": {
              "color": "#C8D4E3"
             },
             "line": {
              "color": "white"
             }
            },
            "type": "table"
           }
          ]
         },
         "layout": {
          "annotationdefaults": {
           "arrowcolor": "#2a3f5f",
           "arrowhead": 0,
           "arrowwidth": 1
          },
          "autotypenumbers": "strict",
          "coloraxis": {
           "colorbar": {
            "outlinewidth": 0,
            "ticks": ""
           }
          },
          "colorscale": {
           "diverging": [
            [
             0,
             "#8e0152"
            ],
            [
             0.1,
             "#c51b7d"
            ],
            [
             0.2,
             "#de77ae"
            ],
            [
             0.3,
             "#f1b6da"
            ],
            [
             0.4,
             "#fde0ef"
            ],
            [
             0.5,
             "#f7f7f7"
            ],
            [
             0.6,
             "#e6f5d0"
            ],
            [
             0.7,
             "#b8e186"
            ],
            [
             0.8,
             "#7fbc41"
            ],
            [
             0.9,
             "#4d9221"
            ],
            [
             1,
             "#276419"
            ]
           ],
           "sequential": [
            [
             0,
             "#0d0887"
            ],
            [
             0.1111111111111111,
             "#46039f"
            ],
            [
             0.2222222222222222,
             "#7201a8"
            ],
            [
             0.3333333333333333,
             "#9c179e"
            ],
            [
             0.4444444444444444,
             "#bd3786"
            ],
            [
             0.5555555555555556,
             "#d8576b"
            ],
            [
             0.6666666666666666,
             "#ed7953"
            ],
            [
             0.7777777777777778,
             "#fb9f3a"
            ],
            [
             0.8888888888888888,
             "#fdca26"
            ],
            [
             1,
             "#f0f921"
            ]
           ],
           "sequentialminus": [
            [
             0,
             "#0d0887"
            ],
            [
             0.1111111111111111,
             "#46039f"
            ],
            [
             0.2222222222222222,
             "#7201a8"
            ],
            [
             0.3333333333333333,
             "#9c179e"
            ],
            [
             0.4444444444444444,
             "#bd3786"
            ],
            [
             0.5555555555555556,
             "#d8576b"
            ],
            [
             0.6666666666666666,
             "#ed7953"
            ],
            [
             0.7777777777777778,
             "#fb9f3a"
            ],
            [
             0.8888888888888888,
             "#fdca26"
            ],
            [
             1,
             "#f0f921"
            ]
           ]
          },
          "colorway": [
           "#636efa",
           "#EF553B",
           "#00cc96",
           "#ab63fa",
           "#FFA15A",
           "#19d3f3",
           "#FF6692",
           "#B6E880",
           "#FF97FF",
           "#FECB52"
          ],
          "font": {
           "color": "#2a3f5f"
          },
          "geo": {
           "bgcolor": "white",
           "lakecolor": "white",
           "landcolor": "#E5ECF6",
           "showlakes": true,
           "showland": true,
           "subunitcolor": "white"
          },
          "hoverlabel": {
           "align": "left"
          },
          "hovermode": "closest",
          "mapbox": {
           "style": "light"
          },
          "paper_bgcolor": "white",
          "plot_bgcolor": "#E5ECF6",
          "polar": {
           "angularaxis": {
            "gridcolor": "white",
            "linecolor": "white",
            "ticks": ""
           },
           "bgcolor": "#E5ECF6",
           "radialaxis": {
            "gridcolor": "white",
            "linecolor": "white",
            "ticks": ""
           }
          },
          "scene": {
           "xaxis": {
            "backgroundcolor": "#E5ECF6",
            "gridcolor": "white",
            "gridwidth": 2,
            "linecolor": "white",
            "showbackground": true,
            "ticks": "",
            "zerolinecolor": "white"
           },
           "yaxis": {
            "backgroundcolor": "#E5ECF6",
            "gridcolor": "white",
            "gridwidth": 2,
            "linecolor": "white",
            "showbackground": true,
            "ticks": "",
            "zerolinecolor": "white"
           },
           "zaxis": {
            "backgroundcolor": "#E5ECF6",
            "gridcolor": "white",
            "gridwidth": 2,
            "linecolor": "white",
            "showbackground": true,
            "ticks": "",
            "zerolinecolor": "white"
           }
          },
          "shapedefaults": {
           "line": {
            "color": "#2a3f5f"
           }
          },
          "ternary": {
           "aaxis": {
            "gridcolor": "white",
            "linecolor": "white",
            "ticks": ""
           },
           "baxis": {
            "gridcolor": "white",
            "linecolor": "white",
            "ticks": ""
           },
           "bgcolor": "#E5ECF6",
           "caxis": {
            "gridcolor": "white",
            "linecolor": "white",
            "ticks": ""
           }
          },
          "title": {
           "x": 0.05
          },
          "xaxis": {
           "automargin": true,
           "gridcolor": "white",
           "linecolor": "white",
           "ticks": "",
           "title": {
            "standoff": 15
           },
           "zerolinecolor": "white",
           "zerolinewidth": 2
          },
          "yaxis": {
           "automargin": true,
           "gridcolor": "white",
           "linecolor": "white",
           "ticks": "",
           "title": {
            "standoff": 15
           },
           "zerolinecolor": "white",
           "zerolinewidth": 2
          }
         }
        },
        "xaxis": {
         "anchor": "y",
         "domain": [
          0,
          1
         ],
         "title": {
          "text": "DATETIME_STRING"
         }
        },
        "yaxis": {
         "anchor": "x",
         "domain": [
          0,
          1
         ],
         "title": {
          "text": "C_Cum"
         }
        }
       }
      }
     },
     "metadata": {},
     "output_type": "display_data"
    }
   ],
   "source": [
    "plotly2 = px.bar(finalDF_dropdupes, x='DATETIME_STRING', y='C_Cum', color='COUNTY', barmode='stack')\n",
    "plotly2.show()"
   ]
  },
  {
   "cell_type": "markdown",
   "metadata": {},
   "source": [
    "##looking at total covid cases by day"
   ]
  },
  {
   "cell_type": "code",
   "execution_count": 52,
   "metadata": {},
   "outputs": [
    {
     "data": {
      "text/plain": [
       "305"
      ]
     },
     "execution_count": 52,
     "metadata": {},
     "output_type": "execute_result"
    }
   ],
   "source": [
    "daily = finalDF\n",
    "daily\n",
    "len(daily)"
   ]
  },
  {
   "cell_type": "code",
   "execution_count": 53,
   "metadata": {},
   "outputs": [
    {
     "data": {
      "text/html": [
       "<div>\n",
       "<style scoped>\n",
       "    .dataframe tbody tr th:only-of-type {\n",
       "        vertical-align: middle;\n",
       "    }\n",
       "\n",
       "    .dataframe tbody tr th {\n",
       "        vertical-align: top;\n",
       "    }\n",
       "\n",
       "    .dataframe thead th {\n",
       "        text-align: right;\n",
       "    }\n",
       "</style>\n",
       "<table border=\"1\" class=\"dataframe\">\n",
       "  <thead>\n",
       "    <tr style=\"text-align: right;\">\n",
       "      <th>DATESTAMP_MOD_DAY</th>\n",
       "      <th>2020-04-01</th>\n",
       "      <th>2020-04-02</th>\n",
       "      <th>2020-04-03</th>\n",
       "      <th>2020-04-04</th>\n",
       "      <th>2020-04-05</th>\n",
       "      <th>2020-04-06</th>\n",
       "      <th>2020-04-07</th>\n",
       "      <th>2020-04-08</th>\n",
       "      <th>2020-04-09</th>\n",
       "      <th>2020-04-10</th>\n",
       "      <th>...</th>\n",
       "      <th>2020-05-22</th>\n",
       "      <th>2020-05-23</th>\n",
       "      <th>2020-05-24</th>\n",
       "      <th>2020-05-25</th>\n",
       "      <th>2020-05-26</th>\n",
       "      <th>2020-05-27</th>\n",
       "      <th>2020-05-28</th>\n",
       "      <th>2020-05-29</th>\n",
       "      <th>2020-05-30</th>\n",
       "      <th>2020-05-31</th>\n",
       "    </tr>\n",
       "    <tr>\n",
       "      <th>COUNTY</th>\n",
       "      <th></th>\n",
       "      <th></th>\n",
       "      <th></th>\n",
       "      <th></th>\n",
       "      <th></th>\n",
       "      <th></th>\n",
       "      <th></th>\n",
       "      <th></th>\n",
       "      <th></th>\n",
       "      <th></th>\n",
       "      <th></th>\n",
       "      <th></th>\n",
       "      <th></th>\n",
       "      <th></th>\n",
       "      <th></th>\n",
       "      <th></th>\n",
       "      <th></th>\n",
       "      <th></th>\n",
       "      <th></th>\n",
       "      <th></th>\n",
       "      <th></th>\n",
       "    </tr>\n",
       "  </thead>\n",
       "  <tbody>\n",
       "    <tr>\n",
       "      <th>COBB</th>\n",
       "      <td>867</td>\n",
       "      <td>893</td>\n",
       "      <td>921</td>\n",
       "      <td>935</td>\n",
       "      <td>956</td>\n",
       "      <td>999</td>\n",
       "      <td>1026</td>\n",
       "      <td>1073</td>\n",
       "      <td>1116</td>\n",
       "      <td>1160</td>\n",
       "      <td>...</td>\n",
       "      <td>3091</td>\n",
       "      <td>3131</td>\n",
       "      <td>3147</td>\n",
       "      <td>3178</td>\n",
       "      <td>3222</td>\n",
       "      <td>3259</td>\n",
       "      <td>3291</td>\n",
       "      <td>3333</td>\n",
       "      <td>3365</td>\n",
       "      <td>3386</td>\n",
       "    </tr>\n",
       "    <tr>\n",
       "      <th>DEKALB</th>\n",
       "      <td>937</td>\n",
       "      <td>987</td>\n",
       "      <td>1038</td>\n",
       "      <td>1069</td>\n",
       "      <td>1099</td>\n",
       "      <td>1159</td>\n",
       "      <td>1213</td>\n",
       "      <td>1252</td>\n",
       "      <td>1317</td>\n",
       "      <td>1371</td>\n",
       "      <td>...</td>\n",
       "      <td>3858</td>\n",
       "      <td>3891</td>\n",
       "      <td>3924</td>\n",
       "      <td>3959</td>\n",
       "      <td>4025</td>\n",
       "      <td>4098</td>\n",
       "      <td>4153</td>\n",
       "      <td>4209</td>\n",
       "      <td>4240</td>\n",
       "      <td>4271</td>\n",
       "    </tr>\n",
       "    <tr>\n",
       "      <th>FULTON</th>\n",
       "      <td>1499</td>\n",
       "      <td>1549</td>\n",
       "      <td>1617</td>\n",
       "      <td>1655</td>\n",
       "      <td>1685</td>\n",
       "      <td>1747</td>\n",
       "      <td>1824</td>\n",
       "      <td>1893</td>\n",
       "      <td>1952</td>\n",
       "      <td>2007</td>\n",
       "      <td>...</td>\n",
       "      <td>4276</td>\n",
       "      <td>4310</td>\n",
       "      <td>4336</td>\n",
       "      <td>4365</td>\n",
       "      <td>4437</td>\n",
       "      <td>4510</td>\n",
       "      <td>4558</td>\n",
       "      <td>4614</td>\n",
       "      <td>4637</td>\n",
       "      <td>4657</td>\n",
       "    </tr>\n",
       "    <tr>\n",
       "      <th>GWINNETT</th>\n",
       "      <td>614</td>\n",
       "      <td>657</td>\n",
       "      <td>702</td>\n",
       "      <td>734</td>\n",
       "      <td>766</td>\n",
       "      <td>811</td>\n",
       "      <td>858</td>\n",
       "      <td>905</td>\n",
       "      <td>952</td>\n",
       "      <td>1002</td>\n",
       "      <td>...</td>\n",
       "      <td>3781</td>\n",
       "      <td>3864</td>\n",
       "      <td>3928</td>\n",
       "      <td>3985</td>\n",
       "      <td>4101</td>\n",
       "      <td>4216</td>\n",
       "      <td>4304</td>\n",
       "      <td>4410</td>\n",
       "      <td>4503</td>\n",
       "      <td>4544</td>\n",
       "    </tr>\n",
       "    <tr>\n",
       "      <th>HALL</th>\n",
       "      <td>257</td>\n",
       "      <td>300</td>\n",
       "      <td>336</td>\n",
       "      <td>359</td>\n",
       "      <td>392</td>\n",
       "      <td>453</td>\n",
       "      <td>502</td>\n",
       "      <td>566</td>\n",
       "      <td>628</td>\n",
       "      <td>686</td>\n",
       "      <td>...</td>\n",
       "      <td>2579</td>\n",
       "      <td>2594</td>\n",
       "      <td>2603</td>\n",
       "      <td>2624</td>\n",
       "      <td>2634</td>\n",
       "      <td>2653</td>\n",
       "      <td>2668</td>\n",
       "      <td>2682</td>\n",
       "      <td>2707</td>\n",
       "      <td>2713</td>\n",
       "    </tr>\n",
       "  </tbody>\n",
       "</table>\n",
       "<p>5 rows × 61 columns</p>\n",
       "</div>"
      ],
      "text/plain": [
       "DATESTAMP_MOD_DAY  2020-04-01  2020-04-02  2020-04-03  2020-04-04  2020-04-05  \\\n",
       "COUNTY                                                                          \n",
       "COBB                      867         893         921         935         956   \n",
       "DEKALB                    937         987        1038        1069        1099   \n",
       "FULTON                   1499        1549        1617        1655        1685   \n",
       "GWINNETT                  614         657         702         734         766   \n",
       "HALL                      257         300         336         359         392   \n",
       "\n",
       "DATESTAMP_MOD_DAY  2020-04-06  2020-04-07  2020-04-08  2020-04-09  2020-04-10  \\\n",
       "COUNTY                                                                          \n",
       "COBB                      999        1026        1073        1116        1160   \n",
       "DEKALB                   1159        1213        1252        1317        1371   \n",
       "FULTON                   1747        1824        1893        1952        2007   \n",
       "GWINNETT                  811         858         905         952        1002   \n",
       "HALL                      453         502         566         628         686   \n",
       "\n",
       "DATESTAMP_MOD_DAY  ...  2020-05-22  2020-05-23  2020-05-24  2020-05-25  \\\n",
       "COUNTY             ...                                                   \n",
       "COBB               ...        3091        3131        3147        3178   \n",
       "DEKALB             ...        3858        3891        3924        3959   \n",
       "FULTON             ...        4276        4310        4336        4365   \n",
       "GWINNETT           ...        3781        3864        3928        3985   \n",
       "HALL               ...        2579        2594        2603        2624   \n",
       "\n",
       "DATESTAMP_MOD_DAY  2020-05-26  2020-05-27  2020-05-28  2020-05-29  2020-05-30  \\\n",
       "COUNTY                                                                          \n",
       "COBB                     3222        3259        3291        3333        3365   \n",
       "DEKALB                   4025        4098        4153        4209        4240   \n",
       "FULTON                   4437        4510        4558        4614        4637   \n",
       "GWINNETT                 4101        4216        4304        4410        4503   \n",
       "HALL                     2634        2653        2668        2682        2707   \n",
       "\n",
       "DATESTAMP_MOD_DAY  2020-05-31  \n",
       "COUNTY                         \n",
       "COBB                     3386  \n",
       "DEKALB                   4271  \n",
       "FULTON                   4657  \n",
       "GWINNETT                 4544  \n",
       "HALL                     2713  \n",
       "\n",
       "[5 rows x 61 columns]"
      ]
     },
     "execution_count": 53,
     "metadata": {},
     "output_type": "execute_result"
    }
   ],
   "source": [
    "pd.pivot_table(daily, values= 'C_Cum', index=['COUNTY'], columns=['DATESTAMP_MOD_DAY'], aggfunc=np.sum)"
   ]
  },
  {
   "cell_type": "code",
   "execution_count": 54,
   "metadata": {},
   "outputs": [
    {
     "data": {
      "text/html": [
       "<div>\n",
       "<style scoped>\n",
       "    .dataframe tbody tr th:only-of-type {\n",
       "        vertical-align: middle;\n",
       "    }\n",
       "\n",
       "    .dataframe tbody tr th {\n",
       "        vertical-align: top;\n",
       "    }\n",
       "\n",
       "    .dataframe thead th {\n",
       "        text-align: right;\n",
       "    }\n",
       "</style>\n",
       "<table border=\"1\" class=\"dataframe\">\n",
       "  <thead>\n",
       "    <tr style=\"text-align: right;\">\n",
       "      <th>COUNTY</th>\n",
       "      <th>COBB</th>\n",
       "      <th>DEKALB</th>\n",
       "      <th>FULTON</th>\n",
       "      <th>GWINNETT</th>\n",
       "      <th>HALL</th>\n",
       "    </tr>\n",
       "    <tr>\n",
       "      <th>DATESTAMP_MOD_DAY</th>\n",
       "      <th></th>\n",
       "      <th></th>\n",
       "      <th></th>\n",
       "      <th></th>\n",
       "      <th></th>\n",
       "    </tr>\n",
       "  </thead>\n",
       "  <tbody>\n",
       "    <tr>\n",
       "      <th>2020-04-01</th>\n",
       "      <td>867</td>\n",
       "      <td>937</td>\n",
       "      <td>1499</td>\n",
       "      <td>614</td>\n",
       "      <td>257</td>\n",
       "    </tr>\n",
       "    <tr>\n",
       "      <th>2020-04-02</th>\n",
       "      <td>893</td>\n",
       "      <td>987</td>\n",
       "      <td>1549</td>\n",
       "      <td>657</td>\n",
       "      <td>300</td>\n",
       "    </tr>\n",
       "    <tr>\n",
       "      <th>2020-04-03</th>\n",
       "      <td>921</td>\n",
       "      <td>1038</td>\n",
       "      <td>1617</td>\n",
       "      <td>702</td>\n",
       "      <td>336</td>\n",
       "    </tr>\n",
       "    <tr>\n",
       "      <th>2020-04-04</th>\n",
       "      <td>935</td>\n",
       "      <td>1069</td>\n",
       "      <td>1655</td>\n",
       "      <td>734</td>\n",
       "      <td>359</td>\n",
       "    </tr>\n",
       "    <tr>\n",
       "      <th>2020-04-05</th>\n",
       "      <td>956</td>\n",
       "      <td>1099</td>\n",
       "      <td>1685</td>\n",
       "      <td>766</td>\n",
       "      <td>392</td>\n",
       "    </tr>\n",
       "    <tr>\n",
       "      <th>2020-04-06</th>\n",
       "      <td>999</td>\n",
       "      <td>1159</td>\n",
       "      <td>1747</td>\n",
       "      <td>811</td>\n",
       "      <td>453</td>\n",
       "    </tr>\n",
       "    <tr>\n",
       "      <th>2020-04-07</th>\n",
       "      <td>1026</td>\n",
       "      <td>1213</td>\n",
       "      <td>1824</td>\n",
       "      <td>858</td>\n",
       "      <td>502</td>\n",
       "    </tr>\n",
       "    <tr>\n",
       "      <th>2020-04-08</th>\n",
       "      <td>1073</td>\n",
       "      <td>1252</td>\n",
       "      <td>1893</td>\n",
       "      <td>905</td>\n",
       "      <td>566</td>\n",
       "    </tr>\n",
       "    <tr>\n",
       "      <th>2020-04-09</th>\n",
       "      <td>1116</td>\n",
       "      <td>1317</td>\n",
       "      <td>1952</td>\n",
       "      <td>952</td>\n",
       "      <td>628</td>\n",
       "    </tr>\n",
       "    <tr>\n",
       "      <th>2020-04-10</th>\n",
       "      <td>1160</td>\n",
       "      <td>1371</td>\n",
       "      <td>2007</td>\n",
       "      <td>1002</td>\n",
       "      <td>686</td>\n",
       "    </tr>\n",
       "    <tr>\n",
       "      <th>2020-04-11</th>\n",
       "      <td>1199</td>\n",
       "      <td>1428</td>\n",
       "      <td>2060</td>\n",
       "      <td>1033</td>\n",
       "      <td>753</td>\n",
       "    </tr>\n",
       "    <tr>\n",
       "      <th>2020-04-12</th>\n",
       "      <td>1229</td>\n",
       "      <td>1458</td>\n",
       "      <td>2099</td>\n",
       "      <td>1061</td>\n",
       "      <td>782</td>\n",
       "    </tr>\n",
       "    <tr>\n",
       "      <th>2020-04-13</th>\n",
       "      <td>1297</td>\n",
       "      <td>1542</td>\n",
       "      <td>2153</td>\n",
       "      <td>1114</td>\n",
       "      <td>831</td>\n",
       "    </tr>\n",
       "    <tr>\n",
       "      <th>2020-04-14</th>\n",
       "      <td>1355</td>\n",
       "      <td>1610</td>\n",
       "      <td>2213</td>\n",
       "      <td>1163</td>\n",
       "      <td>902</td>\n",
       "    </tr>\n",
       "    <tr>\n",
       "      <th>2020-04-15</th>\n",
       "      <td>1415</td>\n",
       "      <td>1665</td>\n",
       "      <td>2296</td>\n",
       "      <td>1218</td>\n",
       "      <td>971</td>\n",
       "    </tr>\n",
       "    <tr>\n",
       "      <th>2020-04-16</th>\n",
       "      <td>1452</td>\n",
       "      <td>1724</td>\n",
       "      <td>2353</td>\n",
       "      <td>1268</td>\n",
       "      <td>1027</td>\n",
       "    </tr>\n",
       "    <tr>\n",
       "      <th>2020-04-17</th>\n",
       "      <td>1507</td>\n",
       "      <td>1785</td>\n",
       "      <td>2420</td>\n",
       "      <td>1335</td>\n",
       "      <td>1104</td>\n",
       "    </tr>\n",
       "    <tr>\n",
       "      <th>2020-04-18</th>\n",
       "      <td>1537</td>\n",
       "      <td>1827</td>\n",
       "      <td>2459</td>\n",
       "      <td>1383</td>\n",
       "      <td>1142</td>\n",
       "    </tr>\n",
       "    <tr>\n",
       "      <th>2020-04-19</th>\n",
       "      <td>1556</td>\n",
       "      <td>1851</td>\n",
       "      <td>2532</td>\n",
       "      <td>1422</td>\n",
       "      <td>1318</td>\n",
       "    </tr>\n",
       "    <tr>\n",
       "      <th>2020-04-20</th>\n",
       "      <td>1605</td>\n",
       "      <td>1915</td>\n",
       "      <td>2616</td>\n",
       "      <td>1509</td>\n",
       "      <td>1394</td>\n",
       "    </tr>\n",
       "    <tr>\n",
       "      <th>2020-04-21</th>\n",
       "      <td>1697</td>\n",
       "      <td>1977</td>\n",
       "      <td>2676</td>\n",
       "      <td>1610</td>\n",
       "      <td>1439</td>\n",
       "    </tr>\n",
       "    <tr>\n",
       "      <th>2020-04-22</th>\n",
       "      <td>1752</td>\n",
       "      <td>2053</td>\n",
       "      <td>2735</td>\n",
       "      <td>1703</td>\n",
       "      <td>1498</td>\n",
       "    </tr>\n",
       "    <tr>\n",
       "      <th>2020-04-23</th>\n",
       "      <td>1801</td>\n",
       "      <td>2122</td>\n",
       "      <td>2770</td>\n",
       "      <td>1781</td>\n",
       "      <td>1568</td>\n",
       "    </tr>\n",
       "    <tr>\n",
       "      <th>2020-04-24</th>\n",
       "      <td>1855</td>\n",
       "      <td>2170</td>\n",
       "      <td>2835</td>\n",
       "      <td>1853</td>\n",
       "      <td>1645</td>\n",
       "    </tr>\n",
       "    <tr>\n",
       "      <th>2020-04-25</th>\n",
       "      <td>1887</td>\n",
       "      <td>2204</td>\n",
       "      <td>2874</td>\n",
       "      <td>1889</td>\n",
       "      <td>1679</td>\n",
       "    </tr>\n",
       "    <tr>\n",
       "      <th>2020-04-26</th>\n",
       "      <td>1922</td>\n",
       "      <td>2228</td>\n",
       "      <td>2910</td>\n",
       "      <td>1924</td>\n",
       "      <td>1710</td>\n",
       "    </tr>\n",
       "    <tr>\n",
       "      <th>2020-04-27</th>\n",
       "      <td>2009</td>\n",
       "      <td>2298</td>\n",
       "      <td>2961</td>\n",
       "      <td>2013</td>\n",
       "      <td>1768</td>\n",
       "    </tr>\n",
       "    <tr>\n",
       "      <th>2020-04-28</th>\n",
       "      <td>2059</td>\n",
       "      <td>2368</td>\n",
       "      <td>3038</td>\n",
       "      <td>2109</td>\n",
       "      <td>1965</td>\n",
       "    </tr>\n",
       "    <tr>\n",
       "      <th>2020-04-29</th>\n",
       "      <td>2103</td>\n",
       "      <td>2451</td>\n",
       "      <td>3116</td>\n",
       "      <td>2168</td>\n",
       "      <td>1994</td>\n",
       "    </tr>\n",
       "    <tr>\n",
       "      <th>2020-04-30</th>\n",
       "      <td>2167</td>\n",
       "      <td>2517</td>\n",
       "      <td>3189</td>\n",
       "      <td>2242</td>\n",
       "      <td>2022</td>\n",
       "    </tr>\n",
       "    <tr>\n",
       "      <th>2020-05-01</th>\n",
       "      <td>2232</td>\n",
       "      <td>2569</td>\n",
       "      <td>3243</td>\n",
       "      <td>2316</td>\n",
       "      <td>2069</td>\n",
       "    </tr>\n",
       "    <tr>\n",
       "      <th>2020-05-02</th>\n",
       "      <td>2259</td>\n",
       "      <td>2622</td>\n",
       "      <td>3272</td>\n",
       "      <td>2363</td>\n",
       "      <td>2095</td>\n",
       "    </tr>\n",
       "    <tr>\n",
       "      <th>2020-05-03</th>\n",
       "      <td>2278</td>\n",
       "      <td>2638</td>\n",
       "      <td>3305</td>\n",
       "      <td>2386</td>\n",
       "      <td>2107</td>\n",
       "    </tr>\n",
       "    <tr>\n",
       "      <th>2020-05-04</th>\n",
       "      <td>2319</td>\n",
       "      <td>2705</td>\n",
       "      <td>3352</td>\n",
       "      <td>2460</td>\n",
       "      <td>2142</td>\n",
       "    </tr>\n",
       "    <tr>\n",
       "      <th>2020-05-05</th>\n",
       "      <td>2371</td>\n",
       "      <td>2769</td>\n",
       "      <td>3412</td>\n",
       "      <td>2530</td>\n",
       "      <td>2163</td>\n",
       "    </tr>\n",
       "    <tr>\n",
       "      <th>2020-05-06</th>\n",
       "      <td>2398</td>\n",
       "      <td>2831</td>\n",
       "      <td>3470</td>\n",
       "      <td>2598</td>\n",
       "      <td>2192</td>\n",
       "    </tr>\n",
       "    <tr>\n",
       "      <th>2020-05-07</th>\n",
       "      <td>2428</td>\n",
       "      <td>2884</td>\n",
       "      <td>3545</td>\n",
       "      <td>2648</td>\n",
       "      <td>2209</td>\n",
       "    </tr>\n",
       "    <tr>\n",
       "      <th>2020-05-08</th>\n",
       "      <td>2496</td>\n",
       "      <td>2946</td>\n",
       "      <td>3592</td>\n",
       "      <td>2722</td>\n",
       "      <td>2229</td>\n",
       "    </tr>\n",
       "    <tr>\n",
       "      <th>2020-05-09</th>\n",
       "      <td>2523</td>\n",
       "      <td>2991</td>\n",
       "      <td>3612</td>\n",
       "      <td>2759</td>\n",
       "      <td>2252</td>\n",
       "    </tr>\n",
       "    <tr>\n",
       "      <th>2020-05-10</th>\n",
       "      <td>2553</td>\n",
       "      <td>3026</td>\n",
       "      <td>3643</td>\n",
       "      <td>2798</td>\n",
       "      <td>2259</td>\n",
       "    </tr>\n",
       "    <tr>\n",
       "      <th>2020-05-11</th>\n",
       "      <td>2606</td>\n",
       "      <td>3127</td>\n",
       "      <td>3718</td>\n",
       "      <td>2859</td>\n",
       "      <td>2287</td>\n",
       "    </tr>\n",
       "    <tr>\n",
       "      <th>2020-05-12</th>\n",
       "      <td>2667</td>\n",
       "      <td>3223</td>\n",
       "      <td>3768</td>\n",
       "      <td>2935</td>\n",
       "      <td>2305</td>\n",
       "    </tr>\n",
       "    <tr>\n",
       "      <th>2020-05-13</th>\n",
       "      <td>2714</td>\n",
       "      <td>3280</td>\n",
       "      <td>3823</td>\n",
       "      <td>3006</td>\n",
       "      <td>2335</td>\n",
       "    </tr>\n",
       "    <tr>\n",
       "      <th>2020-05-14</th>\n",
       "      <td>2762</td>\n",
       "      <td>3369</td>\n",
       "      <td>3899</td>\n",
       "      <td>3091</td>\n",
       "      <td>2353</td>\n",
       "    </tr>\n",
       "    <tr>\n",
       "      <th>2020-05-15</th>\n",
       "      <td>2804</td>\n",
       "      <td>3450</td>\n",
       "      <td>3962</td>\n",
       "      <td>3182</td>\n",
       "      <td>2390</td>\n",
       "    </tr>\n",
       "    <tr>\n",
       "      <th>2020-05-16</th>\n",
       "      <td>2843</td>\n",
       "      <td>3500</td>\n",
       "      <td>3992</td>\n",
       "      <td>3237</td>\n",
       "      <td>2402</td>\n",
       "    </tr>\n",
       "    <tr>\n",
       "      <th>2020-05-17</th>\n",
       "      <td>2878</td>\n",
       "      <td>3526</td>\n",
       "      <td>4016</td>\n",
       "      <td>3286</td>\n",
       "      <td>2421</td>\n",
       "    </tr>\n",
       "    <tr>\n",
       "      <th>2020-05-18</th>\n",
       "      <td>2926</td>\n",
       "      <td>3584</td>\n",
       "      <td>4089</td>\n",
       "      <td>3374</td>\n",
       "      <td>2446</td>\n",
       "    </tr>\n",
       "    <tr>\n",
       "      <th>2020-05-19</th>\n",
       "      <td>2969</td>\n",
       "      <td>3661</td>\n",
       "      <td>4140</td>\n",
       "      <td>3470</td>\n",
       "      <td>2469</td>\n",
       "    </tr>\n",
       "    <tr>\n",
       "      <th>2020-05-20</th>\n",
       "      <td>3008</td>\n",
       "      <td>3722</td>\n",
       "      <td>4176</td>\n",
       "      <td>3581</td>\n",
       "      <td>2496</td>\n",
       "    </tr>\n",
       "  </tbody>\n",
       "</table>\n",
       "</div>"
      ],
      "text/plain": [
       "COUNTY             COBB  DEKALB  FULTON  GWINNETT  HALL\n",
       "DATESTAMP_MOD_DAY                                      \n",
       "2020-04-01          867     937    1499       614   257\n",
       "2020-04-02          893     987    1549       657   300\n",
       "2020-04-03          921    1038    1617       702   336\n",
       "2020-04-04          935    1069    1655       734   359\n",
       "2020-04-05          956    1099    1685       766   392\n",
       "2020-04-06          999    1159    1747       811   453\n",
       "2020-04-07         1026    1213    1824       858   502\n",
       "2020-04-08         1073    1252    1893       905   566\n",
       "2020-04-09         1116    1317    1952       952   628\n",
       "2020-04-10         1160    1371    2007      1002   686\n",
       "2020-04-11         1199    1428    2060      1033   753\n",
       "2020-04-12         1229    1458    2099      1061   782\n",
       "2020-04-13         1297    1542    2153      1114   831\n",
       "2020-04-14         1355    1610    2213      1163   902\n",
       "2020-04-15         1415    1665    2296      1218   971\n",
       "2020-04-16         1452    1724    2353      1268  1027\n",
       "2020-04-17         1507    1785    2420      1335  1104\n",
       "2020-04-18         1537    1827    2459      1383  1142\n",
       "2020-04-19         1556    1851    2532      1422  1318\n",
       "2020-04-20         1605    1915    2616      1509  1394\n",
       "2020-04-21         1697    1977    2676      1610  1439\n",
       "2020-04-22         1752    2053    2735      1703  1498\n",
       "2020-04-23         1801    2122    2770      1781  1568\n",
       "2020-04-24         1855    2170    2835      1853  1645\n",
       "2020-04-25         1887    2204    2874      1889  1679\n",
       "2020-04-26         1922    2228    2910      1924  1710\n",
       "2020-04-27         2009    2298    2961      2013  1768\n",
       "2020-04-28         2059    2368    3038      2109  1965\n",
       "2020-04-29         2103    2451    3116      2168  1994\n",
       "2020-04-30         2167    2517    3189      2242  2022\n",
       "2020-05-01         2232    2569    3243      2316  2069\n",
       "2020-05-02         2259    2622    3272      2363  2095\n",
       "2020-05-03         2278    2638    3305      2386  2107\n",
       "2020-05-04         2319    2705    3352      2460  2142\n",
       "2020-05-05         2371    2769    3412      2530  2163\n",
       "2020-05-06         2398    2831    3470      2598  2192\n",
       "2020-05-07         2428    2884    3545      2648  2209\n",
       "2020-05-08         2496    2946    3592      2722  2229\n",
       "2020-05-09         2523    2991    3612      2759  2252\n",
       "2020-05-10         2553    3026    3643      2798  2259\n",
       "2020-05-11         2606    3127    3718      2859  2287\n",
       "2020-05-12         2667    3223    3768      2935  2305\n",
       "2020-05-13         2714    3280    3823      3006  2335\n",
       "2020-05-14         2762    3369    3899      3091  2353\n",
       "2020-05-15         2804    3450    3962      3182  2390\n",
       "2020-05-16         2843    3500    3992      3237  2402\n",
       "2020-05-17         2878    3526    4016      3286  2421\n",
       "2020-05-18         2926    3584    4089      3374  2446\n",
       "2020-05-19         2969    3661    4140      3470  2469\n",
       "2020-05-20         3008    3722    4176      3581  2496"
      ]
     },
     "execution_count": 54,
     "metadata": {},
     "output_type": "execute_result"
    }
   ],
   "source": [
    "tempDF = pd.pivot_table(daily, values= 'C_Cum', index=['DATESTAMP_MOD_DAY'], columns=['COUNTY'], aggfunc=np.sum)\n",
    "tempDF.head(50)"
   ]
  },
  {
   "cell_type": "code",
   "execution_count": 55,
   "metadata": {},
   "outputs": [
    {
     "data": {
      "text/html": [
       "<div>\n",
       "<style scoped>\n",
       "    .dataframe tbody tr th:only-of-type {\n",
       "        vertical-align: middle;\n",
       "    }\n",
       "\n",
       "    .dataframe tbody tr th {\n",
       "        vertical-align: top;\n",
       "    }\n",
       "\n",
       "    .dataframe thead th {\n",
       "        text-align: right;\n",
       "    }\n",
       "</style>\n",
       "<table border=\"1\" class=\"dataframe\">\n",
       "  <thead>\n",
       "    <tr style=\"text-align: right;\">\n",
       "      <th></th>\n",
       "      <th>COUNTY</th>\n",
       "      <th>DATESTAMP_MOD</th>\n",
       "      <th>DATESTAMP_MOD_DAY</th>\n",
       "      <th>DATESTAMP_MOD_DAY_STRING</th>\n",
       "      <th>DATETIME_STRING</th>\n",
       "      <th>DATESTAMP_MOD_MONTH_YEAR</th>\n",
       "      <th>C_New</th>\n",
       "      <th>H_Cum</th>\n",
       "      <th>C_Cum</th>\n",
       "      <th>D_New</th>\n",
       "      <th>H_New</th>\n",
       "    </tr>\n",
       "  </thead>\n",
       "  <tbody>\n",
       "    <tr>\n",
       "      <th>7489</th>\n",
       "      <td>FULTON</td>\n",
       "      <td>2020-04-26 03:59:59+00:00</td>\n",
       "      <td>2020-04-26</td>\n",
       "      <td>2020-04-26 03:59:59+00:00</td>\n",
       "      <td>2020-04</td>\n",
       "      <td>2020-04</td>\n",
       "      <td>36</td>\n",
       "      <td>752</td>\n",
       "      <td>2910</td>\n",
       "      <td>6</td>\n",
       "      <td>10</td>\n",
       "    </tr>\n",
       "    <tr>\n",
       "      <th>7490</th>\n",
       "      <td>FULTON</td>\n",
       "      <td>2020-04-27 03:59:59+00:00</td>\n",
       "      <td>2020-04-27</td>\n",
       "      <td>2020-04-27 03:59:59+00:00</td>\n",
       "      <td>2020-04</td>\n",
       "      <td>2020-04</td>\n",
       "      <td>51</td>\n",
       "      <td>760</td>\n",
       "      <td>2961</td>\n",
       "      <td>4</td>\n",
       "      <td>8</td>\n",
       "    </tr>\n",
       "    <tr>\n",
       "      <th>7491</th>\n",
       "      <td>FULTON</td>\n",
       "      <td>2020-04-28 03:59:59+00:00</td>\n",
       "      <td>2020-04-28</td>\n",
       "      <td>2020-04-28 03:59:59+00:00</td>\n",
       "      <td>2020-04</td>\n",
       "      <td>2020-04</td>\n",
       "      <td>77</td>\n",
       "      <td>770</td>\n",
       "      <td>3038</td>\n",
       "      <td>3</td>\n",
       "      <td>10</td>\n",
       "    </tr>\n",
       "    <tr>\n",
       "      <th>7492</th>\n",
       "      <td>FULTON</td>\n",
       "      <td>2020-04-29 03:59:59+00:00</td>\n",
       "      <td>2020-04-29</td>\n",
       "      <td>2020-04-29 03:59:59+00:00</td>\n",
       "      <td>2020-04</td>\n",
       "      <td>2020-04</td>\n",
       "      <td>78</td>\n",
       "      <td>787</td>\n",
       "      <td>3116</td>\n",
       "      <td>8</td>\n",
       "      <td>17</td>\n",
       "    </tr>\n",
       "    <tr>\n",
       "      <th>7493</th>\n",
       "      <td>FULTON</td>\n",
       "      <td>2020-04-30 03:59:59+00:00</td>\n",
       "      <td>2020-04-30</td>\n",
       "      <td>2020-04-30 03:59:59+00:00</td>\n",
       "      <td>2020-04</td>\n",
       "      <td>2020-04</td>\n",
       "      <td>73</td>\n",
       "      <td>792</td>\n",
       "      <td>3189</td>\n",
       "      <td>5</td>\n",
       "      <td>5</td>\n",
       "    </tr>\n",
       "    <tr>\n",
       "      <th>...</th>\n",
       "      <td>...</td>\n",
       "      <td>...</td>\n",
       "      <td>...</td>\n",
       "      <td>...</td>\n",
       "      <td>...</td>\n",
       "      <td>...</td>\n",
       "      <td>...</td>\n",
       "      <td>...</td>\n",
       "      <td>...</td>\n",
       "      <td>...</td>\n",
       "      <td>...</td>\n",
       "    </tr>\n",
       "    <tr>\n",
       "      <th>79995</th>\n",
       "      <td>HALL</td>\n",
       "      <td>2020-05-01 03:59:59+00:00</td>\n",
       "      <td>2020-05-01</td>\n",
       "      <td>2020-05-01 03:59:59+00:00</td>\n",
       "      <td>2020-05</td>\n",
       "      <td>2020-05</td>\n",
       "      <td>47</td>\n",
       "      <td>305</td>\n",
       "      <td>2069</td>\n",
       "      <td>1</td>\n",
       "      <td>8</td>\n",
       "    </tr>\n",
       "    <tr>\n",
       "      <th>79996</th>\n",
       "      <td>HALL</td>\n",
       "      <td>2020-05-02 03:59:59+00:00</td>\n",
       "      <td>2020-05-02</td>\n",
       "      <td>2020-05-02 03:59:59+00:00</td>\n",
       "      <td>2020-05</td>\n",
       "      <td>2020-05</td>\n",
       "      <td>26</td>\n",
       "      <td>312</td>\n",
       "      <td>2095</td>\n",
       "      <td>3</td>\n",
       "      <td>7</td>\n",
       "    </tr>\n",
       "    <tr>\n",
       "      <th>79997</th>\n",
       "      <td>HALL</td>\n",
       "      <td>2020-05-03 03:59:59+00:00</td>\n",
       "      <td>2020-05-03</td>\n",
       "      <td>2020-05-03 03:59:59+00:00</td>\n",
       "      <td>2020-05</td>\n",
       "      <td>2020-05</td>\n",
       "      <td>12</td>\n",
       "      <td>316</td>\n",
       "      <td>2107</td>\n",
       "      <td>0</td>\n",
       "      <td>4</td>\n",
       "    </tr>\n",
       "    <tr>\n",
       "      <th>79998</th>\n",
       "      <td>HALL</td>\n",
       "      <td>2020-05-04 03:59:59+00:00</td>\n",
       "      <td>2020-05-04</td>\n",
       "      <td>2020-05-04 03:59:59+00:00</td>\n",
       "      <td>2020-05</td>\n",
       "      <td>2020-05</td>\n",
       "      <td>35</td>\n",
       "      <td>320</td>\n",
       "      <td>2142</td>\n",
       "      <td>1</td>\n",
       "      <td>4</td>\n",
       "    </tr>\n",
       "    <tr>\n",
       "      <th>79999</th>\n",
       "      <td>HALL</td>\n",
       "      <td>2020-05-05 03:59:59+00:00</td>\n",
       "      <td>2020-05-05</td>\n",
       "      <td>2020-05-05 03:59:59+00:00</td>\n",
       "      <td>2020-05</td>\n",
       "      <td>2020-05</td>\n",
       "      <td>21</td>\n",
       "      <td>322</td>\n",
       "      <td>2163</td>\n",
       "      <td>1</td>\n",
       "      <td>2</td>\n",
       "    </tr>\n",
       "  </tbody>\n",
       "</table>\n",
       "<p>70 rows × 11 columns</p>\n",
       "</div>"
      ],
      "text/plain": [
       "       COUNTY             DATESTAMP_MOD DATESTAMP_MOD_DAY  \\\n",
       "7489   FULTON 2020-04-26 03:59:59+00:00        2020-04-26   \n",
       "7490   FULTON 2020-04-27 03:59:59+00:00        2020-04-27   \n",
       "7491   FULTON 2020-04-28 03:59:59+00:00        2020-04-28   \n",
       "7492   FULTON 2020-04-29 03:59:59+00:00        2020-04-29   \n",
       "7493   FULTON 2020-04-30 03:59:59+00:00        2020-04-30   \n",
       "...       ...                       ...               ...   \n",
       "79995    HALL 2020-05-01 03:59:59+00:00        2020-05-01   \n",
       "79996    HALL 2020-05-02 03:59:59+00:00        2020-05-02   \n",
       "79997    HALL 2020-05-03 03:59:59+00:00        2020-05-03   \n",
       "79998    HALL 2020-05-04 03:59:59+00:00        2020-05-04   \n",
       "79999    HALL 2020-05-05 03:59:59+00:00        2020-05-05   \n",
       "\n",
       "        DATESTAMP_MOD_DAY_STRING DATETIME_STRING DATESTAMP_MOD_MONTH_YEAR  \\\n",
       "7489   2020-04-26 03:59:59+00:00         2020-04                  2020-04   \n",
       "7490   2020-04-27 03:59:59+00:00         2020-04                  2020-04   \n",
       "7491   2020-04-28 03:59:59+00:00         2020-04                  2020-04   \n",
       "7492   2020-04-29 03:59:59+00:00         2020-04                  2020-04   \n",
       "7493   2020-04-30 03:59:59+00:00         2020-04                  2020-04   \n",
       "...                          ...             ...                      ...   \n",
       "79995  2020-05-01 03:59:59+00:00         2020-05                  2020-05   \n",
       "79996  2020-05-02 03:59:59+00:00         2020-05                  2020-05   \n",
       "79997  2020-05-03 03:59:59+00:00         2020-05                  2020-05   \n",
       "79998  2020-05-04 03:59:59+00:00         2020-05                  2020-05   \n",
       "79999  2020-05-05 03:59:59+00:00         2020-05                  2020-05   \n",
       "\n",
       "       C_New  H_Cum  C_Cum  D_New  H_New  \n",
       "7489      36    752   2910      6     10  \n",
       "7490      51    760   2961      4      8  \n",
       "7491      77    770   3038      3     10  \n",
       "7492      78    787   3116      8     17  \n",
       "7493      73    792   3189      5      5  \n",
       "...      ...    ...    ...    ...    ...  \n",
       "79995     47    305   2069      1      8  \n",
       "79996     26    312   2095      3      7  \n",
       "79997     12    316   2107      0      4  \n",
       "79998     35    320   2142      1      4  \n",
       "79999     21    322   2163      1      2  \n",
       "\n",
       "[70 rows x 11 columns]"
      ]
     },
     "execution_count": 55,
     "metadata": {},
     "output_type": "execute_result"
    }
   ],
   "source": [
    "startdate = pd.to_datetime(\"2020-04-26\").date()\n",
    "enddate = pd.to_datetime(\"2020-05-09\").date()\n",
    "maskFilter = (daily['DATESTAMP_MOD_DAY'] >= startdate) & (daily['DATESTAMP_MOD_DAY'] <= enddate)\n",
    "dailySpecific = daily.loc[maskFilter] ##.loc is short for locate\n",
    "dailySpecific"
   ]
  },
  {
   "cell_type": "code",
   "execution_count": 56,
   "metadata": {},
   "outputs": [
    {
     "data": {
      "text/html": [
       "<div>\n",
       "<style scoped>\n",
       "    .dataframe tbody tr th:only-of-type {\n",
       "        vertical-align: middle;\n",
       "    }\n",
       "\n",
       "    .dataframe tbody tr th {\n",
       "        vertical-align: top;\n",
       "    }\n",
       "\n",
       "    .dataframe thead th {\n",
       "        text-align: right;\n",
       "    }\n",
       "</style>\n",
       "<table border=\"1\" class=\"dataframe\">\n",
       "  <thead>\n",
       "    <tr style=\"text-align: right;\">\n",
       "      <th></th>\n",
       "      <th>COUNTY</th>\n",
       "      <th>DATESTAMP_MOD</th>\n",
       "      <th>DATESTAMP_MOD_DAY</th>\n",
       "      <th>DATESTAMP_MOD_DAY_STRING</th>\n",
       "      <th>DATETIME_STRING</th>\n",
       "      <th>DATESTAMP_MOD_MONTH_YEAR</th>\n",
       "      <th>C_New</th>\n",
       "      <th>H_Cum</th>\n",
       "      <th>C_Cum</th>\n",
       "      <th>D_New</th>\n",
       "      <th>H_New</th>\n",
       "    </tr>\n",
       "  </thead>\n",
       "  <tbody>\n",
       "    <tr>\n",
       "      <th>7489</th>\n",
       "      <td>FULTON</td>\n",
       "      <td>2020-04-26 03:59:59+00:00</td>\n",
       "      <td>2020-04-26</td>\n",
       "      <td>2020-04-26 03:59:59+00:00</td>\n",
       "      <td>2020-04</td>\n",
       "      <td>2020-04</td>\n",
       "      <td>36</td>\n",
       "      <td>752</td>\n",
       "      <td>2910</td>\n",
       "      <td>6</td>\n",
       "      <td>10</td>\n",
       "    </tr>\n",
       "    <tr>\n",
       "      <th>7490</th>\n",
       "      <td>FULTON</td>\n",
       "      <td>2020-04-27 03:59:59+00:00</td>\n",
       "      <td>2020-04-27</td>\n",
       "      <td>2020-04-27 03:59:59+00:00</td>\n",
       "      <td>2020-04</td>\n",
       "      <td>2020-04</td>\n",
       "      <td>51</td>\n",
       "      <td>760</td>\n",
       "      <td>2961</td>\n",
       "      <td>4</td>\n",
       "      <td>8</td>\n",
       "    </tr>\n",
       "    <tr>\n",
       "      <th>7491</th>\n",
       "      <td>FULTON</td>\n",
       "      <td>2020-04-28 03:59:59+00:00</td>\n",
       "      <td>2020-04-28</td>\n",
       "      <td>2020-04-28 03:59:59+00:00</td>\n",
       "      <td>2020-04</td>\n",
       "      <td>2020-04</td>\n",
       "      <td>77</td>\n",
       "      <td>770</td>\n",
       "      <td>3038</td>\n",
       "      <td>3</td>\n",
       "      <td>10</td>\n",
       "    </tr>\n",
       "    <tr>\n",
       "      <th>7492</th>\n",
       "      <td>FULTON</td>\n",
       "      <td>2020-04-29 03:59:59+00:00</td>\n",
       "      <td>2020-04-29</td>\n",
       "      <td>2020-04-29 03:59:59+00:00</td>\n",
       "      <td>2020-04</td>\n",
       "      <td>2020-04</td>\n",
       "      <td>78</td>\n",
       "      <td>787</td>\n",
       "      <td>3116</td>\n",
       "      <td>8</td>\n",
       "      <td>17</td>\n",
       "    </tr>\n",
       "    <tr>\n",
       "      <th>7493</th>\n",
       "      <td>FULTON</td>\n",
       "      <td>2020-04-30 03:59:59+00:00</td>\n",
       "      <td>2020-04-30</td>\n",
       "      <td>2020-04-30 03:59:59+00:00</td>\n",
       "      <td>2020-04</td>\n",
       "      <td>2020-04</td>\n",
       "      <td>73</td>\n",
       "      <td>792</td>\n",
       "      <td>3189</td>\n",
       "      <td>5</td>\n",
       "      <td>5</td>\n",
       "    </tr>\n",
       "    <tr>\n",
       "      <th>7494</th>\n",
       "      <td>FULTON</td>\n",
       "      <td>2020-05-01 03:59:59+00:00</td>\n",
       "      <td>2020-05-01</td>\n",
       "      <td>2020-05-01 03:59:59+00:00</td>\n",
       "      <td>2020-05</td>\n",
       "      <td>2020-05</td>\n",
       "      <td>54</td>\n",
       "      <td>807</td>\n",
       "      <td>3243</td>\n",
       "      <td>4</td>\n",
       "      <td>15</td>\n",
       "    </tr>\n",
       "    <tr>\n",
       "      <th>7495</th>\n",
       "      <td>FULTON</td>\n",
       "      <td>2020-05-02 03:59:59+00:00</td>\n",
       "      <td>2020-05-02</td>\n",
       "      <td>2020-05-02 03:59:59+00:00</td>\n",
       "      <td>2020-05</td>\n",
       "      <td>2020-05</td>\n",
       "      <td>29</td>\n",
       "      <td>811</td>\n",
       "      <td>3272</td>\n",
       "      <td>3</td>\n",
       "      <td>4</td>\n",
       "    </tr>\n",
       "    <tr>\n",
       "      <th>7496</th>\n",
       "      <td>FULTON</td>\n",
       "      <td>2020-05-03 03:59:59+00:00</td>\n",
       "      <td>2020-05-03</td>\n",
       "      <td>2020-05-03 03:59:59+00:00</td>\n",
       "      <td>2020-05</td>\n",
       "      <td>2020-05</td>\n",
       "      <td>33</td>\n",
       "      <td>819</td>\n",
       "      <td>3305</td>\n",
       "      <td>6</td>\n",
       "      <td>8</td>\n",
       "    </tr>\n",
       "    <tr>\n",
       "      <th>7497</th>\n",
       "      <td>FULTON</td>\n",
       "      <td>2020-05-04 03:59:59+00:00</td>\n",
       "      <td>2020-05-04</td>\n",
       "      <td>2020-05-04 03:59:59+00:00</td>\n",
       "      <td>2020-05</td>\n",
       "      <td>2020-05</td>\n",
       "      <td>47</td>\n",
       "      <td>826</td>\n",
       "      <td>3352</td>\n",
       "      <td>3</td>\n",
       "      <td>7</td>\n",
       "    </tr>\n",
       "    <tr>\n",
       "      <th>7498</th>\n",
       "      <td>FULTON</td>\n",
       "      <td>2020-05-05 03:59:59+00:00</td>\n",
       "      <td>2020-05-05</td>\n",
       "      <td>2020-05-05 03:59:59+00:00</td>\n",
       "      <td>2020-05</td>\n",
       "      <td>2020-05</td>\n",
       "      <td>60</td>\n",
       "      <td>831</td>\n",
       "      <td>3412</td>\n",
       "      <td>1</td>\n",
       "      <td>5</td>\n",
       "    </tr>\n",
       "    <tr>\n",
       "      <th>7499</th>\n",
       "      <td>FULTON</td>\n",
       "      <td>2020-05-06 03:59:59+00:00</td>\n",
       "      <td>2020-05-06</td>\n",
       "      <td>2020-05-06 03:59:59+00:00</td>\n",
       "      <td>2020-05</td>\n",
       "      <td>2020-05</td>\n",
       "      <td>58</td>\n",
       "      <td>839</td>\n",
       "      <td>3470</td>\n",
       "      <td>4</td>\n",
       "      <td>8</td>\n",
       "    </tr>\n",
       "    <tr>\n",
       "      <th>7500</th>\n",
       "      <td>FULTON</td>\n",
       "      <td>2020-05-07 03:59:59+00:00</td>\n",
       "      <td>2020-05-07</td>\n",
       "      <td>2020-05-07 03:59:59+00:00</td>\n",
       "      <td>2020-05</td>\n",
       "      <td>2020-05</td>\n",
       "      <td>75</td>\n",
       "      <td>840</td>\n",
       "      <td>3545</td>\n",
       "      <td>1</td>\n",
       "      <td>1</td>\n",
       "    </tr>\n",
       "    <tr>\n",
       "      <th>7501</th>\n",
       "      <td>FULTON</td>\n",
       "      <td>2020-05-08 03:59:59+00:00</td>\n",
       "      <td>2020-05-08</td>\n",
       "      <td>2020-05-08 03:59:59+00:00</td>\n",
       "      <td>2020-05</td>\n",
       "      <td>2020-05</td>\n",
       "      <td>47</td>\n",
       "      <td>853</td>\n",
       "      <td>3592</td>\n",
       "      <td>5</td>\n",
       "      <td>13</td>\n",
       "    </tr>\n",
       "    <tr>\n",
       "      <th>7502</th>\n",
       "      <td>FULTON</td>\n",
       "      <td>2020-05-09 03:59:59+00:00</td>\n",
       "      <td>2020-05-09</td>\n",
       "      <td>2020-05-09 03:59:59+00:00</td>\n",
       "      <td>2020-05</td>\n",
       "      <td>2020-05</td>\n",
       "      <td>20</td>\n",
       "      <td>856</td>\n",
       "      <td>3612</td>\n",
       "      <td>2</td>\n",
       "      <td>3</td>\n",
       "    </tr>\n",
       "  </tbody>\n",
       "</table>\n",
       "</div>"
      ],
      "text/plain": [
       "      COUNTY             DATESTAMP_MOD DATESTAMP_MOD_DAY  \\\n",
       "7489  FULTON 2020-04-26 03:59:59+00:00        2020-04-26   \n",
       "7490  FULTON 2020-04-27 03:59:59+00:00        2020-04-27   \n",
       "7491  FULTON 2020-04-28 03:59:59+00:00        2020-04-28   \n",
       "7492  FULTON 2020-04-29 03:59:59+00:00        2020-04-29   \n",
       "7493  FULTON 2020-04-30 03:59:59+00:00        2020-04-30   \n",
       "7494  FULTON 2020-05-01 03:59:59+00:00        2020-05-01   \n",
       "7495  FULTON 2020-05-02 03:59:59+00:00        2020-05-02   \n",
       "7496  FULTON 2020-05-03 03:59:59+00:00        2020-05-03   \n",
       "7497  FULTON 2020-05-04 03:59:59+00:00        2020-05-04   \n",
       "7498  FULTON 2020-05-05 03:59:59+00:00        2020-05-05   \n",
       "7499  FULTON 2020-05-06 03:59:59+00:00        2020-05-06   \n",
       "7500  FULTON 2020-05-07 03:59:59+00:00        2020-05-07   \n",
       "7501  FULTON 2020-05-08 03:59:59+00:00        2020-05-08   \n",
       "7502  FULTON 2020-05-09 03:59:59+00:00        2020-05-09   \n",
       "\n",
       "       DATESTAMP_MOD_DAY_STRING DATETIME_STRING DATESTAMP_MOD_MONTH_YEAR  \\\n",
       "7489  2020-04-26 03:59:59+00:00         2020-04                  2020-04   \n",
       "7490  2020-04-27 03:59:59+00:00         2020-04                  2020-04   \n",
       "7491  2020-04-28 03:59:59+00:00         2020-04                  2020-04   \n",
       "7492  2020-04-29 03:59:59+00:00         2020-04                  2020-04   \n",
       "7493  2020-04-30 03:59:59+00:00         2020-04                  2020-04   \n",
       "7494  2020-05-01 03:59:59+00:00         2020-05                  2020-05   \n",
       "7495  2020-05-02 03:59:59+00:00         2020-05                  2020-05   \n",
       "7496  2020-05-03 03:59:59+00:00         2020-05                  2020-05   \n",
       "7497  2020-05-04 03:59:59+00:00         2020-05                  2020-05   \n",
       "7498  2020-05-05 03:59:59+00:00         2020-05                  2020-05   \n",
       "7499  2020-05-06 03:59:59+00:00         2020-05                  2020-05   \n",
       "7500  2020-05-07 03:59:59+00:00         2020-05                  2020-05   \n",
       "7501  2020-05-08 03:59:59+00:00         2020-05                  2020-05   \n",
       "7502  2020-05-09 03:59:59+00:00         2020-05                  2020-05   \n",
       "\n",
       "      C_New  H_Cum  C_Cum  D_New  H_New  \n",
       "7489     36    752   2910      6     10  \n",
       "7490     51    760   2961      4      8  \n",
       "7491     77    770   3038      3     10  \n",
       "7492     78    787   3116      8     17  \n",
       "7493     73    792   3189      5      5  \n",
       "7494     54    807   3243      4     15  \n",
       "7495     29    811   3272      3      4  \n",
       "7496     33    819   3305      6      8  \n",
       "7497     47    826   3352      3      7  \n",
       "7498     60    831   3412      1      5  \n",
       "7499     58    839   3470      4      8  \n",
       "7500     75    840   3545      1      1  \n",
       "7501     47    853   3592      5     13  \n",
       "7502     20    856   3612      2      3  "
      ]
     },
     "execution_count": 56,
     "metadata": {},
     "output_type": "execute_result"
    }
   ],
   "source": [
    "dailySpecific[dailySpecific['COUNTY'] == 'FULTON']"
   ]
  },
  {
   "cell_type": "code",
   "execution_count": 57,
   "metadata": {},
   "outputs": [
    {
     "data": {
      "image/png": "[encoded data removed]",
      "text/plain": [
       "<Figure size 432x288 with 1 Axes>"
      ]
     },
     "metadata": {},
     "output_type": "display_data"
    }
   ],
   "source": [
    "vis3 = sns.lineplot(data=dailySpecific, x=\"DATESTAMP_MOD_DAY\", y='C_Cum')"
   ]
  },
  {
   "cell_type": "code",
   "execution_count": 37,
   "metadata": {},
   "outputs": [
    {
     "data": {
      "image/png": "[encoded data removed]",
      "text/plain": [
       "<Figure size 432x288 with 1 Axes>"
      ]
     },
     "metadata": {},
     "output_type": "display_data"
    }
   ],
   "source": [
    "vis4 = sns.lineplot(data=dailySpecific, x=\"DATESTAMP_MOD_DAY\", y='C_Cum', hue='COUNTY')"
   ]
  },
  {
   "cell_type": "code",
   "execution_count": 58,
   "metadata": {},
   "outputs": [
    {
     "data": {
      "application/vnd.plotly.v1+json": {
       "config": {
        "plotlyServerURL": "https://plot.ly"
       },
       "data": [
        {
         "alignmentgroup": "True",
         "hovertemplate": "COUNTY=FULTON<br>DATESTAMP_MOD_DAY=%{x}<br>C_Cum=%{y}<extra></extra>",
         "legendgroup": "FULTON",
         "marker": {
          "color": "#636efa",
          "pattern": {
           "shape": ""
          }
         },
         "name": "FULTON",
         "offsetgroup": "FULTON",
         "orientation": "v",
         "showlegend": true,
         "textposition": "auto",
         "type": "bar",
         "x": [
          "2020-04-26",
          "2020-04-27",
          "2020-04-28",
          "2020-04-29",
          "2020-04-30",
          "2020-05-01",
          "2020-05-02",
          "2020-05-03",
          "2020-05-04",
          "2020-05-05",
          "2020-05-06",
          "2020-05-07",
          "2020-05-08",
          "2020-05-09"
         ],
         "xaxis": "x",
         "y": [
          2910,
          2961,
          3038,
          3116,
          3189,
          3243,
          3272,
          3305,
          3352,
          3412,
          3470,
          3545,
          3592,
          3612
         ],
         "yaxis": "y"
        },
        {
         "alignmentgroup": "True",
         "hovertemplate": "COUNTY=COBB<br>DATESTAMP_MOD_DAY=%{x}<br>C_Cum=%{y}<extra></extra>",
         "legendgroup": "COBB",
         "marker": {
          "color": "#EF553B",
          "pattern": {
           "shape": ""
          }
         },
         "name": "COBB",
         "offsetgroup": "COBB",
         "orientation": "v",
         "showlegend": true,
         "textposition": "auto",
         "type": "bar",
         "x": [
          "2020-04-26",
          "2020-04-27",
          "2020-04-28",
          "2020-04-29",
          "2020-04-30",
          "2020-05-01",
          "2020-05-02",
          "2020-05-03",
          "2020-05-04",
          "2020-05-05",
          "2020-05-06",
          "2020-05-07",
          "2020-05-08",
          "2020-05-09"
         ],
         "xaxis": "x",
         "y": [
          1922,
          2009,
          2059,
          2103,
          2167,
          2232,
          2259,
          2278,
          2319,
          2371,
          2398,
          2428,
          2496,
          2523
         ],
         "yaxis": "y"
        },
        {
         "alignmentgroup": "True",
         "hovertemplate": "COUNTY=GWINNETT<br>DATESTAMP_MOD_DAY=%{x}<br>C_Cum=%{y}<extra></extra>",
         "legendgroup": "GWINNETT",
         "marker": {
          "color": "#00cc96",
          "pattern": {
           "shape": ""
          }
         },
         "name": "GWINNETT",
         "offsetgroup": "GWINNETT",
         "orientation": "v",
         "showlegend": true,
         "textposition": "auto",
         "type": "bar",
         "x": [
          "2020-04-26",
          "2020-04-27",
          "2020-04-28",
          "2020-04-29",
          "2020-04-30",
          "2020-05-01",
          "2020-05-02",
          "2020-05-03",
          "2020-05-04",
          "2020-05-05",
          "2020-05-06",
          "2020-05-07",
          "2020-05-08",
          "2020-05-09"
         ],
         "xaxis": "x",
         "y": [
          1924,
          2013,
          2109,
          2168,
          2242,
          2316,
          2363,
          2386,
          2460,
          2530,
          2598,
          2648,
          2722,
          2759
         ],
         "yaxis": "y"
        },
        {
         "alignmentgroup": "True",
         "hovertemplate": "COUNTY=DEKALB<br>DATESTAMP_MOD_DAY=%{x}<br>C_Cum=%{y}<extra></extra>",
         "legendgroup": "DEKALB",
         "marker": {
          "color": "#ab63fa",
          "pattern": {
           "shape": ""
          }
         },
         "name": "DEKALB",
         "offsetgroup": "DEKALB",
         "orientation": "v",
         "showlegend": true,
         "textposition": "auto",
         "type": "bar",
         "x": [
          "2020-04-26",
          "2020-04-27",
          "2020-04-28",
          "2020-04-29",
          "2020-04-30",
          "2020-05-01",
          "2020-05-02",
          "2020-05-03",
          "2020-05-04",
          "2020-05-05",
          "2020-05-06",
          "2020-05-07",
          "2020-05-08",
          "2020-05-09"
         ],
         "xaxis": "x",
         "y": [
          2228,
          2298,
          2368,
          2451,
          2517,
          2569,
          2622,
          2638,
          2705,
          2769,
          2831,
          2884,
          2946,
          2991
         ],
         "yaxis": "y"
        },
        {
         "alignmentgroup": "True",
         "hovertemplate": "COUNTY=HALL<br>DATESTAMP_MOD_DAY=%{x}<br>C_Cum=%{y}<extra></extra>",
         "legendgroup": "HALL",
         "marker": {
          "color": "#FFA15A",
          "pattern": {
           "shape": ""
          }
         },
         "name": "HALL",
         "offsetgroup": "HALL",
         "orientation": "v",
         "showlegend": true,
         "textposition": "auto",
         "type": "bar",
         "x": [
          "2020-05-06",
          "2020-05-07",
          "2020-05-08",
          "2020-05-09",
          "2020-04-26",
          "2020-04-27",
          "2020-04-28",
          "2020-04-29",
          "2020-04-30",
          "2020-05-01",
          "2020-05-02",
          "2020-05-03",
          "2020-05-04",
          "2020-05-05"
         ],
         "xaxis": "x",
         "y": [
          2192,
          2209,
          2229,
          2252,
          1710,
          1768,
          1965,
          1994,
          2022,
          2069,
          2095,
          2107,
          2142,
          2163
         ],
         "yaxis": "y"
        }
       ],
       "layout": {
        "barmode": "relative",
        "legend": {
         "title": {
          "text": "COUNTY"
         },
         "tracegroupgap": 0
        },
        "margin": {
         "t": 60
        },
        "template": {
         "data": {
          "bar": [
           {
            "error_x": {
             "color": "#2a3f5f"
            },
            "error_y": {
             "color": "#2a3f5f"
            },
            "marker": {
             "line": {
              "color": "#E5ECF6",
              "width": 0.5
             },
             "pattern": {
              "fillmode": "overlay",
              "size": 10,
              "solidity": 0.2
             }
            },
            "type": "bar"
           }
          ],
          "barpolar": [
           {
            "marker": {
             "line": {
              "color": "#E5ECF6",
              "width": 0.5
             },
             "pattern": {
              "fillmode": "overlay",
              "size": 10,
              "solidity": 0.2
             }
            },
            "type": "barpolar"
           }
          ],
          "carpet": [
           {
            "aaxis": {
             "endlinecolor": "#2a3f5f",
             "gridcolor": "white",
             "linecolor": "white",
             "minorgridcolor": "white",
             "startlinecolor": "#2a3f5f"
            },
            "baxis": {
             "endlinecolor": "#2a3f5f",
             "gridcolor": "white",
             "linecolor": "white",
             "minorgridcolor": "white",
             "startlinecolor": "#2a3f5f"
            },
            "type": "carpet"
           }
          ],
          "choropleth": [
           {
            "colorbar": {
             "outlinewidth": 0,
             "ticks": ""
            },
            "type": "choropleth"
           }
          ],
          "contour": [
           {
            "colorbar": {
             "outlinewidth": 0,
             "ticks": ""
            },
            "colorscale": [
             [
              0,
              "#0d0887"
             ],
             [
              0.1111111111111111,
              "#46039f"
             ],
             [
              0.2222222222222222,
              "#7201a8"
             ],
             [
              0.3333333333333333,
              "#9c179e"
             ],
             [
              0.4444444444444444,
              "#bd3786"
             ],
             [
              0.5555555555555556,
              "#d8576b"
             ],
             [
              0.6666666666666666,
              "#ed7953"
             ],
             [
              0.7777777777777778,
              "#fb9f3a"
             ],
             [
              0.8888888888888888,
              "#fdca26"
             ],
             [
              1,
              "#f0f921"
             ]
            ],
            "type": "contour"
           }
          ],
          "contourcarpet": [
           {
            "colorbar": {
             "outlinewidth": 0,
             "ticks": ""
            },
            "type": "contourcarpet"
           }
          ],
          "heatmap": [
           {
            "colorbar": {
             "outlinewidth": 0,
             "ticks": ""
            },
            "colorscale": [
             [
              0,
              "#0d0887"
             ],
             [
              0.1111111111111111,
              "#46039f"
             ],
             [
              0.2222222222222222,
              "#7201a8"
             ],
             [
              0.3333333333333333,
              "#9c179e"
             ],
             [
              0.4444444444444444,
              "#bd3786"
             ],
             [
              0.5555555555555556,
              "#d8576b"
             ],
             [
              0.6666666666666666,
              "#ed7953"
             ],
             [
              0.7777777777777778,
              "#fb9f3a"
             ],
             [
              0.8888888888888888,
              "#fdca26"
             ],
             [
              1,
              "#f0f921"
             ]
            ],
            "type": "heatmap"
           }
          ],
          "heatmapgl": [
           {
            "colorbar": {
             "outlinewidth": 0,
             "ticks": ""
            },
            "colorscale": [
             [
              0,
              "#0d0887"
             ],
             [
              0.1111111111111111,
              "#46039f"
             ],
             [
              0.2222222222222222,
              "#7201a8"
             ],
             [
              0.3333333333333333,
              "#9c179e"
             ],
             [
              0.4444444444444444,
              "#bd3786"
             ],
             [
              0.5555555555555556,
              "#d8576b"
             ],
             [
              0.6666666666666666,
              "#ed7953"
             ],
             [
              0.7777777777777778,
              "#fb9f3a"
             ],
             [
              0.8888888888888888,
              "#fdca26"
             ],
             [
              1,
              "#f0f921"
             ]
            ],
            "type": "heatmapgl"
           }
          ],
          "histogram": [
           {
            "marker": {
             "pattern": {
              "fillmode": "overlay",
              "size": 10,
              "solidity": 0.2
             }
            },
            "type": "histogram"
           }
          ],
          "histogram2d": [
           {
            "colorbar": {
             "outlinewidth": 0,
             "ticks": ""
            },
            "colorscale": [
             [
              0,
              "#0d0887"
             ],
             [
              0.1111111111111111,
              "#46039f"
             ],
             [
              0.2222222222222222,
              "#7201a8"
             ],
             [
              0.3333333333333333,
              "#9c179e"
             ],
             [
              0.4444444444444444,
              "#bd3786"
             ],
             [
              0.5555555555555556,
              "#d8576b"
             ],
             [
              0.6666666666666666,
              "#ed7953"
             ],
             [
              0.7777777777777778,
              "#fb9f3a"
             ],
             [
              0.8888888888888888,
              "#fdca26"
             ],
             [
              1,
              "#f0f921"
             ]
            ],
            "type": "histogram2d"
           }
          ],
          "histogram2dcontour": [
           {
            "colorbar": {
             "outlinewidth": 0,
             "ticks": ""
            },
            "colorscale": [
             [
              0,
              "#0d0887"
             ],
             [
              0.1111111111111111,
              "#46039f"
             ],
             [
              0.2222222222222222,
              "#7201a8"
             ],
             [
              0.3333333333333333,
              "#9c179e"
             ],
             [
              0.4444444444444444,
              "#bd3786"
             ],
             [
              0.5555555555555556,
              "#d8576b"
             ],
             [
              0.6666666666666666,
              "#ed7953"
             ],
             [
              0.7777777777777778,
              "#fb9f3a"
             ],
             [
              0.8888888888888888,
              "#fdca26"
             ],
             [
              1,
              "#f0f921"
             ]
            ],
            "type": "histogram2dcontour"
           }
          ],
          "mesh3d": [
           {
            "colorbar": {
             "outlinewidth": 0,
             "ticks": ""
            },
            "type": "mesh3d"
           }
          ],
          "parcoords": [
           {
            "line": {
             "colorbar": {
              "outlinewidth": 0,
              "ticks": ""
             }
            },
            "type": "parcoords"
           }
          ],
          "pie": [
           {
            "automargin": true,
            "type": "pie"
           }
          ],
          "scatter": [
           {
            "marker": {
             "colorbar": {
              "outlinewidth": 0,
              "ticks": ""
             }
            },
            "type": "scatter"
           }
          ],
          "scatter3d": [
           {
            "line": {
             "colorbar": {
              "outlinewidth": 0,
              "ticks": ""
             }
            },
            "marker": {
             "colorbar": {
              "outlinewidth": 0,
              "ticks": ""
             }
            },
            "type": "scatter3d"
           }
          ],
          "scattercarpet": [
           {
            "marker": {
             "colorbar": {
              "outlinewidth": 0,
              "ticks": ""
             }
            },
            "type": "scattercarpet"
           }
          ],
          "scattergeo": [
           {
            "marker": {
             "colorbar": {
              "outlinewidth": 0,
              "ticks": ""
             }
            },
            "type": "scattergeo"
           }
          ],
          "scattergl": [
           {
            "marker": {
             "colorbar": {
              "outlinewidth": 0,
              "ticks": ""
             }
            },
            "type": "scattergl"
           }
          ],
          "scattermapbox": [
           {
            "marker": {
             "colorbar": {
              "outlinewidth": 0,
              "ticks": ""
             }
            },
            "type": "scattermapbox"
           }
          ],
          "scatterpolar": [
           {
            "marker": {
             "colorbar": {
              "outlinewidth": 0,
              "ticks": ""
             }
            },
            "type": "scatterpolar"
           }
          ],
          "scatterpolargl": [
           {
            "marker": {
             "colorbar": {
              "outlinewidth": 0,
              "ticks": ""
             }
            },
            "type": "scatterpolargl"
           }
          ],
          "scatterternary": [
           {
            "marker": {
             "colorbar": {
              "outlinewidth": 0,
              "ticks": ""
             }
            },
            "type": "scatterternary"
           }
          ],
          "surface": [
           {
            "colorbar": {
             "outlinewidth": 0,
             "ticks": ""
            },
            "colorscale": [
             [
              0,
              "#0d0887"
             ],
             [
              0.1111111111111111,
              "#46039f"
             ],
             [
              0.2222222222222222,
              "#7201a8"
             ],
             [
              0.3333333333333333,
              "#9c179e"
             ],
             [
              0.4444444444444444,
              "#bd3786"
             ],
             [
              0.5555555555555556,
              "#d8576b"
             ],
             [
              0.6666666666666666,
              "#ed7953"
             ],
             [
              0.7777777777777778,
              "#fb9f3a"
             ],
             [
              0.8888888888888888,
              "#fdca26"
             ],
             [
              1,
              "#f0f921"
             ]
            ],
            "type": "surface"
           }
          ],
          "table": [
           {
            "cells": {
             "fill": {
              "color": "#EBF0F8"
             },
             "line": {
              "color": "white"
             }
            },
            "header": {
             "fill": {
              "color": "#C8D4E3"
             },
             "line": {
              "color": "white"
             }
            },
            "type": "table"
           }
          ]
         },
         "layout": {
          "annotationdefaults": {
           "arrowcolor": "#2a3f5f",
           "arrowhead": 0,
           "arrowwidth": 1
          },
          "autotypenumbers": "strict",
          "coloraxis": {
           "colorbar": {
            "outlinewidth": 0,
            "ticks": ""
           }
          },
          "colorscale": {
           "diverging": [
            [
             0,
             "#8e0152"
            ],
            [
             0.1,
             "#c51b7d"
            ],
            [
             0.2,
             "#de77ae"
            ],
            [
             0.3,
             "#f1b6da"
            ],
            [
             0.4,
             "#fde0ef"
            ],
            [
             0.5,
             "#f7f7f7"
            ],
            [
             0.6,
             "#e6f5d0"
            ],
            [
             0.7,
             "#b8e186"
            ],
            [
             0.8,
             "#7fbc41"
            ],
            [
             0.9,
             "#4d9221"
            ],
            [
             1,
             "#276419"
            ]
           ],
           "sequential": [
            [
             0,
             "#0d0887"
            ],
            [
             0.1111111111111111,
             "#46039f"
            ],
            [
             0.2222222222222222,
             "#7201a8"
            ],
            [
             0.3333333333333333,
             "#9c179e"
            ],
            [
             0.4444444444444444,
             "#bd3786"
            ],
            [
             0.5555555555555556,
             "#d8576b"
            ],
            [
             0.6666666666666666,
             "#ed7953"
            ],
            [
             0.7777777777777778,
             "#fb9f3a"
            ],
            [
             0.8888888888888888,
             "#fdca26"
            ],
            [
             1,
             "#f0f921"
            ]
           ],
           "sequentialminus": [
            [
             0,
             "#0d0887"
            ],
            [
             0.1111111111111111,
             "#46039f"
            ],
            [
             0.2222222222222222,
             "#7201a8"
            ],
            [
             0.3333333333333333,
             "#9c179e"
            ],
            [
             0.4444444444444444,
             "#bd3786"
            ],
            [
             0.5555555555555556,
             "#d8576b"
            ],
            [
             0.6666666666666666,
             "#ed7953"
            ],
            [
             0.7777777777777778,
             "#fb9f3a"
            ],
            [
             0.8888888888888888,
             "#fdca26"
            ],
            [
             1,
             "#f0f921"
            ]
           ]
          },
          "colorway": [
           "#636efa",
           "#EF553B",
           "#00cc96",
           "#ab63fa",
           "#FFA15A",
           "#19d3f3",
           "#FF6692",
           "#B6E880",
           "#FF97FF",
           "#FECB52"
          ],
          "font": {
           "color": "#2a3f5f"
          },
          "geo": {
           "bgcolor": "white",
           "lakecolor": "white",
           "landcolor": "#E5ECF6",
           "showlakes": true,
           "showland": true,
           "subunitcolor": "white"
          },
          "hoverlabel": {
           "align": "left"
          },
          "hovermode": "closest",
          "mapbox": {
           "style": "light"
          },
          "paper_bgcolor": "white",
          "plot_bgcolor": "#E5ECF6",
          "polar": {
           "angularaxis": {
            "gridcolor": "white",
            "linecolor": "white",
            "ticks": ""
           },
           "bgcolor": "#E5ECF6",
           "radialaxis": {
            "gridcolor": "white",
            "linecolor": "white",
            "ticks": ""
           }
          },
          "scene": {
           "xaxis": {
            "backgroundcolor": "#E5ECF6",
            "gridcolor": "white",
            "gridwidth": 2,
            "linecolor": "white",
            "showbackground": true,
            "ticks": "",
            "zerolinecolor": "white"
           },
           "yaxis": {
            "backgroundcolor": "#E5ECF6",
            "gridcolor": "white",
            "gridwidth": 2,
            "linecolor": "white",
            "showbackground": true,
            "ticks": "",
            "zerolinecolor": "white"
           },
           "zaxis": {
            "backgroundcolor": "#E5ECF6",
            "gridcolor": "white",
            "gridwidth": 2,
            "linecolor": "white",
            "showbackground": true,
            "ticks": "",
            "zerolinecolor": "white"
           }
          },
          "shapedefaults": {
           "line": {
            "color": "#2a3f5f"
           }
          },
          "ternary": {
           "aaxis": {
            "gridcolor": "white",
            "linecolor": "white",
            "ticks": ""
           },
           "baxis": {
            "gridcolor": "white",
            "linecolor": "white",
            "ticks": ""
           },
           "bgcolor": "#E5ECF6",
           "caxis": {
            "gridcolor": "white",
            "linecolor": "white",
            "ticks": ""
           }
          },
          "title": {
           "x": 0.05
          },
          "xaxis": {
           "automargin": true,
           "gridcolor": "white",
           "linecolor": "white",
           "ticks": "",
           "title": {
            "standoff": 15
           },
           "zerolinecolor": "white",
           "zerolinewidth": 2
          },
          "yaxis": {
           "automargin": true,
           "gridcolor": "white",
           "linecolor": "white",
           "ticks": "",
           "title": {
            "standoff": 15
           },
           "zerolinecolor": "white",
           "zerolinewidth": 2
          }
         }
        },
        "xaxis": {
         "anchor": "y",
         "domain": [
          0,
          1
         ],
         "title": {
          "text": "DATESTAMP_MOD_DAY"
         }
        },
        "yaxis": {
         "anchor": "x",
         "domain": [
          0,
          1
         ],
         "title": {
          "text": "C_Cum"
         }
        }
       }
      }
     },
     "metadata": {},
     "output_type": "display_data"
    }
   ],
   "source": [
    "plotly3 = px.bar(dailySpecific, x='DATESTAMP_MOD_DAY', y='C_Cum', color='COUNTY')\n",
    "plotly3.show()"
   ]
  },
  {
   "cell_type": "code",
   "execution_count": 59,
   "metadata": {},
   "outputs": [
    {
     "data": {
      "application/vnd.plotly.v1+json": {
       "config": {
        "plotlyServerURL": "https://plot.ly"
       },
       "data": [
        {
         "alignmentgroup": "True",
         "hovertemplate": "COUNTY=FULTON<br>DATESTAMP_MOD_DAY=%{x}<br>H_New=%{y}<extra></extra>",
         "legendgroup": "FULTON",
         "marker": {
          "color": "#636efa",
          "pattern": {
           "shape": ""
          }
         },
         "name": "FULTON",
         "offsetgroup": "FULTON",
         "orientation": "v",
         "showlegend": true,
         "textposition": "auto",
         "type": "bar",
         "x": [
          "2020-04-26",
          "2020-04-27",
          "2020-04-28",
          "2020-04-29",
          "2020-04-30",
          "2020-05-01",
          "2020-05-02",
          "2020-05-03",
          "2020-05-04",
          "2020-05-05",
          "2020-05-06",
          "2020-05-07",
          "2020-05-08",
          "2020-05-09"
         ],
         "xaxis": "x",
         "y": [
          10,
          8,
          10,
          17,
          5,
          15,
          4,
          8,
          7,
          5,
          8,
          1,
          13,
          3
         ],
         "yaxis": "y"
        },
        {
         "alignmentgroup": "True",
         "hovertemplate": "COUNTY=COBB<br>DATESTAMP_MOD_DAY=%{x}<br>H_New=%{y}<extra></extra>",
         "legendgroup": "COBB",
         "marker": {
          "color": "#EF553B",
          "pattern": {
           "shape": ""
          }
         },
         "name": "COBB",
         "offsetgroup": "COBB",
         "orientation": "v",
         "showlegend": true,
         "textposition": "auto",
         "type": "bar",
         "x": [
          "2020-04-26",
          "2020-04-27",
          "2020-04-28",
          "2020-04-29",
          "2020-04-30",
          "2020-05-01",
          "2020-05-02",
          "2020-05-03",
          "2020-05-04",
          "2020-05-05",
          "2020-05-06",
          "2020-05-07",
          "2020-05-08",
          "2020-05-09"
         ],
         "xaxis": "x",
         "y": [
          9,
          6,
          10,
          8,
          15,
          15,
          4,
          3,
          7,
          6,
          5,
          5,
          7,
          4
         ],
         "yaxis": "y"
        },
        {
         "alignmentgroup": "True",
         "hovertemplate": "COUNTY=GWINNETT<br>DATESTAMP_MOD_DAY=%{x}<br>H_New=%{y}<extra></extra>",
         "legendgroup": "GWINNETT",
         "marker": {
          "color": "#00cc96",
          "pattern": {
           "shape": ""
          }
         },
         "name": "GWINNETT",
         "offsetgroup": "GWINNETT",
         "orientation": "v",
         "showlegend": true,
         "textposition": "auto",
         "type": "bar",
         "x": [
          "2020-04-26",
          "2020-04-27",
          "2020-04-28",
          "2020-04-29",
          "2020-04-30",
          "2020-05-01",
          "2020-05-02",
          "2020-05-03",
          "2020-05-04",
          "2020-05-05",
          "2020-05-06",
          "2020-05-07",
          "2020-05-08",
          "2020-05-09"
         ],
         "xaxis": "x",
         "y": [
          11,
          6,
          10,
          8,
          7,
          8,
          7,
          7,
          11,
          11,
          7,
          4,
          7,
          4
         ],
         "yaxis": "y"
        },
        {
         "alignmentgroup": "True",
         "hovertemplate": "COUNTY=DEKALB<br>DATESTAMP_MOD_DAY=%{x}<br>H_New=%{y}<extra></extra>",
         "legendgroup": "DEKALB",
         "marker": {
          "color": "#ab63fa",
          "pattern": {
           "shape": ""
          }
         },
         "name": "DEKALB",
         "offsetgroup": "DEKALB",
         "orientation": "v",
         "showlegend": true,
         "textposition": "auto",
         "type": "bar",
         "x": [
          "2020-04-26",
          "2020-04-27",
          "2020-04-28",
          "2020-04-29",
          "2020-04-30",
          "2020-05-01",
          "2020-05-02",
          "2020-05-03",
          "2020-05-04",
          "2020-05-05",
          "2020-05-06",
          "2020-05-07",
          "2020-05-08",
          "2020-05-09"
         ],
         "xaxis": "x",
         "y": [
          7,
          11,
          15,
          7,
          10,
          7,
          4,
          0,
          12,
          10,
          8,
          7,
          9,
          11
         ],
         "yaxis": "y"
        },
        {
         "alignmentgroup": "True",
         "hovertemplate": "COUNTY=HALL<br>DATESTAMP_MOD_DAY=%{x}<br>H_New=%{y}<extra></extra>",
         "legendgroup": "HALL",
         "marker": {
          "color": "#FFA15A",
          "pattern": {
           "shape": ""
          }
         },
         "name": "HALL",
         "offsetgroup": "HALL",
         "orientation": "v",
         "showlegend": true,
         "textposition": "auto",
         "type": "bar",
         "x": [
          "2020-05-06",
          "2020-05-07",
          "2020-05-08",
          "2020-05-09",
          "2020-04-26",
          "2020-04-27",
          "2020-04-28",
          "2020-04-29",
          "2020-04-30",
          "2020-05-01",
          "2020-05-02",
          "2020-05-03",
          "2020-05-04",
          "2020-05-05"
         ],
         "xaxis": "x",
         "y": [
          4,
          1,
          4,
          1,
          7,
          10,
          7,
          6,
          6,
          8,
          7,
          4,
          4,
          2
         ],
         "yaxis": "y"
        }
       ],
       "layout": {
        "barmode": "group",
        "legend": {
         "title": {
          "text": "COUNTY"
         },
         "tracegroupgap": 0
        },
        "margin": {
         "t": 60
        },
        "template": {
         "data": {
          "bar": [
           {
            "error_x": {
             "color": "#2a3f5f"
            },
            "error_y": {
             "color": "#2a3f5f"
            },
            "marker": {
             "line": {
              "color": "#E5ECF6",
              "width": 0.5
             },
             "pattern": {
              "fillmode": "overlay",
              "size": 10,
              "solidity": 0.2
             }
            },
            "type": "bar"
           }
          ],
          "barpolar": [
           {
            "marker": {
             "line": {
              "color": "#E5ECF6",
              "width": 0.5
             },
             "pattern": {
              "fillmode": "overlay",
              "size": 10,
              "solidity": 0.2
             }
            },
            "type": "barpolar"
           }
          ],
          "carpet": [
           {
            "aaxis": {
             "endlinecolor": "#2a3f5f",
             "gridcolor": "white",
             "linecolor": "white",
             "minorgridcolor": "white",
             "startlinecolor": "#2a3f5f"
            },
            "baxis": {
             "endlinecolor": "#2a3f5f",
             "gridcolor": "white",
             "linecolor": "white",
             "minorgridcolor": "white",
             "startlinecolor": "#2a3f5f"
            },
            "type": "carpet"
           }
          ],
          "choropleth": [
           {
            "colorbar": {
             "outlinewidth": 0,
             "ticks": ""
            },
            "type": "choropleth"
           }
          ],
          "contour": [
           {
            "colorbar": {
             "outlinewidth": 0,
             "ticks": ""
            },
            "colorscale": [
             [
              0,
              "#0d0887"
             ],
             [
              0.1111111111111111,
              "#46039f"
             ],
             [
              0.2222222222222222,
              "#7201a8"
             ],
             [
              0.3333333333333333,
              "#9c179e"
             ],
             [
              0.4444444444444444,
              "#bd3786"
             ],
             [
              0.5555555555555556,
              "#d8576b"
             ],
             [
              0.6666666666666666,
              "#ed7953"
             ],
             [
              0.7777777777777778,
              "#fb9f3a"
             ],
             [
              0.8888888888888888,
              "#fdca26"
             ],
             [
              1,
              "#f0f921"
             ]
            ],
            "type": "contour"
           }
          ],
          "contourcarpet": [
           {
            "colorbar": {
             "outlinewidth": 0,
             "ticks": ""
            },
            "type": "contourcarpet"
           }
          ],
          "heatmap": [
           {
            "colorbar": {
             "outlinewidth": 0,
             "ticks": ""
            },
            "colorscale": [
             [
              0,
              "#0d0887"
             ],
             [
              0.1111111111111111,
              "#46039f"
             ],
             [
              0.2222222222222222,
              "#7201a8"
             ],
             [
              0.3333333333333333,
              "#9c179e"
             ],
             [
              0.4444444444444444,
              "#bd3786"
             ],
             [
              0.5555555555555556,
              "#d8576b"
             ],
             [
              0.6666666666666666,
              "#ed7953"
             ],
             [
              0.7777777777777778,
              "#fb9f3a"
             ],
             [
              0.8888888888888888,
              "#fdca26"
             ],
             [
              1,
              "#f0f921"
             ]
            ],
            "type": "heatmap"
           }
          ],
          "heatmapgl": [
           {
            "colorbar": {
             "outlinewidth": 0,
             "ticks": ""
            },
            "colorscale": [
             [
              0,
              "#0d0887"
             ],
             [
              0.1111111111111111,
              "#46039f"
             ],
             [
              0.2222222222222222,
              "#7201a8"
             ],
             [
              0.3333333333333333,
              "#9c179e"
             ],
             [
              0.4444444444444444,
              "#bd3786"
             ],
             [
              0.5555555555555556,
              "#d8576b"
             ],
             [
              0.6666666666666666,
              "#ed7953"
             ],
             [
              0.7777777777777778,
              "#fb9f3a"
             ],
             [
              0.8888888888888888,
              "#fdca26"
             ],
             [
              1,
              "#f0f921"
             ]
            ],
            "type": "heatmapgl"
           }
          ],
          "histogram": [
           {
            "marker": {
             "pattern": {
              "fillmode": "overlay",
              "size": 10,
              "solidity": 0.2
             }
            },
            "type": "histogram"
           }
          ],
          "histogram2d": [
           {
            "colorbar": {
             "outlinewidth": 0,
             "ticks": ""
            },
            "colorscale": [
             [
              0,
              "#0d0887"
             ],
             [
              0.1111111111111111,
              "#46039f"
             ],
             [
              0.2222222222222222,
              "#7201a8"
             ],
             [
              0.3333333333333333,
              "#9c179e"
             ],
             [
              0.4444444444444444,
              "#bd3786"
             ],
             [
              0.5555555555555556,
              "#d8576b"
             ],
             [
              0.6666666666666666,
              "#ed7953"
             ],
             [
              0.7777777777777778,
              "#fb9f3a"
             ],
             [
              0.8888888888888888,
              "#fdca26"
             ],
             [
              1,
              "#f0f921"
             ]
            ],
            "type": "histogram2d"
           }
          ],
          "histogram2dcontour": [
           {
            "colorbar": {
             "outlinewidth": 0,
             "ticks": ""
            },
            "colorscale": [
             [
              0,
              "#0d0887"
             ],
             [
              0.1111111111111111,
              "#46039f"
             ],
             [
              0.2222222222222222,
              "#7201a8"
             ],
             [
              0.3333333333333333,
              "#9c179e"
             ],
             [
              0.4444444444444444,
              "#bd3786"
             ],
             [
              0.5555555555555556,
              "#d8576b"
             ],
             [
              0.6666666666666666,
              "#ed7953"
             ],
             [
              0.7777777777777778,
              "#fb9f3a"
             ],
             [
              0.8888888888888888,
              "#fdca26"
             ],
             [
              1,
              "#f0f921"
             ]
            ],
            "type": "histogram2dcontour"
           }
          ],
          "mesh3d": [
           {
            "colorbar": {
             "outlinewidth": 0,
             "ticks": ""
            },
            "type": "mesh3d"
           }
          ],
          "parcoords": [
           {
            "line": {
             "colorbar": {
              "outlinewidth": 0,
              "ticks": ""
             }
            },
            "type": "parcoords"
           }
          ],
          "pie": [
           {
            "automargin": true,
            "type": "pie"
           }
          ],
          "scatter": [
           {
            "marker": {
             "colorbar": {
              "outlinewidth": 0,
              "ticks": ""
             }
            },
            "type": "scatter"
           }
          ],
          "scatter3d": [
           {
            "line": {
             "colorbar": {
              "outlinewidth": 0,
              "ticks": ""
             }
            },
            "marker": {
             "colorbar": {
              "outlinewidth": 0,
              "ticks": ""
             }
            },
            "type": "scatter3d"
           }
          ],
          "scattercarpet": [
           {
            "marker": {
             "colorbar": {
              "outlinewidth": 0,
              "ticks": ""
             }
            },
            "type": "scattercarpet"
           }
          ],
          "scattergeo": [
           {
            "marker": {
             "colorbar": {
              "outlinewidth": 0,
              "ticks": ""
             }
            },
            "type": "scattergeo"
           }
          ],
          "scattergl": [
           {
            "marker": {
             "colorbar": {
              "outlinewidth": 0,
              "ticks": ""
             }
            },
            "type": "scattergl"
           }
          ],
          "scattermapbox": [
           {
            "marker": {
             "colorbar": {
              "outlinewidth": 0,
              "ticks": ""
             }
            },
            "type": "scattermapbox"
           }
          ],
          "scatterpolar": [
           {
            "marker": {
             "colorbar": {
              "outlinewidth": 0,
              "ticks": ""
             }
            },
            "type": "scatterpolar"
           }
          ],
          "scatterpolargl": [
           {
            "marker": {
             "colorbar": {
              "outlinewidth": 0,
              "ticks": ""
             }
            },
            "type": "scatterpolargl"
           }
          ],
          "scatterternary": [
           {
            "marker": {
             "colorbar": {
              "outlinewidth": 0,
              "ticks": ""
             }
            },
            "type": "scatterternary"
           }
          ],
          "surface": [
           {
            "colorbar": {
             "outlinewidth": 0,
             "ticks": ""
            },
            "colorscale": [
             [
              0,
              "#0d0887"
             ],
             [
              0.1111111111111111,
              "#46039f"
             ],
             [
              0.2222222222222222,
              "#7201a8"
             ],
             [
              0.3333333333333333,
              "#9c179e"
             ],
             [
              0.4444444444444444,
              "#bd3786"
             ],
             [
              0.5555555555555556,
              "#d8576b"
             ],
             [
              0.6666666666666666,
              "#ed7953"
             ],
             [
              0.7777777777777778,
              "#fb9f3a"
             ],
             [
              0.8888888888888888,
              "#fdca26"
             ],
             [
              1,
              "#f0f921"
             ]
            ],
            "type": "surface"
           }
          ],
          "table": [
           {
            "cells": {
             "fill": {
              "color": "#EBF0F8"
             },
             "line": {
              "color": "white"
             }
            },
            "header": {
             "fill": {
              "color": "#C8D4E3"
             },
             "line": {
              "color": "white"
             }
            },
            "type": "table"
           }
          ]
         },
         "layout": {
          "annotationdefaults": {
           "arrowcolor": "#2a3f5f",
           "arrowhead": 0,
           "arrowwidth": 1
          },
          "autotypenumbers": "strict",
          "coloraxis": {
           "colorbar": {
            "outlinewidth": 0,
            "ticks": ""
           }
          },
          "colorscale": {
           "diverging": [
            [
             0,
             "#8e0152"
            ],
            [
             0.1,
             "#c51b7d"
            ],
            [
             0.2,
             "#de77ae"
            ],
            [
             0.3,
             "#f1b6da"
            ],
            [
             0.4,
             "#fde0ef"
            ],
            [
             0.5,
             "#f7f7f7"
            ],
            [
             0.6,
             "#e6f5d0"
            ],
            [
             0.7,
             "#b8e186"
            ],
            [
             0.8,
             "#7fbc41"
            ],
            [
             0.9,
             "#4d9221"
            ],
            [
             1,
             "#276419"
            ]
           ],
           "sequential": [
            [
             0,
             "#0d0887"
            ],
            [
             0.1111111111111111,
             "#46039f"
            ],
            [
             0.2222222222222222,
             "#7201a8"
            ],
            [
             0.3333333333333333,
             "#9c179e"
            ],
            [
             0.4444444444444444,
             "#bd3786"
            ],
            [
             0.5555555555555556,
             "#d8576b"
            ],
            [
             0.6666666666666666,
             "#ed7953"
            ],
            [
             0.7777777777777778,
             "#fb9f3a"
            ],
            [
             0.8888888888888888,
             "#fdca26"
            ],
            [
             1,
             "#f0f921"
            ]
           ],
           "sequentialminus": [
            [
             0,
             "#0d0887"
            ],
            [
             0.1111111111111111,
             "#46039f"
            ],
            [
             0.2222222222222222,
             "#7201a8"
            ],
            [
             0.3333333333333333,
             "#9c179e"
            ],
            [
             0.4444444444444444,
             "#bd3786"
            ],
            [
             0.5555555555555556,
             "#d8576b"
            ],
            [
             0.6666666666666666,
             "#ed7953"
            ],
            [
             0.7777777777777778,
             "#fb9f3a"
            ],
            [
             0.8888888888888888,
             "#fdca26"
            ],
            [
             1,
             "#f0f921"
            ]
           ]
          },
          "colorway": [
           "#636efa",
           "#EF553B",
           "#00cc96",
           "#ab63fa",
           "#FFA15A",
           "#19d3f3",
           "#FF6692",
           "#B6E880",
           "#FF97FF",
           "#FECB52"
          ],
          "font": {
           "color": "#2a3f5f"
          },
          "geo": {
           "bgcolor": "white",
           "lakecolor": "white",
           "landcolor": "#E5ECF6",
           "showlakes": true,
           "showland": true,
           "subunitcolor": "white"
          },
          "hoverlabel": {
           "align": "left"
          },
          "hovermode": "closest",
          "mapbox": {
           "style": "light"
          },
          "paper_bgcolor": "white",
          "plot_bgcolor": "#E5ECF6",
          "polar": {
           "angularaxis": {
            "gridcolor": "white",
            "linecolor": "white",
            "ticks": ""
           },
           "bgcolor": "#E5ECF6",
           "radialaxis": {
            "gridcolor": "white",
            "linecolor": "white",
            "ticks": ""
           }
          },
          "scene": {
           "xaxis": {
            "backgroundcolor": "#E5ECF6",
            "gridcolor": "white",
            "gridwidth": 2,
            "linecolor": "white",
            "showbackground": true,
            "ticks": "",
            "zerolinecolor": "white"
           },
           "yaxis": {
            "backgroundcolor": "#E5ECF6",
            "gridcolor": "white",
            "gridwidth": 2,
            "linecolor": "white",
            "showbackground": true,
            "ticks": "",
            "zerolinecolor": "white"
           },
           "zaxis": {
            "backgroundcolor": "#E5ECF6",
            "gridcolor": "white",
            "gridwidth": 2,
            "linecolor": "white",
            "showbackground": true,
            "ticks": "",
            "zerolinecolor": "white"
           }
          },
          "shapedefaults": {
           "line": {
            "color": "#2a3f5f"
           }
          },
          "ternary": {
           "aaxis": {
            "gridcolor": "white",
            "linecolor": "white",
            "ticks": ""
           },
           "baxis": {
            "gridcolor": "white",
            "linecolor": "white",
            "ticks": ""
           },
           "bgcolor": "#E5ECF6",
           "caxis": {
            "gridcolor": "white",
            "linecolor": "white",
            "ticks": ""
           }
          },
          "title": {
           "x": 0.05
          },
          "xaxis": {
           "automargin": true,
           "gridcolor": "white",
           "linecolor": "white",
           "ticks": "",
           "title": {
            "standoff": 15
           },
           "zerolinecolor": "white",
           "zerolinewidth": 2
          },
          "yaxis": {
           "automargin": true,
           "gridcolor": "white",
           "linecolor": "white",
           "ticks": "",
           "title": {
            "standoff": 15
           },
           "zerolinecolor": "white",
           "zerolinewidth": 2
          }
         }
        },
        "xaxis": {
         "anchor": "y",
         "domain": [
          0,
          1
         ],
         "title": {
          "text": "DATESTAMP_MOD_DAY"
         }
        },
        "yaxis": {
         "anchor": "x",
         "domain": [
          0,
          1
         ],
         "title": {
          "text": "H_New"
         }
        }
       }
      }
     },
     "metadata": {},
     "output_type": "display_data"
    }
   ],
   "source": [
    "plotly4 = px.bar(dailySpecific, x='DATESTAMP_MOD_DAY', y='H_New', color='COUNTY', barmode = 'group')\n",
    "plotly4.show()"
   ]
  },
  {
   "cell_type": "code",
   "execution_count": 60,
   "metadata": {},
   "outputs": [
    {
     "data": {
      "application/vnd.plotly.v1+json": {
       "config": {
        "plotlyServerURL": "https://plot.ly"
       },
       "data": [
        {
         "alignmentgroup": "True",
         "hovertemplate": "COUNTY=FULTON<br>DATESTAMP_MOD_DAY=%{x}<br>H_Cum=%{y}<extra></extra>",
         "legendgroup": "FULTON",
         "marker": {
          "color": "#636efa",
          "pattern": {
           "shape": ""
          }
         },
         "name": "FULTON",
         "offsetgroup": "FULTON",
         "orientation": "v",
         "showlegend": true,
         "textposition": "auto",
         "type": "bar",
         "x": [
          "2020-04-26",
          "2020-04-27",
          "2020-04-28",
          "2020-04-29",
          "2020-04-30",
          "2020-05-01",
          "2020-05-02",
          "2020-05-03",
          "2020-05-04",
          "2020-05-05",
          "2020-05-06",
          "2020-05-07",
          "2020-05-08",
          "2020-05-09"
         ],
         "xaxis": "x",
         "y": [
          752,
          760,
          770,
          787,
          792,
          807,
          811,
          819,
          826,
          831,
          839,
          840,
          853,
          856
         ],
         "yaxis": "y"
        },
        {
         "alignmentgroup": "True",
         "hovertemplate": "COUNTY=COBB<br>DATESTAMP_MOD_DAY=%{x}<br>H_Cum=%{y}<extra></extra>",
         "legendgroup": "COBB",
         "marker": {
          "color": "#EF553B",
          "pattern": {
           "shape": ""
          }
         },
         "name": "COBB",
         "offsetgroup": "COBB",
         "orientation": "v",
         "showlegend": true,
         "textposition": "auto",
         "type": "bar",
         "x": [
          "2020-04-26",
          "2020-04-27",
          "2020-04-28",
          "2020-04-29",
          "2020-04-30",
          "2020-05-01",
          "2020-05-02",
          "2020-05-03",
          "2020-05-04",
          "2020-05-05",
          "2020-05-06",
          "2020-05-07",
          "2020-05-08",
          "2020-05-09"
         ],
         "xaxis": "x",
         "y": [
          597,
          603,
          613,
          621,
          636,
          651,
          655,
          658,
          665,
          671,
          676,
          681,
          688,
          692
         ],
         "yaxis": "y"
        },
        {
         "alignmentgroup": "True",
         "hovertemplate": "COUNTY=GWINNETT<br>DATESTAMP_MOD_DAY=%{x}<br>H_Cum=%{y}<extra></extra>",
         "legendgroup": "GWINNETT",
         "marker": {
          "color": "#00cc96",
          "pattern": {
           "shape": ""
          }
         },
         "name": "GWINNETT",
         "offsetgroup": "GWINNETT",
         "orientation": "v",
         "showlegend": true,
         "textposition": "auto",
         "type": "bar",
         "x": [
          "2020-04-26",
          "2020-04-27",
          "2020-04-28",
          "2020-04-29",
          "2020-04-30",
          "2020-05-01",
          "2020-05-02",
          "2020-05-03",
          "2020-05-04",
          "2020-05-05",
          "2020-05-06",
          "2020-05-07",
          "2020-05-08",
          "2020-05-09"
         ],
         "xaxis": "x",
         "y": [
          453,
          459,
          469,
          477,
          484,
          492,
          499,
          506,
          517,
          528,
          535,
          539,
          546,
          550
         ],
         "yaxis": "y"
        },
        {
         "alignmentgroup": "True",
         "hovertemplate": "COUNTY=DEKALB<br>DATESTAMP_MOD_DAY=%{x}<br>H_Cum=%{y}<extra></extra>",
         "legendgroup": "DEKALB",
         "marker": {
          "color": "#ab63fa",
          "pattern": {
           "shape": ""
          }
         },
         "name": "DEKALB",
         "offsetgroup": "DEKALB",
         "orientation": "v",
         "showlegend": true,
         "textposition": "auto",
         "type": "bar",
         "x": [
          "2020-04-26",
          "2020-04-27",
          "2020-04-28",
          "2020-04-29",
          "2020-04-30",
          "2020-05-01",
          "2020-05-02",
          "2020-05-03",
          "2020-05-04",
          "2020-05-05",
          "2020-05-06",
          "2020-05-07",
          "2020-05-08",
          "2020-05-09"
         ],
         "xaxis": "x",
         "y": [
          564,
          575,
          590,
          597,
          607,
          614,
          618,
          618,
          630,
          640,
          648,
          655,
          664,
          675
         ],
         "yaxis": "y"
        },
        {
         "alignmentgroup": "True",
         "hovertemplate": "COUNTY=HALL<br>DATESTAMP_MOD_DAY=%{x}<br>H_Cum=%{y}<extra></extra>",
         "legendgroup": "HALL",
         "marker": {
          "color": "#FFA15A",
          "pattern": {
           "shape": ""
          }
         },
         "name": "HALL",
         "offsetgroup": "HALL",
         "orientation": "v",
         "showlegend": true,
         "textposition": "auto",
         "type": "bar",
         "x": [
          "2020-05-06",
          "2020-05-07",
          "2020-05-08",
          "2020-05-09",
          "2020-04-26",
          "2020-04-27",
          "2020-04-28",
          "2020-04-29",
          "2020-04-30",
          "2020-05-01",
          "2020-05-02",
          "2020-05-03",
          "2020-05-04",
          "2020-05-05"
         ],
         "xaxis": "x",
         "y": [
          326,
          327,
          331,
          332,
          268,
          278,
          285,
          291,
          297,
          305,
          312,
          316,
          320,
          322
         ],
         "yaxis": "y"
        }
       ],
       "layout": {
        "barmode": "group",
        "legend": {
         "title": {
          "text": "COUNTY"
         },
         "tracegroupgap": 0
        },
        "margin": {
         "t": 60
        },
        "template": {
         "data": {
          "bar": [
           {
            "error_x": {
             "color": "#2a3f5f"
            },
            "error_y": {
             "color": "#2a3f5f"
            },
            "marker": {
             "line": {
              "color": "#E5ECF6",
              "width": 0.5
             },
             "pattern": {
              "fillmode": "overlay",
              "size": 10,
              "solidity": 0.2
             }
            },
            "type": "bar"
           }
          ],
          "barpolar": [
           {
            "marker": {
             "line": {
              "color": "#E5ECF6",
              "width": 0.5
             },
             "pattern": {
              "fillmode": "overlay",
              "size": 10,
              "solidity": 0.2
             }
            },
            "type": "barpolar"
           }
          ],
          "carpet": [
           {
            "aaxis": {
             "endlinecolor": "#2a3f5f",
             "gridcolor": "white",
             "linecolor": "white",
             "minorgridcolor": "white",
             "startlinecolor": "#2a3f5f"
            },
            "baxis": {
             "endlinecolor": "#2a3f5f",
             "gridcolor": "white",
             "linecolor": "white",
             "minorgridcolor": "white",
             "startlinecolor": "#2a3f5f"
            },
            "type": "carpet"
           }
          ],
          "choropleth": [
           {
            "colorbar": {
             "outlinewidth": 0,
             "ticks": ""
            },
            "type": "choropleth"
           }
          ],
          "contour": [
           {
            "colorbar": {
             "outlinewidth": 0,
             "ticks": ""
            },
            "colorscale": [
             [
              0,
              "#0d0887"
             ],
             [
              0.1111111111111111,
              "#46039f"
             ],
             [
              0.2222222222222222,
              "#7201a8"
             ],
             [
              0.3333333333333333,
              "#9c179e"
             ],
             [
              0.4444444444444444,
              "#bd3786"
             ],
             [
              0.5555555555555556,
              "#d8576b"
             ],
             [
              0.6666666666666666,
              "#ed7953"
             ],
             [
              0.7777777777777778,
              "#fb9f3a"
             ],
             [
              0.8888888888888888,
              "#fdca26"
             ],
             [
              1,
              "#f0f921"
             ]
            ],
            "type": "contour"
           }
          ],
          "contourcarpet": [
           {
            "colorbar": {
             "outlinewidth": 0,
             "ticks": ""
            },
            "type": "contourcarpet"
           }
          ],
          "heatmap": [
           {
            "colorbar": {
             "outlinewidth": 0,
             "ticks": ""
            },
            "colorscale": [
             [
              0,
              "#0d0887"
             ],
             [
              0.1111111111111111,
              "#46039f"
             ],
             [
              0.2222222222222222,
              "#7201a8"
             ],
             [
              0.3333333333333333,
              "#9c179e"
             ],
             [
              0.4444444444444444,
              "#bd3786"
             ],
             [
              0.5555555555555556,
              "#d8576b"
             ],
             [
              0.6666666666666666,
              "#ed7953"
             ],
             [
              0.7777777777777778,
              "#fb9f3a"
             ],
             [
              0.8888888888888888,
              "#fdca26"
             ],
             [
              1,
              "#f0f921"
             ]
            ],
            "type": "heatmap"
           }
          ],
          "heatmapgl": [
           {
            "colorbar": {
             "outlinewidth": 0,
             "ticks": ""
            },
            "colorscale": [
             [
              0,
              "#0d0887"
             ],
             [
              0.1111111111111111,
              "#46039f"
             ],
             [
              0.2222222222222222,
              "#7201a8"
             ],
             [
              0.3333333333333333,
              "#9c179e"
             ],
             [
              0.4444444444444444,
              "#bd3786"
             ],
             [
              0.5555555555555556,
              "#d8576b"
             ],
             [
              0.6666666666666666,
              "#ed7953"
             ],
             [
              0.7777777777777778,
              "#fb9f3a"
             ],
             [
              0.8888888888888888,
              "#fdca26"
             ],
             [
              1,
              "#f0f921"
             ]
            ],
            "type": "heatmapgl"
           }
          ],
          "histogram": [
           {
            "marker": {
             "pattern": {
              "fillmode": "overlay",
              "size": 10,
              "solidity": 0.2
             }
            },
            "type": "histogram"
           }
          ],
          "histogram2d": [
           {
            "colorbar": {
             "outlinewidth": 0,
             "ticks": ""
            },
            "colorscale": [
             [
              0,
              "#0d0887"
             ],
             [
              0.1111111111111111,
              "#46039f"
             ],
             [
              0.2222222222222222,
              "#7201a8"
             ],
             [
              0.3333333333333333,
              "#9c179e"
             ],
             [
              0.4444444444444444,
              "#bd3786"
             ],
             [
              0.5555555555555556,
              "#d8576b"
             ],
             [
              0.6666666666666666,
              "#ed7953"
             ],
             [
              0.7777777777777778,
              "#fb9f3a"
             ],
             [
              0.8888888888888888,
              "#fdca26"
             ],
             [
              1,
              "#f0f921"
             ]
            ],
            "type": "histogram2d"
           }
          ],
          "histogram2dcontour": [
           {
            "colorbar": {
             "outlinewidth": 0,
             "ticks": ""
            },
            "colorscale": [
             [
              0,
              "#0d0887"
             ],
             [
              0.1111111111111111,
              "#46039f"
             ],
             [
              0.2222222222222222,
              "#7201a8"
             ],
             [
              0.3333333333333333,
              "#9c179e"
             ],
             [
              0.4444444444444444,
              "#bd3786"
             ],
             [
              0.5555555555555556,
              "#d8576b"
             ],
             [
              0.6666666666666666,
              "#ed7953"
             ],
             [
              0.7777777777777778,
              "#fb9f3a"
             ],
             [
              0.8888888888888888,
              "#fdca26"
             ],
             [
              1,
              "#f0f921"
             ]
            ],
            "type": "histogram2dcontour"
           }
          ],
          "mesh3d": [
           {
            "colorbar": {
             "outlinewidth": 0,
             "ticks": ""
            },
            "type": "mesh3d"
           }
          ],
          "parcoords": [
           {
            "line": {
             "colorbar": {
              "outlinewidth": 0,
              "ticks": ""
             }
            },
            "type": "parcoords"
           }
          ],
          "pie": [
           {
            "automargin": true,
            "type": "pie"
           }
          ],
          "scatter": [
           {
            "marker": {
             "colorbar": {
              "outlinewidth": 0,
              "ticks": ""
             }
            },
            "type": "scatter"
           }
          ],
          "scatter3d": [
           {
            "line": {
             "colorbar": {
              "outlinewidth": 0,
              "ticks": ""
             }
            },
            "marker": {
             "colorbar": {
              "outlinewidth": 0,
              "ticks": ""
             }
            },
            "type": "scatter3d"
           }
          ],
          "scattercarpet": [
           {
            "marker": {
             "colorbar": {
              "outlinewidth": 0,
              "ticks": ""
             }
            },
            "type": "scattercarpet"
           }
          ],
          "scattergeo": [
           {
            "marker": {
             "colorbar": {
              "outlinewidth": 0,
              "ticks": ""
             }
            },
            "type": "scattergeo"
           }
          ],
          "scattergl": [
           {
            "marker": {
             "colorbar": {
              "outlinewidth": 0,
              "ticks": ""
             }
            },
            "type": "scattergl"
           }
          ],
          "scattermapbox": [
           {
            "marker": {
             "colorbar": {
              "outlinewidth": 0,
              "ticks": ""
             }
            },
            "type": "scattermapbox"
           }
          ],
          "scatterpolar": [
           {
            "marker": {
             "colorbar": {
              "outlinewidth": 0,
              "ticks": ""
             }
            },
            "type": "scatterpolar"
           }
          ],
          "scatterpolargl": [
           {
            "marker": {
             "colorbar": {
              "outlinewidth": 0,
              "ticks": ""
             }
            },
            "type": "scatterpolargl"
           }
          ],
          "scatterternary": [
           {
            "marker": {
             "colorbar": {
              "outlinewidth": 0,
              "ticks": ""
             }
            },
            "type": "scatterternary"
           }
          ],
          "surface": [
           {
            "colorbar": {
             "outlinewidth": 0,
             "ticks": ""
            },
            "colorscale": [
             [
              0,
              "#0d0887"
             ],
             [
              0.1111111111111111,
              "#46039f"
             ],
             [
              0.2222222222222222,
              "#7201a8"
             ],
             [
              0.3333333333333333,
              "#9c179e"
             ],
             [
              0.4444444444444444,
              "#bd3786"
             ],
             [
              0.5555555555555556,
              "#d8576b"
             ],
             [
              0.6666666666666666,
              "#ed7953"
             ],
             [
              0.7777777777777778,
              "#fb9f3a"
             ],
             [
              0.8888888888888888,
              "#fdca26"
             ],
             [
              1,
              "#f0f921"
             ]
            ],
            "type": "surface"
           }
          ],
          "table": [
           {
            "cells": {
             "fill": {
              "color": "#EBF0F8"
             },
             "line": {
              "color": "white"
             }
            },
            "header": {
             "fill": {
              "color": "#C8D4E3"
             },
             "line": {
              "color": "white"
             }
            },
            "type": "table"
           }
          ]
         },
         "layout": {
          "annotationdefaults": {
           "arrowcolor": "#2a3f5f",
           "arrowhead": 0,
           "arrowwidth": 1
          },
          "autotypenumbers": "strict",
          "coloraxis": {
           "colorbar": {
            "outlinewidth": 0,
            "ticks": ""
           }
          },
          "colorscale": {
           "diverging": [
            [
             0,
             "#8e0152"
            ],
            [
             0.1,
             "#c51b7d"
            ],
            [
             0.2,
             "#de77ae"
            ],
            [
             0.3,
             "#f1b6da"
            ],
            [
             0.4,
             "#fde0ef"
            ],
            [
             0.5,
             "#f7f7f7"
            ],
            [
             0.6,
             "#e6f5d0"
            ],
            [
             0.7,
             "#b8e186"
            ],
            [
             0.8,
             "#7fbc41"
            ],
            [
             0.9,
             "#4d9221"
            ],
            [
             1,
             "#276419"
            ]
           ],
           "sequential": [
            [
             0,
             "#0d0887"
            ],
            [
             0.1111111111111111,
             "#46039f"
            ],
            [
             0.2222222222222222,
             "#7201a8"
            ],
            [
             0.3333333333333333,
             "#9c179e"
            ],
            [
             0.4444444444444444,
             "#bd3786"
            ],
            [
             0.5555555555555556,
             "#d8576b"
            ],
            [
             0.6666666666666666,
             "#ed7953"
            ],
            [
             0.7777777777777778,
             "#fb9f3a"
            ],
            [
             0.8888888888888888,
             "#fdca26"
            ],
            [
             1,
             "#f0f921"
            ]
           ],
           "sequentialminus": [
            [
             0,
             "#0d0887"
            ],
            [
             0.1111111111111111,
             "#46039f"
            ],
            [
             0.2222222222222222,
             "#7201a8"
            ],
            [
             0.3333333333333333,
             "#9c179e"
            ],
            [
             0.4444444444444444,
             "#bd3786"
            ],
            [
             0.5555555555555556,
             "#d8576b"
            ],
            [
             0.6666666666666666,
             "#ed7953"
            ],
            [
             0.7777777777777778,
             "#fb9f3a"
            ],
            [
             0.8888888888888888,
             "#fdca26"
            ],
            [
             1,
             "#f0f921"
            ]
           ]
          },
          "colorway": [
           "#636efa",
           "#EF553B",
           "#00cc96",
           "#ab63fa",
           "#FFA15A",
           "#19d3f3",
           "#FF6692",
           "#B6E880",
           "#FF97FF",
           "#FECB52"
          ],
          "font": {
           "color": "#2a3f5f"
          },
          "geo": {
           "bgcolor": "white",
           "lakecolor": "white",
           "landcolor": "#E5ECF6",
           "showlakes": true,
           "showland": true,
           "subunitcolor": "white"
          },
          "hoverlabel": {
           "align": "left"
          },
          "hovermode": "closest",
          "mapbox": {
           "style": "light"
          },
          "paper_bgcolor": "white",
          "plot_bgcolor": "#E5ECF6",
          "polar": {
           "angularaxis": {
            "gridcolor": "white",
            "linecolor": "white",
            "ticks": ""
           },
           "bgcolor": "#E5ECF6",
           "radialaxis": {
            "gridcolor": "white",
            "linecolor": "white",
            "ticks": ""
           }
          },
          "scene": {
           "xaxis": {
            "backgroundcolor": "#E5ECF6",
            "gridcolor": "white",
            "gridwidth": 2,
            "linecolor": "white",
            "showbackground": true,
            "ticks": "",
            "zerolinecolor": "white"
           },
           "yaxis": {
            "backgroundcolor": "#E5ECF6",
            "gridcolor": "white",
            "gridwidth": 2,
            "linecolor": "white",
            "showbackground": true,
            "ticks": "",
            "zerolinecolor": "white"
           },
           "zaxis": {
            "backgroundcolor": "#E5ECF6",
            "gridcolor": "white",
            "gridwidth": 2,
            "linecolor": "white",
            "showbackground": true,
            "ticks": "",
            "zerolinecolor": "white"
           }
          },
          "shapedefaults": {
           "line": {
            "color": "#2a3f5f"
           }
          },
          "ternary": {
           "aaxis": {
            "gridcolor": "white",
            "linecolor": "white",
            "ticks": ""
           },
           "baxis": {
            "gridcolor": "white",
            "linecolor": "white",
            "ticks": ""
           },
           "bgcolor": "#E5ECF6",
           "caxis": {
            "gridcolor": "white",
            "linecolor": "white",
            "ticks": ""
           }
          },
          "title": {
           "x": 0.05
          },
          "xaxis": {
           "automargin": true,
           "gridcolor": "white",
           "linecolor": "white",
           "ticks": "",
           "title": {
            "standoff": 15
           },
           "zerolinecolor": "white",
           "zerolinewidth": 2
          },
          "yaxis": {
           "automargin": true,
           "gridcolor": "white",
           "linecolor": "white",
           "ticks": "",
           "title": {
            "standoff": 15
           },
           "zerolinecolor": "white",
           "zerolinewidth": 2
          }
         }
        },
        "xaxis": {
         "anchor": "y",
         "domain": [
          0,
          1
         ],
         "title": {
          "text": "DATESTAMP_MOD_DAY"
         }
        },
        "yaxis": {
         "anchor": "x",
         "domain": [
          0,
          1
         ],
         "title": {
          "text": "H_Cum"
         }
        }
       }
      }
     },
     "metadata": {},
     "output_type": "display_data"
    }
   ],
   "source": [
    "plotly5 = px.bar(dailySpecific, x='DATESTAMP_MOD_DAY', y='H_Cum', color='COUNTY', barmode = 'group')\n",
    "plotly5.show()"
   ]
  },
  {
   "cell_type": "code",
   "execution_count": 61,
   "metadata": {},
   "outputs": [
    {
     "data": {
      "application/vnd.plotly.v1+json": {
       "config": {
        "plotlyServerURL": "https://plot.ly"
       },
       "data": [
        {
         "alignmentgroup": "True",
         "hovertemplate": "COUNTY=FULTON<br>DATESTAMP_MOD_DAY=%{x}<br>D_New=%{y}<extra></extra>",
         "legendgroup": "FULTON",
         "marker": {
          "color": "#636efa",
          "pattern": {
           "shape": ""
          }
         },
         "name": "FULTON",
         "offsetgroup": "FULTON",
         "orientation": "v",
         "showlegend": true,
         "textposition": "auto",
         "type": "bar",
         "x": [
          "2020-04-26",
          "2020-04-27",
          "2020-04-28",
          "2020-04-29",
          "2020-04-30",
          "2020-05-01",
          "2020-05-02",
          "2020-05-03",
          "2020-05-04",
          "2020-05-05",
          "2020-05-06",
          "2020-05-07",
          "2020-05-08",
          "2020-05-09"
         ],
         "xaxis": "x",
         "y": [
          6,
          4,
          3,
          8,
          5,
          4,
          3,
          6,
          3,
          1,
          4,
          1,
          5,
          2
         ],
         "yaxis": "y"
        },
        {
         "alignmentgroup": "True",
         "hovertemplate": "COUNTY=COBB<br>DATESTAMP_MOD_DAY=%{x}<br>D_New=%{y}<extra></extra>",
         "legendgroup": "COBB",
         "marker": {
          "color": "#EF553B",
          "pattern": {
           "shape": ""
          }
         },
         "name": "COBB",
         "offsetgroup": "COBB",
         "orientation": "v",
         "showlegend": true,
         "textposition": "auto",
         "type": "bar",
         "x": [
          "2020-04-26",
          "2020-04-27",
          "2020-04-28",
          "2020-04-29",
          "2020-04-30",
          "2020-05-01",
          "2020-05-02",
          "2020-05-03",
          "2020-05-04",
          "2020-05-05",
          "2020-05-06",
          "2020-05-07",
          "2020-05-08",
          "2020-05-09"
         ],
         "xaxis": "x",
         "y": [
          4,
          14,
          4,
          4,
          8,
          7,
          3,
          1,
          2,
          4,
          3,
          3,
          6,
          1
         ],
         "yaxis": "y"
        },
        {
         "alignmentgroup": "True",
         "hovertemplate": "COUNTY=GWINNETT<br>DATESTAMP_MOD_DAY=%{x}<br>D_New=%{y}<extra></extra>",
         "legendgroup": "GWINNETT",
         "marker": {
          "color": "#00cc96",
          "pattern": {
           "shape": ""
          }
         },
         "name": "GWINNETT",
         "offsetgroup": "GWINNETT",
         "orientation": "v",
         "showlegend": true,
         "textposition": "auto",
         "type": "bar",
         "x": [
          "2020-04-26",
          "2020-04-27",
          "2020-04-28",
          "2020-04-29",
          "2020-04-30",
          "2020-05-01",
          "2020-05-02",
          "2020-05-03",
          "2020-05-04",
          "2020-05-05",
          "2020-05-06",
          "2020-05-07",
          "2020-05-08",
          "2020-05-09"
         ],
         "xaxis": "x",
         "y": [
          5,
          6,
          4,
          4,
          0,
          2,
          2,
          4,
          2,
          1,
          3,
          0,
          1,
          1
         ],
         "yaxis": "y"
        },
        {
         "alignmentgroup": "True",
         "hovertemplate": "COUNTY=DEKALB<br>DATESTAMP_MOD_DAY=%{x}<br>D_New=%{y}<extra></extra>",
         "legendgroup": "DEKALB",
         "marker": {
          "color": "#ab63fa",
          "pattern": {
           "shape": ""
          }
         },
         "name": "DEKALB",
         "offsetgroup": "DEKALB",
         "orientation": "v",
         "showlegend": true,
         "textposition": "auto",
         "type": "bar",
         "x": [
          "2020-04-26",
          "2020-04-27",
          "2020-04-28",
          "2020-04-29",
          "2020-04-30",
          "2020-05-01",
          "2020-05-02",
          "2020-05-03",
          "2020-05-04",
          "2020-05-05",
          "2020-05-06",
          "2020-05-07",
          "2020-05-08",
          "2020-05-09"
         ],
         "xaxis": "x",
         "y": [
          2,
          7,
          2,
          7,
          0,
          4,
          2,
          0,
          4,
          5,
          0,
          2,
          2,
          3
         ],
         "yaxis": "y"
        },
        {
         "alignmentgroup": "True",
         "hovertemplate": "COUNTY=HALL<br>DATESTAMP_MOD_DAY=%{x}<br>D_New=%{y}<extra></extra>",
         "legendgroup": "HALL",
         "marker": {
          "color": "#FFA15A",
          "pattern": {
           "shape": ""
          }
         },
         "name": "HALL",
         "offsetgroup": "HALL",
         "orientation": "v",
         "showlegend": true,
         "textposition": "auto",
         "type": "bar",
         "x": [
          "2020-05-06",
          "2020-05-07",
          "2020-05-08",
          "2020-05-09",
          "2020-04-26",
          "2020-04-27",
          "2020-04-28",
          "2020-04-29",
          "2020-04-30",
          "2020-05-01",
          "2020-05-02",
          "2020-05-03",
          "2020-05-04",
          "2020-05-05"
         ],
         "xaxis": "x",
         "y": [
          0,
          0,
          0,
          0,
          2,
          1,
          1,
          2,
          2,
          1,
          3,
          0,
          1,
          1
         ],
         "yaxis": "y"
        }
       ],
       "layout": {
        "barmode": "group",
        "legend": {
         "title": {
          "text": "COUNTY"
         },
         "tracegroupgap": 0
        },
        "margin": {
         "t": 60
        },
        "template": {
         "data": {
          "bar": [
           {
            "error_x": {
             "color": "#2a3f5f"
            },
            "error_y": {
             "color": "#2a3f5f"
            },
            "marker": {
             "line": {
              "color": "#E5ECF6",
              "width": 0.5
             },
             "pattern": {
              "fillmode": "overlay",
              "size": 10,
              "solidity": 0.2
             }
            },
            "type": "bar"
           }
          ],
          "barpolar": [
           {
            "marker": {
             "line": {
              "color": "#E5ECF6",
              "width": 0.5
             },
             "pattern": {
              "fillmode": "overlay",
              "size": 10,
              "solidity": 0.2
             }
            },
            "type": "barpolar"
           }
          ],
          "carpet": [
           {
            "aaxis": {
             "endlinecolor": "#2a3f5f",
             "gridcolor": "white",
             "linecolor": "white",
             "minorgridcolor": "white",
             "startlinecolor": "#2a3f5f"
            },
            "baxis": {
             "endlinecolor": "#2a3f5f",
             "gridcolor": "white",
             "linecolor": "white",
             "minorgridcolor": "white",
             "startlinecolor": "#2a3f5f"
            },
            "type": "carpet"
           }
          ],
          "choropleth": [
           {
            "colorbar": {
             "outlinewidth": 0,
             "ticks": ""
            },
            "type": "choropleth"
           }
          ],
          "contour": [
           {
            "colorbar": {
             "outlinewidth": 0,
             "ticks": ""
            },
            "colorscale": [
             [
              0,
              "#0d0887"
             ],
             [
              0.1111111111111111,
              "#46039f"
             ],
             [
              0.2222222222222222,
              "#7201a8"
             ],
             [
              0.3333333333333333,
              "#9c179e"
             ],
             [
              0.4444444444444444,
              "#bd3786"
             ],
             [
              0.5555555555555556,
              "#d8576b"
             ],
             [
              0.6666666666666666,
              "#ed7953"
             ],
             [
              0.7777777777777778,
              "#fb9f3a"
             ],
             [
              0.8888888888888888,
              "#fdca26"
             ],
             [
              1,
              "#f0f921"
             ]
            ],
            "type": "contour"
           }
          ],
          "contourcarpet": [
           {
            "colorbar": {
             "outlinewidth": 0,
             "ticks": ""
            },
            "type": "contourcarpet"
           }
          ],
          "heatmap": [
           {
            "colorbar": {
             "outlinewidth": 0,
             "ticks": ""
            },
            "colorscale": [
             [
              0,
              "#0d0887"
             ],
             [
              0.1111111111111111,
              "#46039f"
             ],
             [
              0.2222222222222222,
              "#7201a8"
             ],
             [
              0.3333333333333333,
              "#9c179e"
             ],
             [
              0.4444444444444444,
              "#bd3786"
             ],
             [
              0.5555555555555556,
              "#d8576b"
             ],
             [
              0.6666666666666666,
              "#ed7953"
             ],
             [
              0.7777777777777778,
              "#fb9f3a"
             ],
             [
              0.8888888888888888,
              "#fdca26"
             ],
             [
              1,
              "#f0f921"
             ]
            ],
            "type": "heatmap"
           }
          ],
          "heatmapgl": [
           {
            "colorbar": {
             "outlinewidth": 0,
             "ticks": ""
            },
            "colorscale": [
             [
              0,
              "#0d0887"
             ],
             [
              0.1111111111111111,
              "#46039f"
             ],
             [
              0.2222222222222222,
              "#7201a8"
             ],
             [
              0.3333333333333333,
              "#9c179e"
             ],
             [
              0.4444444444444444,
              "#bd3786"
             ],
             [
              0.5555555555555556,
              "#d8576b"
             ],
             [
              0.6666666666666666,
              "#ed7953"
             ],
             [
              0.7777777777777778,
              "#fb9f3a"
             ],
             [
              0.8888888888888888,
              "#fdca26"
             ],
             [
              1,
              "#f0f921"
             ]
            ],
            "type": "heatmapgl"
           }
          ],
          "histogram": [
           {
            "marker": {
             "pattern": {
              "fillmode": "overlay",
              "size": 10,
              "solidity": 0.2
             }
            },
            "type": "histogram"
           }
          ],
          "histogram2d": [
           {
            "colorbar": {
             "outlinewidth": 0,
             "ticks": ""
            },
            "colorscale": [
             [
              0,
              "#0d0887"
             ],
             [
              0.1111111111111111,
              "#46039f"
             ],
             [
              0.2222222222222222,
              "#7201a8"
             ],
             [
              0.3333333333333333,
              "#9c179e"
             ],
             [
              0.4444444444444444,
              "#bd3786"
             ],
             [
              0.5555555555555556,
              "#d8576b"
             ],
             [
              0.6666666666666666,
              "#ed7953"
             ],
             [
              0.7777777777777778,
              "#fb9f3a"
             ],
             [
              0.8888888888888888,
              "#fdca26"
             ],
             [
              1,
              "#f0f921"
             ]
            ],
            "type": "histogram2d"
           }
          ],
          "histogram2dcontour": [
           {
            "colorbar": {
             "outlinewidth": 0,
             "ticks": ""
            },
            "colorscale": [
             [
              0,
              "#0d0887"
             ],
             [
              0.1111111111111111,
              "#46039f"
             ],
             [
              0.2222222222222222,
              "#7201a8"
             ],
             [
              0.3333333333333333,
              "#9c179e"
             ],
             [
              0.4444444444444444,
              "#bd3786"
             ],
             [
              0.5555555555555556,
              "#d8576b"
             ],
             [
              0.6666666666666666,
              "#ed7953"
             ],
             [
              0.7777777777777778,
              "#fb9f3a"
             ],
             [
              0.8888888888888888,
              "#fdca26"
             ],
             [
              1,
              "#f0f921"
             ]
            ],
            "type": "histogram2dcontour"
           }
          ],
          "mesh3d": [
           {
            "colorbar": {
             "outlinewidth": 0,
             "ticks": ""
            },
            "type": "mesh3d"
           }
          ],
          "parcoords": [
           {
            "line": {
             "colorbar": {
              "outlinewidth": 0,
              "ticks": ""
             }
            },
            "type": "parcoords"
           }
          ],
          "pie": [
           {
            "automargin": true,
            "type": "pie"
           }
          ],
          "scatter": [
           {
            "marker": {
             "colorbar": {
              "outlinewidth": 0,
              "ticks": ""
             }
            },
            "type": "scatter"
           }
          ],
          "scatter3d": [
           {
            "line": {
             "colorbar": {
              "outlinewidth": 0,
              "ticks": ""
             }
            },
            "marker": {
             "colorbar": {
              "outlinewidth": 0,
              "ticks": ""
             }
            },
            "type": "scatter3d"
           }
          ],
          "scattercarpet": [
           {
            "marker": {
             "colorbar": {
              "outlinewidth": 0,
              "ticks": ""
             }
            },
            "type": "scattercarpet"
           }
          ],
          "scattergeo": [
           {
            "marker": {
             "colorbar": {
              "outlinewidth": 0,
              "ticks": ""
             }
            },
            "type": "scattergeo"
           }
          ],
          "scattergl": [
           {
            "marker": {
             "colorbar": {
              "outlinewidth": 0,
              "ticks": ""
             }
            },
            "type": "scattergl"
           }
          ],
          "scattermapbox": [
           {
            "marker": {
             "colorbar": {
              "outlinewidth": 0,
              "ticks": ""
             }
            },
            "type": "scattermapbox"
           }
          ],
          "scatterpolar": [
           {
            "marker": {
             "colorbar": {
              "outlinewidth": 0,
              "ticks": ""
             }
            },
            "type": "scatterpolar"
           }
          ],
          "scatterpolargl": [
           {
            "marker": {
             "colorbar": {
              "outlinewidth": 0,
              "ticks": ""
             }
            },
            "type": "scatterpolargl"
           }
          ],
          "scatterternary": [
           {
            "marker": {
             "colorbar": {
              "outlinewidth": 0,
              "ticks": ""
             }
            },
            "type": "scatterternary"
           }
          ],
          "surface": [
           {
            "colorbar": {
             "outlinewidth": 0,
             "ticks": ""
            },
            "colorscale": [
             [
              0,
              "#0d0887"
             ],
             [
              0.1111111111111111,
              "#46039f"
             ],
             [
              0.2222222222222222,
              "#7201a8"
             ],
             [
              0.3333333333333333,
              "#9c179e"
             ],
             [
              0.4444444444444444,
              "#bd3786"
             ],
             [
              0.5555555555555556,
              "#d8576b"
             ],
             [
              0.6666666666666666,
              "#ed7953"
             ],
             [
              0.7777777777777778,
              "#fb9f3a"
             ],
             [
              0.8888888888888888,
              "#fdca26"
             ],
             [
              1,
              "#f0f921"
             ]
            ],
            "type": "surface"
           }
          ],
          "table": [
           {
            "cells": {
             "fill": {
              "color": "#EBF0F8"
             },
             "line": {
              "color": "white"
             }
            },
            "header": {
             "fill": {
              "color": "#C8D4E3"
             },
             "line": {
              "color": "white"
             }
            },
            "type": "table"
           }
          ]
         },
         "layout": {
          "annotationdefaults": {
           "arrowcolor": "#2a3f5f",
           "arrowhead": 0,
           "arrowwidth": 1
          },
          "autotypenumbers": "strict",
          "coloraxis": {
           "colorbar": {
            "outlinewidth": 0,
            "ticks": ""
           }
          },
          "colorscale": {
           "diverging": [
            [
             0,
             "#8e0152"
            ],
            [
             0.1,
             "#c51b7d"
            ],
            [
             0.2,
             "#de77ae"
            ],
            [
             0.3,
             "#f1b6da"
            ],
            [
             0.4,
             "#fde0ef"
            ],
            [
             0.5,
             "#f7f7f7"
            ],
            [
             0.6,
             "#e6f5d0"
            ],
            [
             0.7,
             "#b8e186"
            ],
            [
             0.8,
             "#7fbc41"
            ],
            [
             0.9,
             "#4d9221"
            ],
            [
             1,
             "#276419"
            ]
           ],
           "sequential": [
            [
             0,
             "#0d0887"
            ],
            [
             0.1111111111111111,
             "#46039f"
            ],
            [
             0.2222222222222222,
             "#7201a8"
            ],
            [
             0.3333333333333333,
             "#9c179e"
            ],
            [
             0.4444444444444444,
             "#bd3786"
            ],
            [
             0.5555555555555556,
             "#d8576b"
            ],
            [
             0.6666666666666666,
             "#ed7953"
            ],
            [
             0.7777777777777778,
             "#fb9f3a"
            ],
            [
             0.8888888888888888,
             "#fdca26"
            ],
            [
             1,
             "#f0f921"
            ]
           ],
           "sequentialminus": [
            [
             0,
             "#0d0887"
            ],
            [
             0.1111111111111111,
             "#46039f"
            ],
            [
             0.2222222222222222,
             "#7201a8"
            ],
            [
             0.3333333333333333,
             "#9c179e"
            ],
            [
             0.4444444444444444,
             "#bd3786"
            ],
            [
             0.5555555555555556,
             "#d8576b"
            ],
            [
             0.6666666666666666,
             "#ed7953"
            ],
            [
             0.7777777777777778,
             "#fb9f3a"
            ],
            [
             0.8888888888888888,
             "#fdca26"
            ],
            [
             1,
             "#f0f921"
            ]
           ]
          },
          "colorway": [
           "#636efa",
           "#EF553B",
           "#00cc96",
           "#ab63fa",
           "#FFA15A",
           "#19d3f3",
           "#FF6692",
           "#B6E880",
           "#FF97FF",
           "#FECB52"
          ],
          "font": {
           "color": "#2a3f5f"
          },
          "geo": {
           "bgcolor": "white",
           "lakecolor": "white",
           "landcolor": "#E5ECF6",
           "showlakes": true,
           "showland": true,
           "subunitcolor": "white"
          },
          "hoverlabel": {
           "align": "left"
          },
          "hovermode": "closest",
          "mapbox": {
           "style": "light"
          },
          "paper_bgcolor": "white",
          "plot_bgcolor": "#E5ECF6",
          "polar": {
           "angularaxis": {
            "gridcolor": "white",
            "linecolor": "white",
            "ticks": ""
           },
           "bgcolor": "#E5ECF6",
           "radialaxis": {
            "gridcolor": "white",
            "linecolor": "white",
            "ticks": ""
           }
          },
          "scene": {
           "xaxis": {
            "backgroundcolor": "#E5ECF6",
            "gridcolor": "white",
            "gridwidth": 2,
            "linecolor": "white",
            "showbackground": true,
            "ticks": "",
            "zerolinecolor": "white"
           },
           "yaxis": {
            "backgroundcolor": "#E5ECF6",
            "gridcolor": "white",
            "gridwidth": 2,
            "linecolor": "white",
            "showbackground": true,
            "ticks": "",
            "zerolinecolor": "white"
           },
           "zaxis": {
            "backgroundcolor": "#E5ECF6",
            "gridcolor": "white",
            "gridwidth": 2,
            "linecolor": "white",
            "showbackground": true,
            "ticks": "",
            "zerolinecolor": "white"
           }
          },
          "shapedefaults": {
           "line": {
            "color": "#2a3f5f"
           }
          },
          "ternary": {
           "aaxis": {
            "gridcolor": "white",
            "linecolor": "white",
            "ticks": ""
           },
           "baxis": {
            "gridcolor": "white",
            "linecolor": "white",
            "ticks": ""
           },
           "bgcolor": "#E5ECF6",
           "caxis": {
            "gridcolor": "white",
            "linecolor": "white",
            "ticks": ""
           }
          },
          "title": {
           "x": 0.05
          },
          "xaxis": {
           "automargin": true,
           "gridcolor": "white",
           "linecolor": "white",
           "ticks": "",
           "title": {
            "standoff": 15
           },
           "zerolinecolor": "white",
           "zerolinewidth": 2
          },
          "yaxis": {
           "automargin": true,
           "gridcolor": "white",
           "linecolor": "white",
           "ticks": "",
           "title": {
            "standoff": 15
           },
           "zerolinecolor": "white",
           "zerolinewidth": 2
          }
         }
        },
        "xaxis": {
         "anchor": "y",
         "domain": [
          0,
          1
         ],
         "title": {
          "text": "DATESTAMP_MOD_DAY"
         }
        },
        "yaxis": {
         "anchor": "x",
         "domain": [
          0,
          1
         ],
         "title": {
          "text": "D_New"
         }
        }
       }
      }
     },
     "metadata": {},
     "output_type": "display_data"
    }
   ],
   "source": [
    "plotly6 = px.bar(dailySpecific, x='DATESTAMP_MOD_DAY', y='D_New', color='COUNTY', barmode = 'group')\n",
    "plotly6.show()"
   ]
  },
  {
   "cell_type": "code",
   "execution_count": 63,
   "metadata": {},
   "outputs": [
    {
     "name": "stderr",
     "output_type": "stream",
     "text": [
      "/var/folders/ks/mfgmysmj4ls9xl90wxss5s7r0000gn/T/ipykernel_5341/1256246860.py:1: SettingWithCopyWarning:\n",
      "\n",
      "\n",
      "A value is trying to be set on a copy of a slice from a DataFrame.\n",
      "Try using .loc[row_indexer,col_indexer] = value instead\n",
      "\n",
      "See the caveats in the documentation: https://pandas.pydata.org/pandas-docs/stable/user_guide/indexing.html#returning-a-view-versus-a-copy\n",
      "\n"
     ]
    },
    {
     "data": {
      "text/plain": [
       "7489      52\n",
       "7490      63\n",
       "7491      90\n",
       "7492     103\n",
       "7493      83\n",
       "        ... \n",
       "79995     56\n",
       "79996     36\n",
       "79997     16\n",
       "79998     40\n",
       "79999     24\n",
       "Name: newHospandDeathCovid, Length: 70, dtype: int64"
      ]
     },
     "execution_count": 63,
     "metadata": {},
     "output_type": "execute_result"
    }
   ],
   "source": [
    "dailySpecific['newHospandDeathCovid'] = dailySpecific['D_New'].astype(int) + dailySpecific['H_New'].astype(int) + dailySpecific['C_New'].astype(int)\n",
    "dailySpecific['newHospandDeathCovid']"
   ]
  },
  {
   "cell_type": "code",
   "execution_count": 64,
   "metadata": {},
   "outputs": [
    {
     "data": {
      "text/html": [
       "<div>\n",
       "<style scoped>\n",
       "    .dataframe tbody tr th:only-of-type {\n",
       "        vertical-align: middle;\n",
       "    }\n",
       "\n",
       "    .dataframe tbody tr th {\n",
       "        vertical-align: top;\n",
       "    }\n",
       "\n",
       "    .dataframe thead th {\n",
       "        text-align: right;\n",
       "    }\n",
       "</style>\n",
       "<table border=\"1\" class=\"dataframe\">\n",
       "  <thead>\n",
       "    <tr style=\"text-align: right;\">\n",
       "      <th></th>\n",
       "      <th>COUNTY</th>\n",
       "      <th>DATESTAMP_MOD</th>\n",
       "      <th>DATESTAMP_MOD_DAY</th>\n",
       "      <th>DATESTAMP_MOD_DAY_STRING</th>\n",
       "      <th>DATETIME_STRING</th>\n",
       "      <th>DATESTAMP_MOD_MONTH_YEAR</th>\n",
       "      <th>C_New</th>\n",
       "      <th>H_Cum</th>\n",
       "      <th>C_Cum</th>\n",
       "      <th>D_New</th>\n",
       "      <th>H_New</th>\n",
       "      <th>newHospandDeathCovid</th>\n",
       "    </tr>\n",
       "  </thead>\n",
       "  <tbody>\n",
       "    <tr>\n",
       "      <th>7489</th>\n",
       "      <td>FULTON</td>\n",
       "      <td>2020-04-26 03:59:59+00:00</td>\n",
       "      <td>2020-04-26</td>\n",
       "      <td>2020-04-26 03:59:59+00:00</td>\n",
       "      <td>2020-04</td>\n",
       "      <td>2020-04</td>\n",
       "      <td>36</td>\n",
       "      <td>752</td>\n",
       "      <td>2910</td>\n",
       "      <td>6</td>\n",
       "      <td>10</td>\n",
       "      <td>52</td>\n",
       "    </tr>\n",
       "    <tr>\n",
       "      <th>7490</th>\n",
       "      <td>FULTON</td>\n",
       "      <td>2020-04-27 03:59:59+00:00</td>\n",
       "      <td>2020-04-27</td>\n",
       "      <td>2020-04-27 03:59:59+00:00</td>\n",
       "      <td>2020-04</td>\n",
       "      <td>2020-04</td>\n",
       "      <td>51</td>\n",
       "      <td>760</td>\n",
       "      <td>2961</td>\n",
       "      <td>4</td>\n",
       "      <td>8</td>\n",
       "      <td>63</td>\n",
       "    </tr>\n",
       "    <tr>\n",
       "      <th>7491</th>\n",
       "      <td>FULTON</td>\n",
       "      <td>2020-04-28 03:59:59+00:00</td>\n",
       "      <td>2020-04-28</td>\n",
       "      <td>2020-04-28 03:59:59+00:00</td>\n",
       "      <td>2020-04</td>\n",
       "      <td>2020-04</td>\n",
       "      <td>77</td>\n",
       "      <td>770</td>\n",
       "      <td>3038</td>\n",
       "      <td>3</td>\n",
       "      <td>10</td>\n",
       "      <td>90</td>\n",
       "    </tr>\n",
       "    <tr>\n",
       "      <th>7492</th>\n",
       "      <td>FULTON</td>\n",
       "      <td>2020-04-29 03:59:59+00:00</td>\n",
       "      <td>2020-04-29</td>\n",
       "      <td>2020-04-29 03:59:59+00:00</td>\n",
       "      <td>2020-04</td>\n",
       "      <td>2020-04</td>\n",
       "      <td>78</td>\n",
       "      <td>787</td>\n",
       "      <td>3116</td>\n",
       "      <td>8</td>\n",
       "      <td>17</td>\n",
       "      <td>103</td>\n",
       "    </tr>\n",
       "    <tr>\n",
       "      <th>7493</th>\n",
       "      <td>FULTON</td>\n",
       "      <td>2020-04-30 03:59:59+00:00</td>\n",
       "      <td>2020-04-30</td>\n",
       "      <td>2020-04-30 03:59:59+00:00</td>\n",
       "      <td>2020-04</td>\n",
       "      <td>2020-04</td>\n",
       "      <td>73</td>\n",
       "      <td>792</td>\n",
       "      <td>3189</td>\n",
       "      <td>5</td>\n",
       "      <td>5</td>\n",
       "      <td>83</td>\n",
       "    </tr>\n",
       "    <tr>\n",
       "      <th>...</th>\n",
       "      <td>...</td>\n",
       "      <td>...</td>\n",
       "      <td>...</td>\n",
       "      <td>...</td>\n",
       "      <td>...</td>\n",
       "      <td>...</td>\n",
       "      <td>...</td>\n",
       "      <td>...</td>\n",
       "      <td>...</td>\n",
       "      <td>...</td>\n",
       "      <td>...</td>\n",
       "      <td>...</td>\n",
       "    </tr>\n",
       "    <tr>\n",
       "      <th>79995</th>\n",
       "      <td>HALL</td>\n",
       "      <td>2020-05-01 03:59:59+00:00</td>\n",
       "      <td>2020-05-01</td>\n",
       "      <td>2020-05-01 03:59:59+00:00</td>\n",
       "      <td>2020-05</td>\n",
       "      <td>2020-05</td>\n",
       "      <td>47</td>\n",
       "      <td>305</td>\n",
       "      <td>2069</td>\n",
       "      <td>1</td>\n",
       "      <td>8</td>\n",
       "      <td>56</td>\n",
       "    </tr>\n",
       "    <tr>\n",
       "      <th>79996</th>\n",
       "      <td>HALL</td>\n",
       "      <td>2020-05-02 03:59:59+00:00</td>\n",
       "      <td>2020-05-02</td>\n",
       "      <td>2020-05-02 03:59:59+00:00</td>\n",
       "      <td>2020-05</td>\n",
       "      <td>2020-05</td>\n",
       "      <td>26</td>\n",
       "      <td>312</td>\n",
       "      <td>2095</td>\n",
       "      <td>3</td>\n",
       "      <td>7</td>\n",
       "      <td>36</td>\n",
       "    </tr>\n",
       "    <tr>\n",
       "      <th>79997</th>\n",
       "      <td>HALL</td>\n",
       "      <td>2020-05-03 03:59:59+00:00</td>\n",
       "      <td>2020-05-03</td>\n",
       "      <td>2020-05-03 03:59:59+00:00</td>\n",
       "      <td>2020-05</td>\n",
       "      <td>2020-05</td>\n",
       "      <td>12</td>\n",
       "      <td>316</td>\n",
       "      <td>2107</td>\n",
       "      <td>0</td>\n",
       "      <td>4</td>\n",
       "      <td>16</td>\n",
       "    </tr>\n",
       "    <tr>\n",
       "      <th>79998</th>\n",
       "      <td>HALL</td>\n",
       "      <td>2020-05-04 03:59:59+00:00</td>\n",
       "      <td>2020-05-04</td>\n",
       "      <td>2020-05-04 03:59:59+00:00</td>\n",
       "      <td>2020-05</td>\n",
       "      <td>2020-05</td>\n",
       "      <td>35</td>\n",
       "      <td>320</td>\n",
       "      <td>2142</td>\n",
       "      <td>1</td>\n",
       "      <td>4</td>\n",
       "      <td>40</td>\n",
       "    </tr>\n",
       "    <tr>\n",
       "      <th>79999</th>\n",
       "      <td>HALL</td>\n",
       "      <td>2020-05-05 03:59:59+00:00</td>\n",
       "      <td>2020-05-05</td>\n",
       "      <td>2020-05-05 03:59:59+00:00</td>\n",
       "      <td>2020-05</td>\n",
       "      <td>2020-05</td>\n",
       "      <td>21</td>\n",
       "      <td>322</td>\n",
       "      <td>2163</td>\n",
       "      <td>1</td>\n",
       "      <td>2</td>\n",
       "      <td>24</td>\n",
       "    </tr>\n",
       "  </tbody>\n",
       "</table>\n",
       "<p>70 rows × 12 columns</p>\n",
       "</div>"
      ],
      "text/plain": [
       "       COUNTY             DATESTAMP_MOD DATESTAMP_MOD_DAY  \\\n",
       "7489   FULTON 2020-04-26 03:59:59+00:00        2020-04-26   \n",
       "7490   FULTON 2020-04-27 03:59:59+00:00        2020-04-27   \n",
       "7491   FULTON 2020-04-28 03:59:59+00:00        2020-04-28   \n",
       "7492   FULTON 2020-04-29 03:59:59+00:00        2020-04-29   \n",
       "7493   FULTON 2020-04-30 03:59:59+00:00        2020-04-30   \n",
       "...       ...                       ...               ...   \n",
       "79995    HALL 2020-05-01 03:59:59+00:00        2020-05-01   \n",
       "79996    HALL 2020-05-02 03:59:59+00:00        2020-05-02   \n",
       "79997    HALL 2020-05-03 03:59:59+00:00        2020-05-03   \n",
       "79998    HALL 2020-05-04 03:59:59+00:00        2020-05-04   \n",
       "79999    HALL 2020-05-05 03:59:59+00:00        2020-05-05   \n",
       "\n",
       "        DATESTAMP_MOD_DAY_STRING DATETIME_STRING DATESTAMP_MOD_MONTH_YEAR  \\\n",
       "7489   2020-04-26 03:59:59+00:00         2020-04                  2020-04   \n",
       "7490   2020-04-27 03:59:59+00:00         2020-04                  2020-04   \n",
       "7491   2020-04-28 03:59:59+00:00         2020-04                  2020-04   \n",
       "7492   2020-04-29 03:59:59+00:00         2020-04                  2020-04   \n",
       "7493   2020-04-30 03:59:59+00:00         2020-04                  2020-04   \n",
       "...                          ...             ...                      ...   \n",
       "79995  2020-05-01 03:59:59+00:00         2020-05                  2020-05   \n",
       "79996  2020-05-02 03:59:59+00:00         2020-05                  2020-05   \n",
       "79997  2020-05-03 03:59:59+00:00         2020-05                  2020-05   \n",
       "79998  2020-05-04 03:59:59+00:00         2020-05                  2020-05   \n",
       "79999  2020-05-05 03:59:59+00:00         2020-05                  2020-05   \n",
       "\n",
       "       C_New  H_Cum  C_Cum  D_New  H_New  newHospandDeathCovid  \n",
       "7489      36    752   2910      6     10                    52  \n",
       "7490      51    760   2961      4      8                    63  \n",
       "7491      77    770   3038      3     10                    90  \n",
       "7492      78    787   3116      8     17                   103  \n",
       "7493      73    792   3189      5      5                    83  \n",
       "...      ...    ...    ...    ...    ...                   ...  \n",
       "79995     47    305   2069      1      8                    56  \n",
       "79996     26    312   2095      3      7                    36  \n",
       "79997     12    316   2107      0      4                    16  \n",
       "79998     35    320   2142      1      4                    40  \n",
       "79999     21    322   2163      1      2                    24  \n",
       "\n",
       "[70 rows x 12 columns]"
      ]
     },
     "execution_count": 64,
     "metadata": {},
     "output_type": "execute_result"
    }
   ],
   "source": [
    "dailySpecific"
   ]
  },
  {
   "cell_type": "code",
   "execution_count": 68,
   "metadata": {},
   "outputs": [
    {
     "data": {
      "application/vnd.plotly.v1+json": {
       "config": {
        "plotlyServerURL": "https://plot.ly"
       },
       "data": [
        {
         "alignmentgroup": "True",
         "hovertemplate": "COUNTY=FULTON<br>Time (Month, Day, Year)=%{x}<br>Total Count=%{y}<extra></extra>",
         "legendgroup": "FULTON",
         "marker": {
          "color": "#636efa",
          "pattern": {
           "shape": ""
          }
         },
         "name": "FULTON",
         "offsetgroup": "FULTON",
         "orientation": "v",
         "showlegend": true,
         "textposition": "auto",
         "type": "bar",
         "x": [
          "2020-04-26",
          "2020-04-27",
          "2020-04-28",
          "2020-04-29",
          "2020-04-30",
          "2020-05-01",
          "2020-05-02",
          "2020-05-03",
          "2020-05-04",
          "2020-05-05",
          "2020-05-06",
          "2020-05-07",
          "2020-05-08",
          "2020-05-09"
         ],
         "xaxis": "x",
         "y": [
          52,
          63,
          90,
          103,
          83,
          73,
          36,
          47,
          57,
          66,
          70,
          77,
          65,
          25
         ],
         "yaxis": "y"
        },
        {
         "alignmentgroup": "True",
         "hovertemplate": "COUNTY=COBB<br>Time (Month, Day, Year)=%{x}<br>Total Count=%{y}<extra></extra>",
         "legendgroup": "COBB",
         "marker": {
          "color": "#EF553B",
          "pattern": {
           "shape": ""
          }
         },
         "name": "COBB",
         "offsetgroup": "COBB",
         "orientation": "v",
         "showlegend": true,
         "textposition": "auto",
         "type": "bar",
         "x": [
          "2020-04-26",
          "2020-04-27",
          "2020-04-28",
          "2020-04-29",
          "2020-04-30",
          "2020-05-01",
          "2020-05-02",
          "2020-05-03",
          "2020-05-04",
          "2020-05-05",
          "2020-05-06",
          "2020-05-07",
          "2020-05-08",
          "2020-05-09"
         ],
         "xaxis": "x",
         "y": [
          48,
          107,
          64,
          56,
          87,
          87,
          34,
          23,
          50,
          62,
          35,
          38,
          81,
          32
         ],
         "yaxis": "y"
        },
        {
         "alignmentgroup": "True",
         "hovertemplate": "COUNTY=GWINNETT<br>Time (Month, Day, Year)=%{x}<br>Total Count=%{y}<extra></extra>",
         "legendgroup": "GWINNETT",
         "marker": {
          "color": "#00cc96",
          "pattern": {
           "shape": ""
          }
         },
         "name": "GWINNETT",
         "offsetgroup": "GWINNETT",
         "orientation": "v",
         "showlegend": true,
         "textposition": "auto",
         "type": "bar",
         "x": [
          "2020-04-26",
          "2020-04-27",
          "2020-04-28",
          "2020-04-29",
          "2020-04-30",
          "2020-05-01",
          "2020-05-02",
          "2020-05-03",
          "2020-05-04",
          "2020-05-05",
          "2020-05-06",
          "2020-05-07",
          "2020-05-08",
          "2020-05-09"
         ],
         "xaxis": "x",
         "y": [
          51,
          101,
          110,
          71,
          81,
          84,
          56,
          34,
          87,
          82,
          78,
          54,
          82,
          42
         ],
         "yaxis": "y"
        },
        {
         "alignmentgroup": "True",
         "hovertemplate": "COUNTY=DEKALB<br>Time (Month, Day, Year)=%{x}<br>Total Count=%{y}<extra></extra>",
         "legendgroup": "DEKALB",
         "marker": {
          "color": "#ab63fa",
          "pattern": {
           "shape": ""
          }
         },
         "name": "DEKALB",
         "offsetgroup": "DEKALB",
         "orientation": "v",
         "showlegend": true,
         "textposition": "auto",
         "type": "bar",
         "x": [
          "2020-04-26",
          "2020-04-27",
          "2020-04-28",
          "2020-04-29",
          "2020-04-30",
          "2020-05-01",
          "2020-05-02",
          "2020-05-03",
          "2020-05-04",
          "2020-05-05",
          "2020-05-06",
          "2020-05-07",
          "2020-05-08",
          "2020-05-09"
         ],
         "xaxis": "x",
         "y": [
          33,
          88,
          87,
          97,
          76,
          63,
          59,
          16,
          83,
          79,
          70,
          62,
          73,
          59
         ],
         "yaxis": "y"
        },
        {
         "alignmentgroup": "True",
         "hovertemplate": "COUNTY=HALL<br>Time (Month, Day, Year)=%{x}<br>Total Count=%{y}<extra></extra>",
         "legendgroup": "HALL",
         "marker": {
          "color": "#FFA15A",
          "pattern": {
           "shape": ""
          }
         },
         "name": "HALL",
         "offsetgroup": "HALL",
         "orientation": "v",
         "showlegend": true,
         "textposition": "auto",
         "type": "bar",
         "x": [
          "2020-05-06",
          "2020-05-07",
          "2020-05-08",
          "2020-05-09",
          "2020-04-26",
          "2020-04-27",
          "2020-04-28",
          "2020-04-29",
          "2020-04-30",
          "2020-05-01",
          "2020-05-02",
          "2020-05-03",
          "2020-05-04",
          "2020-05-05"
         ],
         "xaxis": "x",
         "y": [
          33,
          18,
          24,
          24,
          40,
          69,
          205,
          37,
          36,
          56,
          36,
          16,
          40,
          24
         ],
         "yaxis": "y"
        }
       ],
       "layout": {
        "barmode": "group",
        "legend": {
         "title": {
          "text": "COUNTY"
         },
         "tracegroupgap": 0
        },
        "template": {
         "data": {
          "bar": [
           {
            "error_x": {
             "color": "#2a3f5f"
            },
            "error_y": {
             "color": "#2a3f5f"
            },
            "marker": {
             "line": {
              "color": "#E5ECF6",
              "width": 0.5
             },
             "pattern": {
              "fillmode": "overlay",
              "size": 10,
              "solidity": 0.2
             }
            },
            "type": "bar"
           }
          ],
          "barpolar": [
           {
            "marker": {
             "line": {
              "color": "#E5ECF6",
              "width": 0.5
             },
             "pattern": {
              "fillmode": "overlay",
              "size": 10,
              "solidity": 0.2
             }
            },
            "type": "barpolar"
           }
          ],
          "carpet": [
           {
            "aaxis": {
             "endlinecolor": "#2a3f5f",
             "gridcolor": "white",
             "linecolor": "white",
             "minorgridcolor": "white",
             "startlinecolor": "#2a3f5f"
            },
            "baxis": {
             "endlinecolor": "#2a3f5f",
             "gridcolor": "white",
             "linecolor": "white",
             "minorgridcolor": "white",
             "startlinecolor": "#2a3f5f"
            },
            "type": "carpet"
           }
          ],
          "choropleth": [
           {
            "colorbar": {
             "outlinewidth": 0,
             "ticks": ""
            },
            "type": "choropleth"
           }
          ],
          "contour": [
           {
            "colorbar": {
             "outlinewidth": 0,
             "ticks": ""
            },
            "colorscale": [
             [
              0,
              "#0d0887"
             ],
             [
              0.1111111111111111,
              "#46039f"
             ],
             [
              0.2222222222222222,
              "#7201a8"
             ],
             [
              0.3333333333333333,
              "#9c179e"
             ],
             [
              0.4444444444444444,
              "#bd3786"
             ],
             [
              0.5555555555555556,
              "#d8576b"
             ],
             [
              0.6666666666666666,
              "#ed7953"
             ],
             [
              0.7777777777777778,
              "#fb9f3a"
             ],
             [
              0.8888888888888888,
              "#fdca26"
             ],
             [
              1,
              "#f0f921"
             ]
            ],
            "type": "contour"
           }
          ],
          "contourcarpet": [
           {
            "colorbar": {
             "outlinewidth": 0,
             "ticks": ""
            },
            "type": "contourcarpet"
           }
          ],
          "heatmap": [
           {
            "colorbar": {
             "outlinewidth": 0,
             "ticks": ""
            },
            "colorscale": [
             [
              0,
              "#0d0887"
             ],
             [
              0.1111111111111111,
              "#46039f"
             ],
             [
              0.2222222222222222,
              "#7201a8"
             ],
             [
              0.3333333333333333,
              "#9c179e"
             ],
             [
              0.4444444444444444,
              "#bd3786"
             ],
             [
              0.5555555555555556,
              "#d8576b"
             ],
             [
              0.6666666666666666,
              "#ed7953"
             ],
             [
              0.7777777777777778,
              "#fb9f3a"
             ],
             [
              0.8888888888888888,
              "#fdca26"
             ],
             [
              1,
              "#f0f921"
             ]
            ],
            "type": "heatmap"
           }
          ],
          "heatmapgl": [
           {
            "colorbar": {
             "outlinewidth": 0,
             "ticks": ""
            },
            "colorscale": [
             [
              0,
              "#0d0887"
             ],
             [
              0.1111111111111111,
              "#46039f"
             ],
             [
              0.2222222222222222,
              "#7201a8"
             ],
             [
              0.3333333333333333,
              "#9c179e"
             ],
             [
              0.4444444444444444,
              "#bd3786"
             ],
             [
              0.5555555555555556,
              "#d8576b"
             ],
             [
              0.6666666666666666,
              "#ed7953"
             ],
             [
              0.7777777777777778,
              "#fb9f3a"
             ],
             [
              0.8888888888888888,
              "#fdca26"
             ],
             [
              1,
              "#f0f921"
             ]
            ],
            "type": "heatmapgl"
           }
          ],
          "histogram": [
           {
            "marker": {
             "pattern": {
              "fillmode": "overlay",
              "size": 10,
              "solidity": 0.2
             }
            },
            "type": "histogram"
           }
          ],
          "histogram2d": [
           {
            "colorbar": {
             "outlinewidth": 0,
             "ticks": ""
            },
            "colorscale": [
             [
              0,
              "#0d0887"
             ],
             [
              0.1111111111111111,
              "#46039f"
             ],
             [
              0.2222222222222222,
              "#7201a8"
             ],
             [
              0.3333333333333333,
              "#9c179e"
             ],
             [
              0.4444444444444444,
              "#bd3786"
             ],
             [
              0.5555555555555556,
              "#d8576b"
             ],
             [
              0.6666666666666666,
              "#ed7953"
             ],
             [
              0.7777777777777778,
              "#fb9f3a"
             ],
             [
              0.8888888888888888,
              "#fdca26"
             ],
             [
              1,
              "#f0f921"
             ]
            ],
            "type": "histogram2d"
           }
          ],
          "histogram2dcontour": [
           {
            "colorbar": {
             "outlinewidth": 0,
             "ticks": ""
            },
            "colorscale": [
             [
              0,
              "#0d0887"
             ],
             [
              0.1111111111111111,
              "#46039f"
             ],
             [
              0.2222222222222222,
              "#7201a8"
             ],
             [
              0.3333333333333333,
              "#9c179e"
             ],
             [
              0.4444444444444444,
              "#bd3786"
             ],
             [
              0.5555555555555556,
              "#d8576b"
             ],
             [
              0.6666666666666666,
              "#ed7953"
             ],
             [
              0.7777777777777778,
              "#fb9f3a"
             ],
             [
              0.8888888888888888,
              "#fdca26"
             ],
             [
              1,
              "#f0f921"
             ]
            ],
            "type": "histogram2dcontour"
           }
          ],
          "mesh3d": [
           {
            "colorbar": {
             "outlinewidth": 0,
             "ticks": ""
            },
            "type": "mesh3d"
           }
          ],
          "parcoords": [
           {
            "line": {
             "colorbar": {
              "outlinewidth": 0,
              "ticks": ""
             }
            },
            "type": "parcoords"
           }
          ],
          "pie": [
           {
            "automargin": true,
            "type": "pie"
           }
          ],
          "scatter": [
           {
            "marker": {
             "colorbar": {
              "outlinewidth": 0,
              "ticks": ""
             }
            },
            "type": "scatter"
           }
          ],
          "scatter3d": [
           {
            "line": {
             "colorbar": {
              "outlinewidth": 0,
              "ticks": ""
             }
            },
            "marker": {
             "colorbar": {
              "outlinewidth": 0,
              "ticks": ""
             }
            },
            "type": "scatter3d"
           }
          ],
          "scattercarpet": [
           {
            "marker": {
             "colorbar": {
              "outlinewidth": 0,
              "ticks": ""
             }
            },
            "type": "scattercarpet"
           }
          ],
          "scattergeo": [
           {
            "marker": {
             "colorbar": {
              "outlinewidth": 0,
              "ticks": ""
             }
            },
            "type": "scattergeo"
           }
          ],
          "scattergl": [
           {
            "marker": {
             "colorbar": {
              "outlinewidth": 0,
              "ticks": ""
             }
            },
            "type": "scattergl"
           }
          ],
          "scattermapbox": [
           {
            "marker": {
             "colorbar": {
              "outlinewidth": 0,
              "ticks": ""
             }
            },
            "type": "scattermapbox"
           }
          ],
          "scatterpolar": [
           {
            "marker": {
             "colorbar": {
              "outlinewidth": 0,
              "ticks": ""
             }
            },
            "type": "scatterpolar"
           }
          ],
          "scatterpolargl": [
           {
            "marker": {
             "colorbar": {
              "outlinewidth": 0,
              "ticks": ""
             }
            },
            "type": "scatterpolargl"
           }
          ],
          "scatterternary": [
           {
            "marker": {
             "colorbar": {
              "outlinewidth": 0,
              "ticks": ""
             }
            },
            "type": "scatterternary"
           }
          ],
          "surface": [
           {
            "colorbar": {
             "outlinewidth": 0,
             "ticks": ""
            },
            "colorscale": [
             [
              0,
              "#0d0887"
             ],
             [
              0.1111111111111111,
              "#46039f"
             ],
             [
              0.2222222222222222,
              "#7201a8"
             ],
             [
              0.3333333333333333,
              "#9c179e"
             ],
             [
              0.4444444444444444,
              "#bd3786"
             ],
             [
              0.5555555555555556,
              "#d8576b"
             ],
             [
              0.6666666666666666,
              "#ed7953"
             ],
             [
              0.7777777777777778,
              "#fb9f3a"
             ],
             [
              0.8888888888888888,
              "#fdca26"
             ],
             [
              1,
              "#f0f921"
             ]
            ],
            "type": "surface"
           }
          ],
          "table": [
           {
            "cells": {
             "fill": {
              "color": "#EBF0F8"
             },
             "line": {
              "color": "white"
             }
            },
            "header": {
             "fill": {
              "color": "#C8D4E3"
             },
             "line": {
              "color": "white"
             }
            },
            "type": "table"
           }
          ]
         },
         "layout": {
          "annotationdefaults": {
           "arrowcolor": "#2a3f5f",
           "arrowhead": 0,
           "arrowwidth": 1
          },
          "autotypenumbers": "strict",
          "coloraxis": {
           "colorbar": {
            "outlinewidth": 0,
            "ticks": ""
           }
          },
          "colorscale": {
           "diverging": [
            [
             0,
             "#8e0152"
            ],
            [
             0.1,
             "#c51b7d"
            ],
            [
             0.2,
             "#de77ae"
            ],
            [
             0.3,
             "#f1b6da"
            ],
            [
             0.4,
             "#fde0ef"
            ],
            [
             0.5,
             "#f7f7f7"
            ],
            [
             0.6,
             "#e6f5d0"
            ],
            [
             0.7,
             "#b8e186"
            ],
            [
             0.8,
             "#7fbc41"
            ],
            [
             0.9,
             "#4d9221"
            ],
            [
             1,
             "#276419"
            ]
           ],
           "sequential": [
            [
             0,
             "#0d0887"
            ],
            [
             0.1111111111111111,
             "#46039f"
            ],
            [
             0.2222222222222222,
             "#7201a8"
            ],
            [
             0.3333333333333333,
             "#9c179e"
            ],
            [
             0.4444444444444444,
             "#bd3786"
            ],
            [
             0.5555555555555556,
             "#d8576b"
            ],
            [
             0.6666666666666666,
             "#ed7953"
            ],
            [
             0.7777777777777778,
             "#fb9f3a"
            ],
            [
             0.8888888888888888,
             "#fdca26"
            ],
            [
             1,
             "#f0f921"
            ]
           ],
           "sequentialminus": [
            [
             0,
             "#0d0887"
            ],
            [
             0.1111111111111111,
             "#46039f"
            ],
            [
             0.2222222222222222,
             "#7201a8"
            ],
            [
             0.3333333333333333,
             "#9c179e"
            ],
            [
             0.4444444444444444,
             "#bd3786"
            ],
            [
             0.5555555555555556,
             "#d8576b"
            ],
            [
             0.6666666666666666,
             "#ed7953"
            ],
            [
             0.7777777777777778,
             "#fb9f3a"
            ],
            [
             0.8888888888888888,
             "#fdca26"
            ],
            [
             1,
             "#f0f921"
            ]
           ]
          },
          "colorway": [
           "#636efa",
           "#EF553B",
           "#00cc96",
           "#ab63fa",
           "#FFA15A",
           "#19d3f3",
           "#FF6692",
           "#B6E880",
           "#FF97FF",
           "#FECB52"
          ],
          "font": {
           "color": "#2a3f5f"
          },
          "geo": {
           "bgcolor": "white",
           "lakecolor": "white",
           "landcolor": "#E5ECF6",
           "showlakes": true,
           "showland": true,
           "subunitcolor": "white"
          },
          "hoverlabel": {
           "align": "left"
          },
          "hovermode": "closest",
          "mapbox": {
           "style": "light"
          },
          "paper_bgcolor": "white",
          "plot_bgcolor": "#E5ECF6",
          "polar": {
           "angularaxis": {
            "gridcolor": "white",
            "linecolor": "white",
            "ticks": ""
           },
           "bgcolor": "#E5ECF6",
           "radialaxis": {
            "gridcolor": "white",
            "linecolor": "white",
            "ticks": ""
           }
          },
          "scene": {
           "xaxis": {
            "backgroundcolor": "#E5ECF6",
            "gridcolor": "white",
            "gridwidth": 2,
            "linecolor": "white",
            "showbackground": true,
            "ticks": "",
            "zerolinecolor": "white"
           },
           "yaxis": {
            "backgroundcolor": "#E5ECF6",
            "gridcolor": "white",
            "gridwidth": 2,
            "linecolor": "white",
            "showbackground": true,
            "ticks": "",
            "zerolinecolor": "white"
           },
           "zaxis": {
            "backgroundcolor": "#E5ECF6",
            "gridcolor": "white",
            "gridwidth": 2,
            "linecolor": "white",
            "showbackground": true,
            "ticks": "",
            "zerolinecolor": "white"
           }
          },
          "shapedefaults": {
           "line": {
            "color": "#2a3f5f"
           }
          },
          "ternary": {
           "aaxis": {
            "gridcolor": "white",
            "linecolor": "white",
            "ticks": ""
           },
           "baxis": {
            "gridcolor": "white",
            "linecolor": "white",
            "ticks": ""
           },
           "bgcolor": "#E5ECF6",
           "caxis": {
            "gridcolor": "white",
            "linecolor": "white",
            "ticks": ""
           }
          },
          "title": {
           "x": 0.05
          },
          "xaxis": {
           "automargin": true,
           "gridcolor": "white",
           "linecolor": "white",
           "ticks": "",
           "title": {
            "standoff": 15
           },
           "zerolinecolor": "white",
           "zerolinewidth": 2
          },
          "yaxis": {
           "automargin": true,
           "gridcolor": "white",
           "linecolor": "white",
           "ticks": "",
           "title": {
            "standoff": 15
           },
           "zerolinecolor": "white",
           "zerolinewidth": 2
          }
         }
        },
        "title": {
         "text": "Georgia 2020 COVID Data: Total New Hospitilizations, Deaths, and COVID cases by County"
        },
        "xaxis": {
         "anchor": "y",
         "domain": [
          0,
          1
         ],
         "tickmode": "linear",
         "title": {
          "text": "Time (Month, Day, Year)"
         },
         "type": "category"
        },
        "yaxis": {
         "anchor": "x",
         "domain": [
          0,
          1
         ],
         "title": {
          "text": "Total Count"
         }
        }
       }
      }
     },
     "metadata": {},
     "output_type": "display_data"
    }
   ],
   "source": [
    "plotly7 = px.bar(dailySpecific, x='DATESTAMP_MOD_DAY', y='newHospandDeathCovid', color='COUNTY', title=\"Georgia 2020 COVID Data: Total New Hospitilizations, Deaths, and COVID cases by County\",\n",
    "labels={\n",
    "    \"DATESTAMP_MOD_DAY\" : \"Time (Month, Day, Year)\",\n",
    "    \"newHospandDeathCovid\" : \"Total Count\"\n",
    "}, \n",
    "barmode = 'group')\n",
    "\n",
    "plotly7.update_layout(\n",
    "    xaxis = dict(\n",
    "        tickmode = 'linear',\n",
    "        type='category'\n",
    "    )\n",
    ")\n",
    "plotly7.show()"
   ]
  }
 ],
 "metadata": {
  "interpreter": {
   "hash": "1578ab4350de2847703e98491769d5ca03ef91adb05a63e15a7daa3037c44ddf"
  },
  "kernelspec": {
   "display_name": "Python 3.9.12 ('base')",
   "language": "python",
   "name": "python3"
  },
  "language_info": {
   "codemirror_mode": {
    "name": "ipython",
    "version": 3
   },
   "file_extension": ".py",
   "mimetype": "text/x-python",
   "name": "python",
   "nbconvert_exporter": "python",
   "pygments_lexer": "ipython3",
   "version": "3.9.12"
  },
  "orig_nbformat": 4
 },
 "nbformat": 4,
 "nbformat_minor": 2
}
